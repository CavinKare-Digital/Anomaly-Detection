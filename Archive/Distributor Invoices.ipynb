{
 "cells": [
  {
   "cell_type": "markdown",
   "metadata": {},
   "source": [
    "# Account Receivables Data (Distributor data)"
   ]
  },
  {
   "cell_type": "code",
   "execution_count": 116,
   "metadata": {},
   "outputs": [],
   "source": [
    "import pandas as pd\n",
    "import numpy as np\n",
    "from datetime import timedelta"
   ]
  },
  {
   "cell_type": "code",
   "execution_count": 117,
   "metadata": {},
   "outputs": [],
   "source": [
    "pd.options.mode.chained_assignment = None #for not showing warning message \n",
    "pd.options.display.float_format = '{:,.4f}'.format #for setting thhe float format to this notebook"
   ]
  },
  {
   "cell_type": "code",
   "execution_count": 118,
   "metadata": {},
   "outputs": [],
   "source": [
    "data = pd.read_excel(r\"D:\\Analytics\\Undercutting\\South region - GT\\Data\\Distributor Invoices.xlsx\")"
   ]
  },
  {
   "cell_type": "code",
   "execution_count": 119,
   "metadata": {},
   "outputs": [
    {
     "data": {
      "text/plain": [
       "(104281, 17)"
      ]
     },
     "execution_count": 119,
     "metadata": {},
     "output_type": "execute_result"
    }
   ],
   "source": [
    "data.shape"
   ]
  },
  {
   "cell_type": "code",
   "execution_count": 120,
   "metadata": {},
   "outputs": [
    {
     "data": {
      "text/plain": [
       "Index(['Account', 'DocumentNo', 'Unnamed: 2', 'Doc..Date', 'Pstng Date',\n",
       "       'CCAr', 'BusA', 'Typ', 'S', 'DD', 'Amount in DC', 'Local Crcy Amt',\n",
       "       'Net Due Dt', 'Clearing', 'Text', 'LCurr', 'User Name'],\n",
       "      dtype='object')"
      ]
     },
     "execution_count": 120,
     "metadata": {},
     "output_type": "execute_result"
    }
   ],
   "source": [
    "data.columns =  data.columns.str.strip()\n",
    "data.columns"
   ]
  },
  {
   "cell_type": "code",
   "execution_count": 121,
   "metadata": {},
   "outputs": [
    {
     "data": {
      "text/plain": [
       "Account           float64\n",
       "DocumentNo        float64\n",
       "Unnamed: 2        float64\n",
       "Doc..Date          object\n",
       "Pstng Date         object\n",
       "CCAr               object\n",
       "BusA               object\n",
       "Typ                object\n",
       "S                 float64\n",
       "DD                float64\n",
       "Amount in DC      float64\n",
       "Local Crcy Amt    float64\n",
       "Net Due Dt         object\n",
       "Clearing           object\n",
       "Text               object\n",
       "LCurr              object\n",
       "User Name          object\n",
       "dtype: object"
      ]
     },
     "execution_count": 121,
     "metadata": {},
     "output_type": "execute_result"
    }
   ],
   "source": [
    "data.dtypes"
   ]
  },
  {
   "cell_type": "code",
   "execution_count": 122,
   "metadata": {},
   "outputs": [],
   "source": [
    "data[\"Net Due Dt\"]                   = pd.to_datetime(data[\"Net Due Dt\"],format='%d.%m.%Y')\n",
    "data[\"Clearing\"]                     = data[\"Clearing\"].fillna(\"14.04.2020\")\n",
    "data[\"Clearing\"]                     = pd.to_datetime(data[\"Clearing\"],format='%d.%m.%Y')\n",
    "data.drop(data[data[\"Account\"].isna()].index,axis =0,inplace=True)\n",
    "data[\"Account\"]                      = data[\"Account\"].astype(int)"
   ]
  },
  {
   "cell_type": "code",
   "execution_count": 123,
   "metadata": {},
   "outputs": [],
   "source": [
    "invoicedata                          = data[[\"Account\",\"Net Due Dt\",\"Clearing\",\"Amount in DC\"]]\n",
    "invoicedata                          = invoicedata[invoicedata[\"Net Due Dt\"] <= \"2020-03-31\"]\n",
    "invoicedata[\"days_diff\"]             = (data[\"Net Due Dt\"] - data[\"Clearing\"])/timedelta(days=1)\n",
    "invoicedata[\"No Grace Period\"]            = np.where(invoicedata[\"days_diff\"] <    0, \"Yes\", \"No\")\n",
    "invoicedata[\"Grace period - 30days\"]      = np.where(invoicedata[\"days_diff\"] <= -30, \"Yes\", \"No\")\n",
    "invoicedata[\"Grace period - 60days\"]      = np.where(invoicedata[\"days_diff\"] <= -60, \"Yes\", \"No\")\n",
    "invoicedata[\"Grace period - 90days\"]      = np.where(invoicedata[\"days_diff\"] <= -90, \"Yes\", \"No\")"
   ]
  },
  {
   "cell_type": "code",
   "execution_count": 124,
   "metadata": {
    "scrolled": true
   },
   "outputs": [
    {
     "data": {
      "text/html": [
       "<div>\n",
       "<style scoped>\n",
       "    .dataframe tbody tr th:only-of-type {\n",
       "        vertical-align: middle;\n",
       "    }\n",
       "\n",
       "    .dataframe tbody tr th {\n",
       "        vertical-align: top;\n",
       "    }\n",
       "\n",
       "    .dataframe thead th {\n",
       "        text-align: right;\n",
       "    }\n",
       "</style>\n",
       "<table border=\"1\" class=\"dataframe\">\n",
       "  <thead>\n",
       "    <tr style=\"text-align: right;\">\n",
       "      <th></th>\n",
       "      <th>Account</th>\n",
       "      <th>Net Due Dt</th>\n",
       "      <th>Clearing</th>\n",
       "      <th>Amount in DC</th>\n",
       "      <th>days_diff</th>\n",
       "      <th>No Grace Period</th>\n",
       "      <th>Grace period - 30days</th>\n",
       "      <th>Grace period - 60days</th>\n",
       "      <th>Grace period - 90days</th>\n",
       "    </tr>\n",
       "  </thead>\n",
       "  <tbody>\n",
       "    <tr>\n",
       "      <th>3</th>\n",
       "      <td>2000001</td>\n",
       "      <td>2020-03-30</td>\n",
       "      <td>2020-03-30</td>\n",
       "      <td>-697,775.2800</td>\n",
       "      <td>0.0000</td>\n",
       "      <td>No</td>\n",
       "      <td>No</td>\n",
       "      <td>No</td>\n",
       "      <td>No</td>\n",
       "    </tr>\n",
       "    <tr>\n",
       "      <th>4</th>\n",
       "      <td>2000001</td>\n",
       "      <td>2020-03-28</td>\n",
       "      <td>2020-03-28</td>\n",
       "      <td>-15,167.0100</td>\n",
       "      <td>0.0000</td>\n",
       "      <td>No</td>\n",
       "      <td>No</td>\n",
       "      <td>No</td>\n",
       "      <td>No</td>\n",
       "    </tr>\n",
       "    <tr>\n",
       "      <th>5</th>\n",
       "      <td>2000001</td>\n",
       "      <td>2020-03-28</td>\n",
       "      <td>2020-03-28</td>\n",
       "      <td>15,167.0100</td>\n",
       "      <td>0.0000</td>\n",
       "      <td>No</td>\n",
       "      <td>No</td>\n",
       "      <td>No</td>\n",
       "      <td>No</td>\n",
       "    </tr>\n",
       "    <tr>\n",
       "      <th>6</th>\n",
       "      <td>2000001</td>\n",
       "      <td>2020-03-26</td>\n",
       "      <td>2020-03-26</td>\n",
       "      <td>20,310.0000</td>\n",
       "      <td>0.0000</td>\n",
       "      <td>No</td>\n",
       "      <td>No</td>\n",
       "      <td>No</td>\n",
       "      <td>No</td>\n",
       "    </tr>\n",
       "    <tr>\n",
       "      <th>7</th>\n",
       "      <td>2000001</td>\n",
       "      <td>2020-03-26</td>\n",
       "      <td>2020-03-26</td>\n",
       "      <td>-20,310.0000</td>\n",
       "      <td>0.0000</td>\n",
       "      <td>No</td>\n",
       "      <td>No</td>\n",
       "      <td>No</td>\n",
       "      <td>No</td>\n",
       "    </tr>\n",
       "  </tbody>\n",
       "</table>\n",
       "</div>"
      ],
      "text/plain": [
       "   Account Net Due Dt   Clearing  Amount in DC  days_diff No Grace Period  \\\n",
       "3  2000001 2020-03-30 2020-03-30 -697,775.2800     0.0000              No   \n",
       "4  2000001 2020-03-28 2020-03-28  -15,167.0100     0.0000              No   \n",
       "5  2000001 2020-03-28 2020-03-28   15,167.0100     0.0000              No   \n",
       "6  2000001 2020-03-26 2020-03-26   20,310.0000     0.0000              No   \n",
       "7  2000001 2020-03-26 2020-03-26  -20,310.0000     0.0000              No   \n",
       "\n",
       "  Grace period - 30days Grace period - 60days Grace period - 90days  \n",
       "3                    No                    No                    No  \n",
       "4                    No                    No                    No  \n",
       "5                    No                    No                    No  \n",
       "6                    No                    No                    No  \n",
       "7                    No                    No                    No  "
      ]
     },
     "execution_count": 124,
     "metadata": {},
     "output_type": "execute_result"
    }
   ],
   "source": [
    "invoicedata.head(5)"
   ]
  },
  {
   "cell_type": "code",
   "execution_count": 125,
   "metadata": {},
   "outputs": [],
   "source": [
    "count_dist                    = invoicedata.groupby([\"Account\"]).agg(Count = (\"Account\",\"count\")).reset_index()\n",
    "days_0                        = invoicedata.groupby(\"Account\")[\"No Grace Period\"].apply(lambda x: (x == 'Yes').mean())\n",
    "days_0                        = pd.DataFrame(days_0).reset_index()\n",
    "days_30                       = invoicedata.groupby(\"Account\")[\"Grace period - 30days\"].apply(lambda x: (x == 'Yes').mean())\n",
    "days_30                       = pd.DataFrame(days_30).reset_index()\n",
    "# days_30[\"Less than 30days\"]   = days_30[\"Less than 30days\"] * 100\n",
    "days_60                       = invoicedata.groupby(\"Account\")[\"Grace period - 60days\"].apply(lambda x: (x == 'Yes').mean())\n",
    "days_60                       = pd.DataFrame(days_60).reset_index()\n",
    "# days_60[\"Less than 60days\"]   = days_60[\"Less than 60days\"] * 100\n",
    "days_90                       = invoicedata.groupby(\"Account\")[\"Grace period - 90days\"].apply(lambda x: (x == 'Yes').mean())\n",
    "days_90                       = pd.DataFrame(days_90).reset_index()\n",
    "# days_90[\"Less than 90days\"]   = days_90[\"Less than 90days\"] * 100\n",
    "dist_default                  = count_dist.merge(days_0,on=\"Account\").merge(days_30,on=\"Account\").merge(days_60,on=\"Account\").merge(days_90,on=\"Account\")"
   ]
  },
  {
   "cell_type": "code",
   "execution_count": 126,
   "metadata": {},
   "outputs": [
    {
     "data": {
      "text/html": [
       "<div>\n",
       "<style scoped>\n",
       "    .dataframe tbody tr th:only-of-type {\n",
       "        vertical-align: middle;\n",
       "    }\n",
       "\n",
       "    .dataframe tbody tr th {\n",
       "        vertical-align: top;\n",
       "    }\n",
       "\n",
       "    .dataframe thead th {\n",
       "        text-align: right;\n",
       "    }\n",
       "</style>\n",
       "<table border=\"1\" class=\"dataframe\">\n",
       "  <thead>\n",
       "    <tr style=\"text-align: right;\">\n",
       "      <th></th>\n",
       "      <th>Account</th>\n",
       "      <th>Count</th>\n",
       "      <th>No Grace Period</th>\n",
       "      <th>Grace period - 30days</th>\n",
       "      <th>Grace period - 60days</th>\n",
       "      <th>Grace period - 90days</th>\n",
       "    </tr>\n",
       "  </thead>\n",
       "  <tbody>\n",
       "    <tr>\n",
       "      <th>0</th>\n",
       "      <td>2000001</td>\n",
       "      <td>868</td>\n",
       "      <td>0.4090</td>\n",
       "      <td>0.0046</td>\n",
       "      <td>0.0023</td>\n",
       "      <td>0.0023</td>\n",
       "    </tr>\n",
       "    <tr>\n",
       "      <th>1</th>\n",
       "      <td>2000002</td>\n",
       "      <td>526</td>\n",
       "      <td>0.4316</td>\n",
       "      <td>0.0190</td>\n",
       "      <td>0.0076</td>\n",
       "      <td>0.0038</td>\n",
       "    </tr>\n",
       "  </tbody>\n",
       "</table>\n",
       "</div>"
      ],
      "text/plain": [
       "   Account  Count  No Grace Period  Grace period - 30days  \\\n",
       "0  2000001    868           0.4090                 0.0046   \n",
       "1  2000002    526           0.4316                 0.0190   \n",
       "\n",
       "   Grace period - 60days  Grace period - 90days  \n",
       "0                 0.0023                 0.0023  \n",
       "1                 0.0076                 0.0038  "
      ]
     },
     "execution_count": 126,
     "metadata": {},
     "output_type": "execute_result"
    }
   ],
   "source": [
    "dist_default.head(2)"
   ]
  },
  {
   "cell_type": "code",
   "execution_count": 127,
   "metadata": {},
   "outputs": [],
   "source": [
    "dist_default.to_excel(r\"D:\\Analytics\\Undercutting\\South region - GT\\Outfiles\\dist_default.xlsx\",index = False)"
   ]
  },
  {
   "cell_type": "code",
   "execution_count": 128,
   "metadata": {},
   "outputs": [],
   "source": [
    "invoicedata.to_excel(r\"D:\\Analytics\\Undercutting\\South region - GT\\Outfiles\\invoicedata.xlsx\",index = False)"
   ]
  },
  {
   "cell_type": "code",
   "execution_count": 129,
   "metadata": {},
   "outputs": [
    {
     "name": "stdout",
     "output_type": "stream",
     "text": [
      "Stored 'dist_default' (DataFrame)\n"
     ]
    }
   ],
   "source": [
    "%store dist_default"
   ]
  },
  {
   "cell_type": "code",
   "execution_count": 113,
   "metadata": {},
   "outputs": [
    {
     "data": {
      "text/plain": [
       "448"
      ]
     },
     "execution_count": 113,
     "metadata": {},
     "output_type": "execute_result"
    }
   ],
   "source": [
    "data[\"Account\"].nunique()"
   ]
  },
  {
   "cell_type": "code",
   "execution_count": null,
   "metadata": {},
   "outputs": [],
   "source": []
  }
 ],
 "metadata": {
  "kernelspec": {
   "display_name": "Python 3",
   "language": "python",
   "name": "python3"
  },
  "language_info": {
   "codemirror_mode": {
    "name": "ipython",
    "version": 3
   },
   "file_extension": ".py",
   "mimetype": "text/x-python",
   "name": "python",
   "nbconvert_exporter": "python",
   "pygments_lexer": "ipython3",
   "version": "3.7.5"
  }
 },
 "nbformat": 4,
 "nbformat_minor": 4
}
