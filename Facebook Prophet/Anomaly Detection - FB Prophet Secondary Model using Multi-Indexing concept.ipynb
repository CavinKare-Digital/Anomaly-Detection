{
 "cells": [
  {
   "cell_type": "markdown",
   "metadata": {},
   "source": [
    "# Secondary data - Anomaly detection (Scenario 2)"
   ]
  },
  {
   "cell_type": "code",
   "execution_count": 1,
   "metadata": {},
   "outputs": [],
   "source": [
    "from ckpackages import azsql         #Custom Package for Cavinkare\n",
    "from fbprophet import Prophet\n",
    "import numpy as np\n",
    "import pandas as pd\n",
    "import matplotlib.pyplot as plt\n",
    "import datetime as dt\n",
    "from dateutil.relativedelta import relativedelta\n",
    "%matplotlib inline"
   ]
  },
  {
   "cell_type": "markdown",
   "metadata": {},
   "source": [
    "# Data Import"
   ]
  },
  {
   "cell_type": "markdown",
   "metadata": {},
   "source": [
    "### Azure DW"
   ]
  },
  {
   "cell_type": "markdown",
   "metadata": {},
   "source": [
    "Extracting data for **top 20 distributors** of raw data with **interval width is 80%** and Anomaly importance is greater than 40%"
   ]
  },
  {
   "cell_type": "code",
   "execution_count": 2,
   "metadata": {},
   "outputs": [],
   "source": [
    "Query1 = \"\"\"\n",
    "            select\n",
    "                *\n",
    "                ,substring(Product_Hierarchy,1,8) as 'Code'\n",
    "                ,right(distcode,10) as 'Primary_Distcode'\n",
    "            from\n",
    "                [dbo].[V_AN_PC_UNDERCUTTING_SEC]\n",
    "            where\n",
    "                -- right(distcode,10) in\n",
    "                --    ('0002003037','0002002987','0002002748','0002003025','0002003023',\n",
    "                --     '0002002833','0002002838','0002002742','0002002898','0002002771',\n",
    "                --     '0002002835','0002002712','0002002745','0002002968','0002002909',\n",
    "                --     '0002002992','0002002795','0002002908','0002002973','0002002654')\n",
    "            -- and\n",
    "                substring(Product_Hierarchy,1,8) in ('06131253');\n",
    "         \"\"\""
   ]
  },
  {
   "cell_type": "markdown",
   "metadata": {},
   "source": [
    "### Secondary Data Input"
   ]
  },
  {
   "cell_type": "code",
   "execution_count": null,
   "metadata": {
    "scrolled": false
   },
   "outputs": [],
   "source": [
    "sec_data = azsql.callstatement(Query1)"
   ]
  },
  {
   "cell_type": "code",
   "execution_count": null,
   "metadata": {},
   "outputs": [],
   "source": [
    "sec_data.head(2)"
   ]
  },
  {
   "cell_type": "markdown",
   "metadata": {},
   "source": [
    "### Primary Data Output"
   ]
  },
  {
   "cell_type": "code",
   "execution_count": 152,
   "metadata": {},
   "outputs": [],
   "source": [
    "primary_output = pd.read_excel(r\"D:\\Analytics\\Undercutting\\Azure\\Output\\Raw_indica_east_80,90,95.xlsx\"\n",
    "                               ,sheet_name = \"Sheet1\"\n",
    "                               ,converters ={\"Distributor_Code\" : str,\n",
    "                                             \"Code\"             : str})"
   ]
  },
  {
   "cell_type": "code",
   "execution_count": 153,
   "metadata": {
    "scrolled": true
   },
   "outputs": [
    {
     "data": {
      "text/html": [
       "<div>\n",
       "<style scoped>\n",
       "    .dataframe tbody tr th:only-of-type {\n",
       "        vertical-align: middle;\n",
       "    }\n",
       "\n",
       "    .dataframe tbody tr th {\n",
       "        vertical-align: top;\n",
       "    }\n",
       "\n",
       "    .dataframe thead th {\n",
       "        text-align: right;\n",
       "    }\n",
       "</style>\n",
       "<table border=\"1\" class=\"dataframe\">\n",
       "  <thead>\n",
       "    <tr style=\"text-align: right;\">\n",
       "      <th></th>\n",
       "      <th>Distributor_Code</th>\n",
       "      <th>Code</th>\n",
       "      <th>Invoice date</th>\n",
       "      <th>Quantity</th>\n",
       "      <th>Yhat_80</th>\n",
       "      <th>Yhat_lower_80</th>\n",
       "      <th>Yhat_upper_80</th>\n",
       "      <th>Anomaly_80</th>\n",
       "      <th>Importance_80</th>\n",
       "      <th>Yhat_90</th>\n",
       "      <th>Yhat_lower_90</th>\n",
       "      <th>Yhat_upper_90</th>\n",
       "      <th>Anomaly_90</th>\n",
       "      <th>Importance_90</th>\n",
       "      <th>Yhat_95</th>\n",
       "      <th>Yhat_lower_95</th>\n",
       "      <th>Yhat_upper_95</th>\n",
       "      <th>Anomaly_95</th>\n",
       "      <th>Importance_95</th>\n",
       "    </tr>\n",
       "  </thead>\n",
       "  <tbody>\n",
       "    <tr>\n",
       "      <th>0</th>\n",
       "      <td>0002002711</td>\n",
       "      <td>06131253</td>\n",
       "      <td>2020-03-01</td>\n",
       "      <td>1</td>\n",
       "      <td>31.501735</td>\n",
       "      <td>9.124488</td>\n",
       "      <td>56.076439</td>\n",
       "      <td>-1</td>\n",
       "      <td>0.890405</td>\n",
       "      <td>31.501735</td>\n",
       "      <td>4.666851</td>\n",
       "      <td>59.755710</td>\n",
       "      <td>-1</td>\n",
       "      <td>0.785723</td>\n",
       "      <td>31.501735</td>\n",
       "      <td>-2.950335</td>\n",
       "      <td>66.342160</td>\n",
       "      <td>0</td>\n",
       "      <td>0.0</td>\n",
       "    </tr>\n",
       "    <tr>\n",
       "      <th>1</th>\n",
       "      <td>0002002976</td>\n",
       "      <td>06131253</td>\n",
       "      <td>2018-08-01</td>\n",
       "      <td>1</td>\n",
       "      <td>21.938231</td>\n",
       "      <td>5.848420</td>\n",
       "      <td>36.956259</td>\n",
       "      <td>-1</td>\n",
       "      <td>0.829014</td>\n",
       "      <td>21.938231</td>\n",
       "      <td>1.518948</td>\n",
       "      <td>44.035301</td>\n",
       "      <td>-1</td>\n",
       "      <td>0.341650</td>\n",
       "      <td>21.938231</td>\n",
       "      <td>-3.431265</td>\n",
       "      <td>47.273501</td>\n",
       "      <td>0</td>\n",
       "      <td>0.0</td>\n",
       "    </tr>\n",
       "  </tbody>\n",
       "</table>\n",
       "</div>"
      ],
      "text/plain": [
       "  Distributor_Code      Code Invoice date  Quantity    Yhat_80  Yhat_lower_80  \\\n",
       "0       0002002711  06131253   2020-03-01         1  31.501735       9.124488   \n",
       "1       0002002976  06131253   2018-08-01         1  21.938231       5.848420   \n",
       "\n",
       "   Yhat_upper_80  Anomaly_80  Importance_80    Yhat_90  Yhat_lower_90  \\\n",
       "0      56.076439          -1       0.890405  31.501735       4.666851   \n",
       "1      36.956259          -1       0.829014  21.938231       1.518948   \n",
       "\n",
       "   Yhat_upper_90  Anomaly_90  Importance_90    Yhat_95  Yhat_lower_95  \\\n",
       "0      59.755710          -1       0.785723  31.501735      -2.950335   \n",
       "1      44.035301          -1       0.341650  21.938231      -3.431265   \n",
       "\n",
       "   Yhat_upper_95  Anomaly_95  Importance_95  \n",
       "0      66.342160           0            0.0  \n",
       "1      47.273501           0            0.0  "
      ]
     },
     "execution_count": 153,
     "metadata": {},
     "output_type": "execute_result"
    }
   ],
   "source": [
    "primary_output.head(2)"
   ]
  },
  {
   "cell_type": "code",
   "execution_count": 289,
   "metadata": {},
   "outputs": [
    {
     "name": "stderr",
     "output_type": "stream",
     "text": [
      "C:\\Users\\DELL\\Anaconda3\\lib\\site-packages\\pandas\\core\\indexing.py:965: SettingWithCopyWarning: \n",
      "A value is trying to be set on a copy of a slice from a DataFrame.\n",
      "Try using .loc[row_indexer,col_indexer] = value instead\n",
      "\n",
      "See the caveats in the documentation: https://pandas.pydata.org/pandas-docs/stable/user_guide/indexing.html#returning-a-view-versus-a-copy\n",
      "  self.obj[item] = s\n"
     ]
    }
   ],
   "source": [
    "anomaly_dist             = primary_output[  (primary_output[\"Importance_80\"] >= 0.4) \n",
    "                                          & (primary_output[\"Anomaly_80\"]    == 1)\n",
    "                                          & (primary_output[\"Invoice date\"]   > '2019-04-01')]\n",
    "\n",
    "anomaly_dist.loc[:,\"Quantity\"] = anomaly_dist.loc[:,\"Quantity\"]*384\n",
    "\n",
    "anomaly_dist = anomaly_dist.loc[:,(\"Distributor_Code\"\n",
    "                                    ,\"Code\"\n",
    "                                    ,\"Invoice date\"\n",
    "                                    ,\"Quantity\"\n",
    "                                    ,\"Anomaly_80\"\n",
    "                                    ,\"Importance_80\")].reset_index(drop = True).copy()"
   ]
  },
  {
   "cell_type": "code",
   "execution_count": 290,
   "metadata": {},
   "outputs": [
    {
     "data": {
      "text/html": [
       "<div>\n",
       "<style scoped>\n",
       "    .dataframe tbody tr th:only-of-type {\n",
       "        vertical-align: middle;\n",
       "    }\n",
       "\n",
       "    .dataframe tbody tr th {\n",
       "        vertical-align: top;\n",
       "    }\n",
       "\n",
       "    .dataframe thead th {\n",
       "        text-align: right;\n",
       "    }\n",
       "</style>\n",
       "<table border=\"1\" class=\"dataframe\">\n",
       "  <thead>\n",
       "    <tr style=\"text-align: right;\">\n",
       "      <th></th>\n",
       "      <th>Distributor_Code</th>\n",
       "      <th>Code</th>\n",
       "      <th>Invoice date</th>\n",
       "      <th>Quantity</th>\n",
       "      <th>Anomaly_80</th>\n",
       "      <th>Importance_80</th>\n",
       "    </tr>\n",
       "  </thead>\n",
       "  <tbody>\n",
       "    <tr>\n",
       "      <th>0</th>\n",
       "      <td>0002003037</td>\n",
       "      <td>06131253</td>\n",
       "      <td>2020-05-01</td>\n",
       "      <td>24960</td>\n",
       "      <td>1</td>\n",
       "      <td>0.527845</td>\n",
       "    </tr>\n",
       "    <tr>\n",
       "      <th>1</th>\n",
       "      <td>0002002987</td>\n",
       "      <td>06131253</td>\n",
       "      <td>2020-01-01</td>\n",
       "      <td>4224</td>\n",
       "      <td>1</td>\n",
       "      <td>0.521954</td>\n",
       "    </tr>\n",
       "    <tr>\n",
       "      <th>2</th>\n",
       "      <td>0002003025</td>\n",
       "      <td>06131253</td>\n",
       "      <td>2020-06-01</td>\n",
       "      <td>65280</td>\n",
       "      <td>1</td>\n",
       "      <td>0.502965</td>\n",
       "    </tr>\n",
       "    <tr>\n",
       "      <th>3</th>\n",
       "      <td>0002002742</td>\n",
       "      <td>06131253</td>\n",
       "      <td>2020-06-01</td>\n",
       "      <td>76800</td>\n",
       "      <td>1</td>\n",
       "      <td>0.469845</td>\n",
       "    </tr>\n",
       "    <tr>\n",
       "      <th>4</th>\n",
       "      <td>0002002898</td>\n",
       "      <td>06131253</td>\n",
       "      <td>2019-06-01</td>\n",
       "      <td>8448</td>\n",
       "      <td>1</td>\n",
       "      <td>0.464479</td>\n",
       "    </tr>\n",
       "    <tr>\n",
       "      <th>5</th>\n",
       "      <td>0002002835</td>\n",
       "      <td>06131253</td>\n",
       "      <td>2020-06-01</td>\n",
       "      <td>48384</td>\n",
       "      <td>1</td>\n",
       "      <td>0.460172</td>\n",
       "    </tr>\n",
       "    <tr>\n",
       "      <th>6</th>\n",
       "      <td>0002002968</td>\n",
       "      <td>06131253</td>\n",
       "      <td>2020-05-01</td>\n",
       "      <td>26880</td>\n",
       "      <td>1</td>\n",
       "      <td>0.434320</td>\n",
       "    </tr>\n",
       "    <tr>\n",
       "      <th>7</th>\n",
       "      <td>0002002909</td>\n",
       "      <td>06131253</td>\n",
       "      <td>2019-06-01</td>\n",
       "      <td>4224</td>\n",
       "      <td>1</td>\n",
       "      <td>0.434015</td>\n",
       "    </tr>\n",
       "    <tr>\n",
       "      <th>8</th>\n",
       "      <td>0002002992</td>\n",
       "      <td>06131253</td>\n",
       "      <td>2019-07-01</td>\n",
       "      <td>5760</td>\n",
       "      <td>1</td>\n",
       "      <td>0.412889</td>\n",
       "    </tr>\n",
       "    <tr>\n",
       "      <th>9</th>\n",
       "      <td>0002002973</td>\n",
       "      <td>06131253</td>\n",
       "      <td>2019-05-01</td>\n",
       "      <td>6528</td>\n",
       "      <td>1</td>\n",
       "      <td>0.406886</td>\n",
       "    </tr>\n",
       "  </tbody>\n",
       "</table>\n",
       "</div>"
      ],
      "text/plain": [
       "  Distributor_Code      Code Invoice date  Quantity  Anomaly_80  Importance_80\n",
       "0       0002003037  06131253   2020-05-01     24960           1       0.527845\n",
       "1       0002002987  06131253   2020-01-01      4224           1       0.521954\n",
       "2       0002003025  06131253   2020-06-01     65280           1       0.502965\n",
       "3       0002002742  06131253   2020-06-01     76800           1       0.469845\n",
       "4       0002002898  06131253   2019-06-01      8448           1       0.464479\n",
       "5       0002002835  06131253   2020-06-01     48384           1       0.460172\n",
       "6       0002002968  06131253   2020-05-01     26880           1       0.434320\n",
       "7       0002002909  06131253   2019-06-01      4224           1       0.434015\n",
       "8       0002002992  06131253   2019-07-01      5760           1       0.412889\n",
       "9       0002002973  06131253   2019-05-01      6528           1       0.406886"
      ]
     },
     "execution_count": 290,
     "metadata": {},
     "output_type": "execute_result"
    }
   ],
   "source": [
    "anomaly_dist"
   ]
  },
  {
   "cell_type": "code",
   "execution_count": 173,
   "metadata": {},
   "outputs": [],
   "source": [
    "Dist_Retailer     = sec_data[[\"Primary_Distcode\",\"Actdte\",\"totqty\"]]\n",
    "Dist_Retailer     = Dist_Retailer.groupby(['Primary_Distcode','Actdte'])['totqty'].sum().reset_index()"
   ]
  },
  {
   "cell_type": "code",
   "execution_count": 174,
   "metadata": {
    "scrolled": true
   },
   "outputs": [
    {
     "name": "stdout",
     "output_type": "stream",
     "text": [
      "We are analysing the top 20 distributors anomaly points with secondary data\n"
     ]
    }
   ],
   "source": [
    "print(\"We are analysing the top {} distributors anomaly points with secondary data\"\n",
    "      .format(Dist_Retailer[\"Primary_Distcode\"].nunique()))"
   ]
  },
  {
   "cell_type": "code",
   "execution_count": 245,
   "metadata": {},
   "outputs": [
    {
     "data": {
      "text/plain": [
       "20976.0"
      ]
     },
     "execution_count": 245,
     "metadata": {},
     "output_type": "execute_result"
    }
   ],
   "source": [
    "Dist_Retailer[(Dist_Retailer[\"Primary_Distcode\"] == anomaly_dist.iloc[0,0]) \n",
    "              & (Dist_Retailer[\"Actdte\"] >= anomaly_dist.iloc[0,2]) \n",
    "              & (Dist_Retailer[\"Actdte\"] <= anomaly_dist.iloc[0,2] + relativedelta(months=1))\n",
    "             ][\"totqty\"].sum()"
   ]
  },
  {
   "cell_type": "code",
   "execution_count": 291,
   "metadata": {},
   "outputs": [],
   "source": [
    "for index,rows in anomaly_dist.iterrows():\n",
    "#     print (index) #Index\n",
    "#     print(rows[0]) #distcode\n",
    "#     print(rows[2]) #invoice date\n",
    "    anomaly_dist.loc[index,\"Sum of Quantity sold to retailers in next 60 days\"] = \\\n",
    "                Dist_Retailer[(Dist_Retailer[\"Primary_Distcode\"] == anomaly_dist.iloc[index,0]) \\\n",
    "                            & (Dist_Retailer[\"Actdte\"]           >= anomaly_dist.iloc[index,2]) \\\n",
    "                            & (Dist_Retailer[\"Actdte\"]           <= anomaly_dist.iloc[index,2] + relativedelta(months=1))]\\\n",
    "                    [\"totqty\"].sum()"
   ]
  },
  {
   "cell_type": "code",
   "execution_count": 294,
   "metadata": {},
   "outputs": [],
   "source": [
    "anomaly_dist[\"Difference\"] = np.where((anomaly_dist[\"Quantity\"] > anomaly_dist[\"Sum of Quantity sold to retailers in next 60 days\"])\n",
    "                                                 ,anomaly_dist[\"Quantity\"] - anomaly_dist[\"Sum of Quantity sold to retailers in next 60 days\"]\n",
    "                                                 ,'NaN')"
   ]
  },
  {
   "cell_type": "code",
   "execution_count": 306,
   "metadata": {},
   "outputs": [],
   "source": [
    "anomaly_dist[\"Percent of goods sold to retailers from distributors\"] = np.where((anomaly_dist[\"Quantity\"] > anomaly_dist[\"Sum of Quantity sold to retailers in next 60 days\"])\n",
    "                ,1-((anomaly_dist[\"Quantity\"] - anomaly_dist[\"Sum of Quantity sold to retailers in next 60 days\"])/anomaly_dist[\"Quantity\"])\n",
    "                ,'NaN')"
   ]
  },
  {
   "cell_type": "code",
   "execution_count": 307,
   "metadata": {},
   "outputs": [
    {
     "data": {
      "text/html": [
       "<div>\n",
       "<style scoped>\n",
       "    .dataframe tbody tr th:only-of-type {\n",
       "        vertical-align: middle;\n",
       "    }\n",
       "\n",
       "    .dataframe tbody tr th {\n",
       "        vertical-align: top;\n",
       "    }\n",
       "\n",
       "    .dataframe thead th {\n",
       "        text-align: right;\n",
       "    }\n",
       "</style>\n",
       "<table border=\"1\" class=\"dataframe\">\n",
       "  <thead>\n",
       "    <tr style=\"text-align: right;\">\n",
       "      <th></th>\n",
       "      <th>Distributor_Code</th>\n",
       "      <th>Code</th>\n",
       "      <th>Invoice date</th>\n",
       "      <th>Quantity</th>\n",
       "      <th>Anomaly_80</th>\n",
       "      <th>Importance_80</th>\n",
       "      <th>Sum of Quantity sold to retailers in next 60 days</th>\n",
       "      <th>Difference</th>\n",
       "      <th>Percent of goods sold to retailers from distributors</th>\n",
       "    </tr>\n",
       "  </thead>\n",
       "  <tbody>\n",
       "    <tr>\n",
       "      <th>0</th>\n",
       "      <td>0002003037</td>\n",
       "      <td>06131253</td>\n",
       "      <td>2020-05-01</td>\n",
       "      <td>24960</td>\n",
       "      <td>1</td>\n",
       "      <td>0.527845</td>\n",
       "      <td>20976.0</td>\n",
       "      <td>3984.0</td>\n",
       "      <td>0.8403846153846154</td>\n",
       "    </tr>\n",
       "    <tr>\n",
       "      <th>1</th>\n",
       "      <td>0002002987</td>\n",
       "      <td>06131253</td>\n",
       "      <td>2020-01-01</td>\n",
       "      <td>4224</td>\n",
       "      <td>1</td>\n",
       "      <td>0.521954</td>\n",
       "      <td>5376.0</td>\n",
       "      <td>Nan</td>\n",
       "      <td>NaN</td>\n",
       "    </tr>\n",
       "    <tr>\n",
       "      <th>2</th>\n",
       "      <td>0002003025</td>\n",
       "      <td>06131253</td>\n",
       "      <td>2020-06-01</td>\n",
       "      <td>65280</td>\n",
       "      <td>1</td>\n",
       "      <td>0.502965</td>\n",
       "      <td>25344.0</td>\n",
       "      <td>39936.0</td>\n",
       "      <td>0.388235294117647</td>\n",
       "    </tr>\n",
       "    <tr>\n",
       "      <th>3</th>\n",
       "      <td>0002002742</td>\n",
       "      <td>06131253</td>\n",
       "      <td>2020-06-01</td>\n",
       "      <td>76800</td>\n",
       "      <td>1</td>\n",
       "      <td>0.469845</td>\n",
       "      <td>81408.0</td>\n",
       "      <td>Nan</td>\n",
       "      <td>NaN</td>\n",
       "    </tr>\n",
       "    <tr>\n",
       "      <th>4</th>\n",
       "      <td>0002002898</td>\n",
       "      <td>06131253</td>\n",
       "      <td>2019-06-01</td>\n",
       "      <td>8448</td>\n",
       "      <td>1</td>\n",
       "      <td>0.464479</td>\n",
       "      <td>11136.0</td>\n",
       "      <td>Nan</td>\n",
       "      <td>NaN</td>\n",
       "    </tr>\n",
       "    <tr>\n",
       "      <th>5</th>\n",
       "      <td>0002002835</td>\n",
       "      <td>06131253</td>\n",
       "      <td>2020-06-01</td>\n",
       "      <td>48384</td>\n",
       "      <td>1</td>\n",
       "      <td>0.460172</td>\n",
       "      <td>40704.0</td>\n",
       "      <td>7680.0</td>\n",
       "      <td>0.8412698412698413</td>\n",
       "    </tr>\n",
       "    <tr>\n",
       "      <th>6</th>\n",
       "      <td>0002002968</td>\n",
       "      <td>06131253</td>\n",
       "      <td>2020-05-01</td>\n",
       "      <td>26880</td>\n",
       "      <td>1</td>\n",
       "      <td>0.434320</td>\n",
       "      <td>38016.0</td>\n",
       "      <td>Nan</td>\n",
       "      <td>NaN</td>\n",
       "    </tr>\n",
       "    <tr>\n",
       "      <th>7</th>\n",
       "      <td>0002002909</td>\n",
       "      <td>06131253</td>\n",
       "      <td>2019-06-01</td>\n",
       "      <td>4224</td>\n",
       "      <td>1</td>\n",
       "      <td>0.434015</td>\n",
       "      <td>4470.0</td>\n",
       "      <td>Nan</td>\n",
       "      <td>NaN</td>\n",
       "    </tr>\n",
       "    <tr>\n",
       "      <th>8</th>\n",
       "      <td>0002002992</td>\n",
       "      <td>06131253</td>\n",
       "      <td>2019-07-01</td>\n",
       "      <td>5760</td>\n",
       "      <td>1</td>\n",
       "      <td>0.412889</td>\n",
       "      <td>5760.0</td>\n",
       "      <td>Nan</td>\n",
       "      <td>NaN</td>\n",
       "    </tr>\n",
       "    <tr>\n",
       "      <th>9</th>\n",
       "      <td>0002002973</td>\n",
       "      <td>06131253</td>\n",
       "      <td>2019-05-01</td>\n",
       "      <td>6528</td>\n",
       "      <td>1</td>\n",
       "      <td>0.406886</td>\n",
       "      <td>6912.0</td>\n",
       "      <td>Nan</td>\n",
       "      <td>NaN</td>\n",
       "    </tr>\n",
       "  </tbody>\n",
       "</table>\n",
       "</div>"
      ],
      "text/plain": [
       "  Distributor_Code      Code Invoice date  Quantity  Anomaly_80  \\\n",
       "0       0002003037  06131253   2020-05-01     24960           1   \n",
       "1       0002002987  06131253   2020-01-01      4224           1   \n",
       "2       0002003025  06131253   2020-06-01     65280           1   \n",
       "3       0002002742  06131253   2020-06-01     76800           1   \n",
       "4       0002002898  06131253   2019-06-01      8448           1   \n",
       "5       0002002835  06131253   2020-06-01     48384           1   \n",
       "6       0002002968  06131253   2020-05-01     26880           1   \n",
       "7       0002002909  06131253   2019-06-01      4224           1   \n",
       "8       0002002992  06131253   2019-07-01      5760           1   \n",
       "9       0002002973  06131253   2019-05-01      6528           1   \n",
       "\n",
       "   Importance_80  Sum of Quantity sold to retailers in next 60 days  \\\n",
       "0       0.527845                                            20976.0   \n",
       "1       0.521954                                             5376.0   \n",
       "2       0.502965                                            25344.0   \n",
       "3       0.469845                                            81408.0   \n",
       "4       0.464479                                            11136.0   \n",
       "5       0.460172                                            40704.0   \n",
       "6       0.434320                                            38016.0   \n",
       "7       0.434015                                             4470.0   \n",
       "8       0.412889                                             5760.0   \n",
       "9       0.406886                                             6912.0   \n",
       "\n",
       "  Difference Percent of goods sold to retailers from distributors  \n",
       "0     3984.0                                 0.8403846153846154    \n",
       "1        Nan                                                NaN    \n",
       "2    39936.0                                  0.388235294117647    \n",
       "3        Nan                                                NaN    \n",
       "4        Nan                                                NaN    \n",
       "5     7680.0                                 0.8412698412698413    \n",
       "6        Nan                                                NaN    \n",
       "7        Nan                                                NaN    \n",
       "8        Nan                                                NaN    \n",
       "9        Nan                                                NaN    "
      ]
     },
     "execution_count": 307,
     "metadata": {},
     "output_type": "execute_result"
    }
   ],
   "source": [
    "anomaly_dist"
   ]
  },
  {
   "cell_type": "code",
   "execution_count": null,
   "metadata": {},
   "outputs": [],
   "source": []
  }
 ],
 "metadata": {
  "kernelspec": {
   "display_name": "Python 3",
   "language": "python",
   "name": "python3"
  },
  "language_info": {
   "codemirror_mode": {
    "name": "ipython",
    "version": 3
   },
   "file_extension": ".py",
   "mimetype": "text/x-python",
   "name": "python",
   "nbconvert_exporter": "python",
   "pygments_lexer": "ipython3",
   "version": "3.8.3"
  }
 },
 "nbformat": 4,
 "nbformat_minor": 4
}
