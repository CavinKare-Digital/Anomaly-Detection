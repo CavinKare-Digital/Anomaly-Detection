{
 "cells": [
  {
   "cell_type": "code",
   "execution_count": 1,
   "metadata": {},
   "outputs": [],
   "source": [
    "from ckpackages import azsql \n",
    "import pyodbc\n",
    "import numpy as np\n",
    "import pandas as pd\n",
    "from fbprophet import Prophet"
   ]
  },
  {
   "cell_type": "code",
   "execution_count": 3,
   "metadata": {},
   "outputs": [],
   "source": [
    "import warnings\n",
    "warnings.filterwarnings(\"ignore\", category=RuntimeWarning) \n",
    "import logging\n",
    "logging.getLogger('fbprophet').setLevel(logging.ERROR)"
   ]
  },
  {
   "cell_type": "code",
   "execution_count": 4,
   "metadata": {},
   "outputs": [],
   "source": [
    "pd.options.mode.chained_assignment = None"
   ]
  },
  {
   "cell_type": "code",
   "execution_count": 2,
   "metadata": {},
   "outputs": [],
   "source": [
    "Query = \"\"\"select *,substring(Product_Hierarchy,1,8) as 'Code'\n",
    "            from V_AN_PC_UNDERCUTTING_PRI\n",
    "            where region = 'East'\n",
    "            and substring(Product_Hierarchy,1,8) in ('06131253','06131254') ;\"\"\"\n",
    "pri_data = azsql.callstatement(Query)"
   ]
  },
  {
   "cell_type": "markdown",
   "metadata": {},
   "source": [
    "## Data Cleaning"
   ]
  },
  {
   "cell_type": "code",
   "execution_count": 6,
   "metadata": {},
   "outputs": [],
   "source": [
    "Actual_data = pd.read_excel(r\"E:\\0001_Studies\\Undercutting\\Default Actdte.xlsx\")\n",
    "Actual_data['Actdte'] = Actual_data['Actdte'].dt.strftime('%Y-%m-%d')"
   ]
  },
  {
   "cell_type": "code",
   "execution_count": 7,
   "metadata": {},
   "outputs": [],
   "source": [
    "Distributor = pri_data\n",
    "Distributor = Distributor[['Distributor_Code','Code','Actdte','Billing_Qty']]"
   ]
  },
  {
   "cell_type": "code",
   "execution_count": 8,
   "metadata": {},
   "outputs": [],
   "source": [
    "Distributor['Actdte'] = Distributor['Actdte'].dt.strftime('%Y-%m-%d')\n",
    "Distributor     = Distributor.groupby(['Distributor_Code','Code','Actdte'])[\"Billing_Qty\"].sum().reset_index()"
   ]
  },
  {
   "cell_type": "markdown",
   "metadata": {},
   "source": [
    "## Removing the rows with single entries "
   ]
  },
  {
   "cell_type": "code",
   "execution_count": 9,
   "metadata": {},
   "outputs": [],
   "source": [
    "rmv_single_rows = Distributor.groupby([\"Distributor_Code\",\"Code\"]).agg(Count = (\"Actdte\",\"count\")).reset_index()\n",
    "rmv_single_rows = rmv_single_rows[rmv_single_rows[\"Count\"] == 1]\n",
    "Distributor_Clean = pd.merge(Distributor,rmv_single_rows,left_on = ['Distributor_Code', 'Code'],right_on=['Distributor_Code', 'Code'],how = \"left\")\n",
    "Distributor_Clean = Distributor_Clean.fillna(2)\n",
    "Distributor_Clean = Distributor_Clean[Distributor_Clean[\"Count\"] > 1]\n",
    "Distributor = Distributor_Clean[['Distributor_Code','Code','Actdte','Billing_Qty']].copy()"
   ]
  },
  {
   "cell_type": "markdown",
   "metadata": {},
   "source": [
    "## FB Prophet Model"
   ]
  },
  {
   "cell_type": "code",
   "execution_count": 10,
   "metadata": {},
   "outputs": [],
   "source": [
    "def fit_predict_model(dataframe,interval_width = 0.99, changepoint_range = 0.8):\n",
    "    \n",
    "    m = Prophet(daily_seasonality = False, \n",
    "                yearly_seasonality = False, \n",
    "                weekly_seasonality = False,\n",
    "                seasonality_mode = 'multiplicative', \n",
    "                interval_width = interval_width,\n",
    "                changepoint_range = changepoint_range)\n",
    "    \n",
    "    m = m.fit(dataframe)\n",
    "    forecast = m.predict(dataframe)\n",
    "    forecast['y'] = dataframe['y'].reset_index(drop = True)\n",
    "#     mypath = r'E:\\0001_Studies\\Undercutting\\output\\Indica\\Indica_graphs\\Plot_'+k+'-'+v1+'-'+v2+'.png'\n",
    "#     myplot = m.plot(forecast).savefig(mypath)    \n",
    "    return forecast"
   ]
  },
  {
   "cell_type": "code",
   "execution_count": 11,
   "metadata": {},
   "outputs": [],
   "source": [
    "def detect_anomalies(forecast):\n",
    "    forecasted = forecast[['ds','trend', 'yhat', 'yhat_lower', 'yhat_upper', 'y']].copy()\n",
    "    #forecast['fact'] = df['y']\n",
    "\n",
    "    forecasted['anomaly'] = 0\n",
    "    forecasted.loc[forecasted['y'] > forecasted['yhat_upper'], 'anomaly'] = 1\n",
    "    forecasted.loc[forecasted['y'] < forecasted['yhat_lower'], 'anomaly'] = -1\n",
    "\n",
    "    #anomaly importances\n",
    "    forecasted['importance'] = 0\n",
    "    forecasted.loc[forecasted['anomaly'] ==1, 'importance'] = \\\n",
    "        (forecasted['y'] - forecasted['yhat_upper'])/forecast['y']\n",
    "    forecasted.loc[forecasted['anomaly'] ==-1, 'importance'] = \\\n",
    "        (forecasted['yhat_lower'] - forecasted['y'])/forecast['y']\n",
    "    \n",
    "    return forecasted"
   ]
  },
  {
   "cell_type": "markdown",
   "metadata": {},
   "source": [
    "## Creating a Dictionary with Distributor Code and Product Code "
   ]
  },
  {
   "cell_type": "code",
   "execution_count": 16,
   "metadata": {},
   "outputs": [
    {
     "name": "stdout",
     "output_type": "stream",
     "text": [
      "Wall time: 83 ms\n"
     ]
    }
   ],
   "source": [
    "%%time\n",
    "rmv_single_rows = Distributor.groupby([\"Distributor_Code\",\"Code\"]).agg(Count = (\"Actdte\",\"count\")).reset_index()\n",
    "test1 = rmv_single_rows.groupby([\"Distributor_Code\"])[\"Code\"].apply(lambda x: x.tolist())\n",
    "test1 = test1.to_dict()"
   ]
  },
  {
   "cell_type": "markdown",
   "metadata": {},
   "source": [
    "## Matching Dist Code and Prod Code with Original Dataframe"
   ]
  },
  {
   "cell_type": "code",
   "execution_count": null,
   "metadata": {},
   "outputs": [],
   "source": [
    "%%time\n",
    "\n",
    "# initialize dictionary \n",
    "output = {} \n",
    "final_dataset = pd.DataFrame()\n",
    "\n",
    "for key in test1:\n",
    "    for item in test1[key]:\n",
    "        #print(key,\" \",item)\n",
    "        temp = Distributor[(Distributor['Distributor_Code']==key)&(Distributor['Code']==item)][['Actdte','Billing_Qty']]\n",
    "        \n",
    "        temp_new = pd.merge(Actual_data, temp, how ='left', on=['Actdte'])\n",
    "        temp_new.fillna(0,inplace =True)\n",
    "        temp_new = temp_new.rename(columns = {\"Actdte\" : \"ds\",\"Billing_Qty\":\"y\"})\n",
    "\n",
    "        pred = fit_predict_model(temp_new)\n",
    "        anomaly = detect_anomalies(pred)\n",
    "\n",
    "        anomaly['Code'] = np.repeat(str(item),len(anomaly))\n",
    "        anomaly['Distributor_Code'] = np.repeat(str(key),len(anomaly))\n",
    "\n",
    "        #test1.setdefault(k,[]).append(anomaly)      \n",
    "        final_dataset = final_dataset.append(anomaly)"
   ]
  },
  {
   "cell_type": "markdown",
   "metadata": {},
   "source": [
    "#### New Wall Time 19 min 42 sec"
   ]
  },
  {
   "cell_type": "code",
   "execution_count": null,
   "metadata": {},
   "outputs": [],
   "source": [
    "final_dataset"
   ]
  },
  {
   "cell_type": "code",
   "execution_count": 19,
   "metadata": {},
   "outputs": [],
   "source": [
    "final_dataset.to_csv(r'E:\\0001_Studies\\Undercutting\\output\\Indica\\FaceBookProphet-v2_output.csv')"
   ]
  },
  {
   "cell_type": "code",
   "execution_count": null,
   "metadata": {},
   "outputs": [],
   "source": []
  }
 ],
 "metadata": {
  "kernelspec": {
   "display_name": "Python 3",
   "language": "python",
   "name": "python3"
  },
  "language_info": {
   "codemirror_mode": {
    "name": "ipython",
    "version": 3
   },
   "file_extension": ".py",
   "mimetype": "text/x-python",
   "name": "python",
   "nbconvert_exporter": "python",
   "pygments_lexer": "ipython3",
   "version": "3.7.5"
  }
 },
 "nbformat": 4,
 "nbformat_minor": 4
}
