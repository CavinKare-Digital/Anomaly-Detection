{
 "cells": [
  {
   "cell_type": "markdown",
   "metadata": {},
   "source": [
    "# Facebook Prophet"
   ]
  },
  {
   "cell_type": "markdown",
   "metadata": {},
   "source": [
    "### Anomaly Detection for Indica Powder in East Region - Primary Data"
   ]
  },
  {
   "cell_type": "markdown",
   "metadata": {},
   "source": [
    "This Model can detect anomalies for each distributor, based on his buying behaviour.      \n",
    "\n",
    "**Data Source**\n",
    "1. Azure Data Warehouse\n",
    "2. Excel - ACTDTE for merging the dates for no data.\n",
    "\n",
    "**Model Design**\n",
    "1. Taking the raw data from Azure database.           \n",
    "2. Grouping the number of items(**Billing_Qty**) bought by distributor for each month.            \n",
    "3. Imputing Zeroes for the month where there was no purchase.                    \n",
    "4. Creating a dataframe with Multi-Index (**Distributor Code and Code**)                 \n",
    "5. Renaming the columns to ds and y (**Actdte and Billing_Qty**)          \n",
    "6. Fit the FB prophet Model to the dataframe by looping each Distributor and Code (**keys**)                 \n",
    "7. Detect the anomalies from the forecast.            \n",
    "8. Export the data into .xlsx format.              \n",
    "\n",
    "**Note**: \n",
    "1. If you want to run the model for a sample data, make sure you alter the **keys** to sample data and check whether the grouped data is available in **new data**.\n",
    "\n",
    "(**Bold** used to represent the column names and variables used in the Notebook )"
   ]
  },
  {
   "cell_type": "markdown",
   "metadata": {},
   "source": [
    "# Importing packages"
   ]
  },
  {
   "cell_type": "code",
   "execution_count": 1,
   "metadata": {},
   "outputs": [],
   "source": [
    "from ckpackages import azsql         #Custom Package for Cavinkare\n",
    "from fbprophet import Prophet\n",
    "import numpy as np\n",
    "import pandas as pd\n",
    "import matplotlib.pyplot as plt\n",
    "%matplotlib inline"
   ]
  },
  {
   "cell_type": "markdown",
   "metadata": {},
   "source": [
    "# Data Import"
   ]
  },
  {
   "cell_type": "markdown",
   "metadata": {},
   "source": [
    "### Azure DW"
   ]
  },
  {
   "cell_type": "code",
   "execution_count": 286,
   "metadata": {},
   "outputs": [],
   "source": [
    " Query = \"\"\"select *,substring(Product_Hierarchy,1,8) as 'Code' \n",
    "            from V_AN_PC_UNDERCUTTING_PRI\n",
    "            where region = 'East' \n",
    "            and substring(Product_Hierarchy,1,8) in ('06131253','06131254') ;\"\"\""
   ]
  },
  {
   "cell_type": "code",
   "execution_count": 287,
   "metadata": {
    "scrolled": true
   },
   "outputs": [],
   "source": [
    "pri_data = azsql.callstatement(Query)"
   ]
  },
  {
   "cell_type": "markdown",
   "metadata": {},
   "source": [
    "### Excel"
   ]
  },
  {
   "cell_type": "code",
   "execution_count": 288,
   "metadata": {},
   "outputs": [],
   "source": [
    "Actual_data = pd.read_excel(r\"D:\\Analytics\\Undercutting\\Azure\\Data\\Default Actdte.xlsx\")"
   ]
  },
  {
   "cell_type": "markdown",
   "metadata": {},
   "source": [
    "### Raw Data cleaning"
   ]
  },
  {
   "cell_type": "code",
   "execution_count": 289,
   "metadata": {},
   "outputs": [],
   "source": [
    "Distributor = pri_data\n",
    "Distributor = Distributor[['Distributor_Code','Code','Actdte','Billing_Qty']]"
   ]
  },
  {
   "cell_type": "code",
   "execution_count": 290,
   "metadata": {
    "scrolled": true
   },
   "outputs": [
    {
     "data": {
      "text/html": [
       "<div>\n",
       "<style scoped>\n",
       "    .dataframe tbody tr th:only-of-type {\n",
       "        vertical-align: middle;\n",
       "    }\n",
       "\n",
       "    .dataframe tbody tr th {\n",
       "        vertical-align: top;\n",
       "    }\n",
       "\n",
       "    .dataframe thead th {\n",
       "        text-align: right;\n",
       "    }\n",
       "</style>\n",
       "<table border=\"1\" class=\"dataframe\">\n",
       "  <thead>\n",
       "    <tr style=\"text-align: right;\">\n",
       "      <th></th>\n",
       "      <th>Distributor_Code</th>\n",
       "      <th>Code</th>\n",
       "      <th>Actdte</th>\n",
       "      <th>Billing_Qty</th>\n",
       "    </tr>\n",
       "  </thead>\n",
       "  <tbody>\n",
       "    <tr>\n",
       "      <th>0</th>\n",
       "      <td>0002002742</td>\n",
       "      <td>06131253</td>\n",
       "      <td>2019-03-01</td>\n",
       "      <td>18.0</td>\n",
       "    </tr>\n",
       "    <tr>\n",
       "      <th>1</th>\n",
       "      <td>0002002987</td>\n",
       "      <td>06131253</td>\n",
       "      <td>2020-02-01</td>\n",
       "      <td>1.0</td>\n",
       "    </tr>\n",
       "  </tbody>\n",
       "</table>\n",
       "</div>"
      ],
      "text/plain": [
       "  Distributor_Code      Code     Actdte  Billing_Qty\n",
       "0       0002002742  06131253 2019-03-01         18.0\n",
       "1       0002002987  06131253 2020-02-01          1.0"
      ]
     },
     "execution_count": 290,
     "metadata": {},
     "output_type": "execute_result"
    }
   ],
   "source": [
    "Distributor.head(2)"
   ]
  },
  {
   "cell_type": "code",
   "execution_count": 291,
   "metadata": {
    "scrolled": true
   },
   "outputs": [
    {
     "name": "stdout",
     "output_type": "stream",
     "text": [
      "430\n"
     ]
    }
   ],
   "source": [
    "print ((Distributor['Distributor_Code'].nunique()))"
   ]
  },
  {
   "cell_type": "markdown",
   "metadata": {},
   "source": [
    "### Grouping up the data"
   ]
  },
  {
   "cell_type": "code",
   "execution_count": 292,
   "metadata": {},
   "outputs": [],
   "source": [
    "Distributor     = Distributor.groupby(['Distributor_Code','Code','Actdte'])[\"Billing_Qty\"].sum().reset_index()"
   ]
  },
  {
   "cell_type": "markdown",
   "metadata": {},
   "source": [
    "### Removing rows with single transaction as we can't detect anomaly with 1 transaction"
   ]
  },
  {
   "cell_type": "code",
   "execution_count": 293,
   "metadata": {},
   "outputs": [
    {
     "data": {
      "text/plain": [
       "4022"
      ]
     },
     "execution_count": 293,
     "metadata": {},
     "output_type": "execute_result"
    }
   ],
   "source": [
    "rmv_single_rows = Distributor.groupby([\"Distributor_Code\",\"Code\"]).agg(Count = (\"Actdte\",\"count\")).reset_index()\n",
    "rmv_single_rows[rmv_single_rows[\"Count\"] == 1]\n",
    "Distributor_Clean = pd.merge(Distributor,rmv_single_rows,on = [\"Distributor_Code\",\"Code\"],how = \"left\")\n",
    "Distributor_Clean = Distributor_Clean[Distributor_Clean[\"Count\"] != 1]\n",
    "len(Distributor_Clean)print ((Distributor['Distributor_Code'].nunique()))"
   ]
  },
  {
   "cell_type": "code",
   "execution_count": 294,
   "metadata": {},
   "outputs": [],
   "source": [
    "Distributor = Distributor_Clean[['Distributor_Code','Code','Actdte','Billing_Qty']].copy()"
   ]
  },
  {
   "cell_type": "code",
   "execution_count": 306,
   "metadata": {
    "scrolled": true
   },
   "outputs": [
    {
     "name": "stdout",
     "output_type": "stream",
     "text": [
      "380\n"
     ]
    }
   ],
   "source": [
    "print ((Distributor['Distributor_Code'].nunique()))"
   ]
  },
  {
   "cell_type": "code",
   "execution_count": 310,
   "metadata": {},
   "outputs": [
    {
     "data": {
      "text/html": [
       "<div>\n",
       "<style scoped>\n",
       "    .dataframe tbody tr th:only-of-type {\n",
       "        vertical-align: middle;\n",
       "    }\n",
       "\n",
       "    .dataframe tbody tr th {\n",
       "        vertical-align: top;\n",
       "    }\n",
       "\n",
       "    .dataframe thead th {\n",
       "        text-align: right;\n",
       "    }\n",
       "</style>\n",
       "<table border=\"1\" class=\"dataframe\">\n",
       "  <thead>\n",
       "    <tr style=\"text-align: right;\">\n",
       "      <th></th>\n",
       "      <th>Distributor_Code</th>\n",
       "      <th>Code</th>\n",
       "      <th>Actdte</th>\n",
       "      <th>Billing_Qty</th>\n",
       "    </tr>\n",
       "  </thead>\n",
       "  <tbody>\n",
       "    <tr>\n",
       "      <th>0</th>\n",
       "      <td>0002002018</td>\n",
       "      <td>06131253</td>\n",
       "      <td>2018-05-01</td>\n",
       "      <td>8.0</td>\n",
       "    </tr>\n",
       "    <tr>\n",
       "      <th>1</th>\n",
       "      <td>0002002018</td>\n",
       "      <td>06131253</td>\n",
       "      <td>2018-07-01</td>\n",
       "      <td>6.0</td>\n",
       "    </tr>\n",
       "  </tbody>\n",
       "</table>\n",
       "</div>"
      ],
      "text/plain": [
       "  Distributor_Code      Code     Actdte  Billing_Qty\n",
       "0       0002002018  06131253 2018-05-01          8.0\n",
       "1       0002002018  06131253 2018-07-01          6.0"
      ]
     },
     "execution_count": 310,
     "metadata": {},
     "output_type": "execute_result"
    }
   ],
   "source": [
    "Distributor.head(2)"
   ]
  },
  {
   "cell_type": "markdown",
   "metadata": {},
   "source": [
    "# Dataset for Prophet Model - newdata and keys"
   ]
  },
  {
   "cell_type": "code",
   "execution_count": 295,
   "metadata": {
    "scrolled": true
   },
   "outputs": [
    {
     "data": {
      "text/html": [
       "<div>\n",
       "<style scoped>\n",
       "    .dataframe tbody tr th:only-of-type {\n",
       "        vertical-align: middle;\n",
       "    }\n",
       "\n",
       "    .dataframe tbody tr th {\n",
       "        vertical-align: top;\n",
       "    }\n",
       "\n",
       "    .dataframe thead th {\n",
       "        text-align: right;\n",
       "    }\n",
       "</style>\n",
       "<table border=\"1\" class=\"dataframe\">\n",
       "  <thead>\n",
       "    <tr style=\"text-align: right;\">\n",
       "      <th></th>\n",
       "      <th>Distributor_Code</th>\n",
       "      <th>Code</th>\n",
       "    </tr>\n",
       "  </thead>\n",
       "  <tbody>\n",
       "    <tr>\n",
       "      <th>0</th>\n",
       "      <td>0002002018</td>\n",
       "      <td>06131253</td>\n",
       "    </tr>\n",
       "    <tr>\n",
       "      <th>1</th>\n",
       "      <td>0002002019</td>\n",
       "      <td>06131253</td>\n",
       "    </tr>\n",
       "  </tbody>\n",
       "</table>\n",
       "</div>"
      ],
      "text/plain": [
       "  Distributor_Code      Code\n",
       "0       0002002018  06131253\n",
       "1       0002002019  06131253"
      ]
     },
     "execution_count": 295,
     "metadata": {},
     "output_type": "execute_result"
    }
   ],
   "source": [
    "keys = Distributor[[\"Distributor_Code\",\"Code\"]].drop_duplicates().reset_index(drop=True)\n",
    "keys.head(2)"
   ]
  },
  {
   "cell_type": "code",
   "execution_count": 309,
   "metadata": {},
   "outputs": [
    {
     "data": {
      "text/plain": [
       "380"
      ]
     },
     "execution_count": 309,
     "metadata": {},
     "output_type": "execute_result"
    }
   ],
   "source": [
    "keys[\"Distributor_Code\"].nunique()"
   ]
  },
  {
   "cell_type": "code",
   "execution_count": 330,
   "metadata": {},
   "outputs": [
    {
     "data": {
      "text/plain": [
       "FrozenList(['Distributor_Code', 'Code'])"
      ]
     },
     "execution_count": 330,
     "metadata": {},
     "output_type": "execute_result"
    }
   ],
   "source": [
    "newdata = Distributor.set_index([\"Distributor_Code\",\"Code\"])\n",
    "newdata.index.names"
   ]
  },
  {
   "cell_type": "code",
   "execution_count": 336,
   "metadata": {},
   "outputs": [
    {
     "data": {
      "text/html": [
       "<div>\n",
       "<style scoped>\n",
       "    .dataframe tbody tr th:only-of-type {\n",
       "        vertical-align: middle;\n",
       "    }\n",
       "\n",
       "    .dataframe tbody tr th {\n",
       "        vertical-align: top;\n",
       "    }\n",
       "\n",
       "    .dataframe thead th {\n",
       "        text-align: right;\n",
       "    }\n",
       "</style>\n",
       "<table border=\"1\" class=\"dataframe\">\n",
       "  <thead>\n",
       "    <tr style=\"text-align: right;\">\n",
       "      <th></th>\n",
       "      <th></th>\n",
       "      <th>Actdte</th>\n",
       "      <th>Billing_Qty</th>\n",
       "    </tr>\n",
       "    <tr>\n",
       "      <th>Distributor_Code</th>\n",
       "      <th>Code</th>\n",
       "      <th></th>\n",
       "      <th></th>\n",
       "    </tr>\n",
       "  </thead>\n",
       "  <tbody>\n",
       "    <tr>\n",
       "      <th rowspan=\"5\" valign=\"top\">0002002018</th>\n",
       "      <th>06131253</th>\n",
       "      <td>2018-05-01</td>\n",
       "      <td>8.0</td>\n",
       "    </tr>\n",
       "    <tr>\n",
       "      <th>06131253</th>\n",
       "      <td>2018-07-01</td>\n",
       "      <td>6.0</td>\n",
       "    </tr>\n",
       "    <tr>\n",
       "      <th>06131253</th>\n",
       "      <td>2018-10-01</td>\n",
       "      <td>5.0</td>\n",
       "    </tr>\n",
       "    <tr>\n",
       "      <th>06131253</th>\n",
       "      <td>2018-12-01</td>\n",
       "      <td>10.0</td>\n",
       "    </tr>\n",
       "    <tr>\n",
       "      <th>06131253</th>\n",
       "      <td>2019-06-01</td>\n",
       "      <td>15.0</td>\n",
       "    </tr>\n",
       "    <tr>\n",
       "      <th>...</th>\n",
       "      <th>...</th>\n",
       "      <td>...</td>\n",
       "      <td>...</td>\n",
       "    </tr>\n",
       "    <tr>\n",
       "      <th>0002008366</th>\n",
       "      <th>06131253</th>\n",
       "      <td>2020-06-01</td>\n",
       "      <td>25.0</td>\n",
       "    </tr>\n",
       "    <tr>\n",
       "      <th rowspan=\"2\" valign=\"top\">0002008469</th>\n",
       "      <th>06131253</th>\n",
       "      <td>2020-05-01</td>\n",
       "      <td>59.0</td>\n",
       "    </tr>\n",
       "    <tr>\n",
       "      <th>06131253</th>\n",
       "      <td>2020-06-01</td>\n",
       "      <td>40.0</td>\n",
       "    </tr>\n",
       "    <tr>\n",
       "      <th rowspan=\"2\" valign=\"top\">0002008541</th>\n",
       "      <th>06131253</th>\n",
       "      <td>2020-05-01</td>\n",
       "      <td>1.0</td>\n",
       "    </tr>\n",
       "    <tr>\n",
       "      <th>06131253</th>\n",
       "      <td>2020-06-01</td>\n",
       "      <td>1.0</td>\n",
       "    </tr>\n",
       "  </tbody>\n",
       "</table>\n",
       "<p>4022 rows × 2 columns</p>\n",
       "</div>"
      ],
      "text/plain": [
       "                              Actdte  Billing_Qty\n",
       "Distributor_Code Code                            \n",
       "0002002018       06131253 2018-05-01          8.0\n",
       "                 06131253 2018-07-01          6.0\n",
       "                 06131253 2018-10-01          5.0\n",
       "                 06131253 2018-12-01         10.0\n",
       "                 06131253 2019-06-01         15.0\n",
       "...                              ...          ...\n",
       "0002008366       06131253 2020-06-01         25.0\n",
       "0002008469       06131253 2020-05-01         59.0\n",
       "                 06131253 2020-06-01         40.0\n",
       "0002008541       06131253 2020-05-01          1.0\n",
       "                 06131253 2020-06-01          1.0\n",
       "\n",
       "[4022 rows x 2 columns]"
      ]
     },
     "execution_count": 336,
     "metadata": {},
     "output_type": "execute_result"
    }
   ],
   "source": [
    "newdata"
   ]
  },
  {
   "cell_type": "markdown",
   "metadata": {},
   "source": [
    "### FB Prophet Model Fit"
   ]
  },
  {
   "cell_type": "code",
   "execution_count": 346,
   "metadata": {},
   "outputs": [],
   "source": [
    "def fit_predict_model(dataframe, interval_width = 0.95, changepoint_range = 0.8):\n",
    "    \n",
    "    m = Prophet(daily_seasonality = False, \n",
    "                yearly_seasonality = False, \n",
    "                weekly_seasonality = False,\n",
    "                seasonality_mode = 'multiplicative', \n",
    "                interval_width = interval_width,\n",
    "                n_changepoints = 20,\n",
    "                changepoint_range = changepoint_range)\n",
    "    \n",
    "    m = m.fit(dataframe)\n",
    "    \n",
    "    forecast = m.predict(dataframe)\n",
    "    forecast['y'] = dataframe['y'].reset_index(drop = True)\n",
    "    \n",
    "#     print('Displaying Prophet plot')\n",
    "#     fig1 = m.plot(forecast)\n",
    "    return forecast"
   ]
  },
  {
   "cell_type": "markdown",
   "metadata": {},
   "source": [
    "### Classifying Anomalies - Manual Formula (Does not included under Algorithm output)"
   ]
  },
  {
   "cell_type": "code",
   "execution_count": 347,
   "metadata": {},
   "outputs": [],
   "source": [
    "def detect_anomalies(forecast):\n",
    "    forecasted = forecast[['ds','trend', 'yhat', 'yhat_lower', 'yhat_upper', 'y']].copy()\n",
    "    #forecast['fact'] = df['y']\n",
    "\n",
    "    forecasted['anomaly'] = 0\n",
    "    forecasted.loc[forecasted['y'] > forecasted['yhat_upper'], 'anomaly'] = 1\n",
    "    forecasted.loc[forecasted['y'] < forecasted['yhat_lower'], 'anomaly'] = -1\n",
    "\n",
    "    #anomaly importances\n",
    "    forecasted['importance'] = 0\n",
    "    forecasted.loc[forecasted['anomaly'] == 1, 'importance'] = (forecasted['y'] - forecasted['yhat_upper'])/forecast['y']\n",
    "    forecasted.loc[forecasted['anomaly'] ==-1, 'importance'] = (forecasted['yhat_lower'] - forecasted['y'])/forecast['yhat_lower']\n",
    "    \n",
    "    return forecasted"
   ]
  },
  {
   "cell_type": "markdown",
   "metadata": {},
   "source": [
    "### Model"
   ]
  },
  {
   "cell_type": "code",
   "execution_count": 348,
   "metadata": {},
   "outputs": [
    {
     "name": "stdout",
     "output_type": "stream",
     "text": [
      "Wall time: 18min 18s\n"
     ]
    }
   ],
   "source": [
    "%%time\n",
    "final_dataset = pd.DataFrame()\n",
    "for x,y in keys.iterrows():\n",
    "    a                           =    y[0]\n",
    "    b                           =    y[1]\n",
    "    temp                        =    newdata.loc[a].loc[b].copy()\n",
    "    temp                        =    pd.merge(Actual_data,temp,how ='left',on='Actdte').fillna(value = 0)\n",
    "    temp                        =    temp.rename(columns = {\"Actdte\":\"ds\",\"Billing_Qty\":\"y\"})\n",
    "    pred                        =    fit_predict_model(temp)\n",
    "    anomaly                     =    detect_anomalies(pred)\n",
    "    anomaly[\"Distributor_Code\"] =    y[0]\n",
    "    anomaly[\"Code\"]             =    y[1]\n",
    "    final_dataset               =    final_dataset.append(anomaly)\n",
    "    temp                        =    pd.DataFrame()"
   ]
  },
  {
   "cell_type": "markdown",
   "metadata": {},
   "source": [
    "### Output"
   ]
  },
  {
   "cell_type": "code",
   "execution_count": 349,
   "metadata": {},
   "outputs": [],
   "source": [
    "final_dataset.to_excel(r\"D:\\Analytics\\Undercutting\\Azure\\Data\\Indica_East_data.xlsx\",index = False)"
   ]
  },
  {
   "cell_type": "code",
   "execution_count": 304,
   "metadata": {},
   "outputs": [
    {
     "data": {
      "text/plain": [
       "(384, 2)"
      ]
     },
     "execution_count": 304,
     "metadata": {},
     "output_type": "execute_result"
    }
   ],
   "source": [
    "keys.shape"
   ]
  },
  {
   "cell_type": "code",
   "execution_count": 305,
   "metadata": {
    "scrolled": true
   },
   "outputs": [
    {
     "data": {
      "text/plain": [
       "380"
      ]
     },
     "execution_count": 305,
     "metadata": {},
     "output_type": "execute_result"
    }
   ],
   "source": [
    "Distributor.Distributor_Code.nunique()"
   ]
  },
  {
   "cell_type": "code",
   "execution_count": null,
   "metadata": {},
   "outputs": [],
   "source": []
  },
  {
   "cell_type": "code",
   "execution_count": null,
   "metadata": {},
   "outputs": [],
   "source": []
  }
 ],
 "metadata": {
  "kernelspec": {
   "display_name": "Python 3",
   "language": "python",
   "name": "python3"
  },
  "language_info": {
   "codemirror_mode": {
    "name": "ipython",
    "version": 3
   },
   "file_extension": ".py",
   "mimetype": "text/x-python",
   "name": "python",
   "nbconvert_exporter": "python",
   "pygments_lexer": "ipython3",
   "version": "3.7.5"
  }
 },
 "nbformat": 4,
 "nbformat_minor": 4
}
