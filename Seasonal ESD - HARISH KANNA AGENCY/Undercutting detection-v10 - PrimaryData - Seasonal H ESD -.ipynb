{
 "cells": [
  {
   "cell_type": "markdown",
   "metadata": {},
   "source": [
    "# Anomaly Detection"
   ]
  },
  {
   "cell_type": "code",
   "execution_count": 118,
   "metadata": {},
   "outputs": [],
   "source": [
    "import  pandas as pd\n",
    "import numpy as np\n",
    "import scipy.stats as stats\n",
    "import pylab as pl"
   ]
  },
  {
   "cell_type": "code",
   "execution_count": 119,
   "metadata": {},
   "outputs": [],
   "source": [
    "pd.options.mode.chained_assignment = None"
   ]
  },
  {
   "cell_type": "markdown",
   "metadata": {},
   "source": [
    "# Importing data\n",
    "\n",
    "1. We have imported **56133 records** with **35 columns**.\n",
    "2. Data ranges from **April 3, 2018 to April 8, 2020**.\n",
    "3. We have **463 unique distributors** in **Southern region** of India in **General Trade**"
   ]
  },
  {
   "cell_type": "code",
   "execution_count": 120,
   "metadata": {},
   "outputs": [
    {
     "name": "stdout",
     "output_type": "stream",
     "text": [
      "Wall time: 48 s\n"
     ]
    }
   ],
   "source": [
    "%%time\n",
    "data = pd.read_excel(r\"E:\\0001_Studies\\Undercutting\\2018-2020.xlsx\",sheet_name= \"Sheet1\")"
   ]
  },
  {
   "cell_type": "code",
   "execution_count": 117,
   "metadata": {},
   "outputs": [
    {
     "data": {
      "text/plain": [
       "(56133, 37)"
      ]
     },
     "execution_count": 117,
     "metadata": {},
     "output_type": "execute_result"
    }
   ],
   "source": [
    "data.shape"
   ]
  },
  {
   "cell_type": "code",
   "execution_count": 5,
   "metadata": {
    "scrolled": true
   },
   "outputs": [
    {
     "data": {
      "text/html": [
       "<div>\n",
       "<style scoped>\n",
       "    .dataframe tbody tr th:only-of-type {\n",
       "        vertical-align: middle;\n",
       "    }\n",
       "\n",
       "    .dataframe tbody tr th {\n",
       "        vertical-align: top;\n",
       "    }\n",
       "\n",
       "    .dataframe thead th {\n",
       "        text-align: right;\n",
       "    }\n",
       "</style>\n",
       "<table border=\"1\" class=\"dataframe\">\n",
       "  <thead>\n",
       "    <tr style=\"text-align: right;\">\n",
       "      <th></th>\n",
       "      <th>Distribution Channel</th>\n",
       "      <th>Division</th>\n",
       "      <th>Old Sold-To Party</th>\n",
       "      <th>Sold-To Party</th>\n",
       "      <th>Customer Group 3</th>\n",
       "      <th>Price List Type</th>\n",
       "      <th>Region Order</th>\n",
       "      <th>Plant</th>\n",
       "      <th>Material</th>\n",
       "      <th>Date</th>\n",
       "      <th>...</th>\n",
       "      <th>Gross</th>\n",
       "      <th>Gross.1</th>\n",
       "      <th>Sales cost</th>\n",
       "      <th>Sales cost.1</th>\n",
       "      <th>Net</th>\n",
       "      <th>Net.1</th>\n",
       "      <th>RtnsQty</th>\n",
       "      <th>RtnsQty.1</th>\n",
       "      <th>Rtns (cst)</th>\n",
       "      <th>Rtns (cst).1</th>\n",
       "    </tr>\n",
       "  </thead>\n",
       "  <tbody>\n",
       "    <tr>\n",
       "      <th>0</th>\n",
       "      <td>GT General Trade</td>\n",
       "      <td>PC Personal Care</td>\n",
       "      <td>2000001    N.CT. AGENCIES</td>\n",
       "      <td>2000001    N.CT. AGENCIES</td>\n",
       "      <td>006 GT</td>\n",
       "      <td>02 Super Stockist</td>\n",
       "      <td>TN  TN</td>\n",
       "      <td>PYC1 CAVINKARE PVT LTD</td>\n",
       "      <td>KH0180HWP02R       KARTHIKA HERBAL POWDER CONT...</td>\n",
       "      <td>23.10.2019</td>\n",
       "      <td>...</td>\n",
       "      <td>187.0</td>\n",
       "      <td>KG</td>\n",
       "      <td>15169.7</td>\n",
       "      <td>INR</td>\n",
       "      <td>144.0</td>\n",
       "      <td>KG</td>\n",
       "      <td>0.0</td>\n",
       "      <td>CV</td>\n",
       "      <td>0.0</td>\n",
       "      <td>INR</td>\n",
       "    </tr>\n",
       "    <tr>\n",
       "      <th>1</th>\n",
       "      <td>GT General Trade</td>\n",
       "      <td>PC Personal Care</td>\n",
       "      <td>2000001    N.CT. AGENCIES</td>\n",
       "      <td>2000001    N.CT. AGENCIES</td>\n",
       "      <td>006 GT</td>\n",
       "      <td>02 Super Stockist</td>\n",
       "      <td>TN  TN</td>\n",
       "      <td>PYC1 CAVINKARE PVT LTD</td>\n",
       "      <td>KH05D8HWP02R       KARTHIKA HERBAL POWDER 5.8 ...</td>\n",
       "      <td>10.07.2019</td>\n",
       "      <td>...</td>\n",
       "      <td>5040.0</td>\n",
       "      <td>KG</td>\n",
       "      <td>272536.0</td>\n",
       "      <td>INR</td>\n",
       "      <td>4640.0</td>\n",
       "      <td>KG</td>\n",
       "      <td>0.0</td>\n",
       "      <td>CV</td>\n",
       "      <td>0.0</td>\n",
       "      <td>INR</td>\n",
       "    </tr>\n",
       "  </tbody>\n",
       "</table>\n",
       "<p>2 rows × 35 columns</p>\n",
       "</div>"
      ],
      "text/plain": [
       "  Distribution Channel          Division          Old Sold-To Party  \\\n",
       "0     GT General Trade  PC Personal Care  2000001    N.CT. AGENCIES   \n",
       "1     GT General Trade  PC Personal Care  2000001    N.CT. AGENCIES   \n",
       "\n",
       "               Sold-To Party Customer Group 3    Price List Type Region Order  \\\n",
       "0  2000001    N.CT. AGENCIES           006 GT  02 Super Stockist       TN  TN   \n",
       "1  2000001    N.CT. AGENCIES           006 GT  02 Super Stockist       TN  TN   \n",
       "\n",
       "                    Plant                                           Material  \\\n",
       "0  PYC1 CAVINKARE PVT LTD  KH0180HWP02R       KARTHIKA HERBAL POWDER CONT...   \n",
       "1  PYC1 CAVINKARE PVT LTD  KH05D8HWP02R       KARTHIKA HERBAL POWDER 5.8 ...   \n",
       "\n",
       "         Date  ...   Gross Gross.1  Sales cost  Sales cost.1     Net  Net.1  \\\n",
       "0  23.10.2019  ...   187.0      KG     15169.7           INR   144.0     KG   \n",
       "1  10.07.2019  ...  5040.0      KG    272536.0           INR  4640.0     KG   \n",
       "\n",
       "  RtnsQty  RtnsQty.1 Rtns (cst)  Rtns (cst).1  \n",
       "0     0.0         CV        0.0           INR  \n",
       "1     0.0         CV        0.0           INR  \n",
       "\n",
       "[2 rows x 35 columns]"
      ]
     },
     "execution_count": 5,
     "metadata": {},
     "output_type": "execute_result"
    }
   ],
   "source": [
    "data.head(2)"
   ]
  },
  {
   "cell_type": "code",
   "execution_count": 6,
   "metadata": {},
   "outputs": [
    {
     "data": {
      "text/plain": [
       "Index(['Distribution Channel', 'Division', 'Old Sold-To Party',\n",
       "       'Sold-To Party', 'Customer Group 3', 'Price List Type', 'Region Order',\n",
       "       'Plant', 'Material', 'Date', 'Sales', 'Sales.1', 'Returns',\n",
       "       'Cred.Memos', 'Cred.Memos.1', 'CM: net 1', 'CM: net 1.1', 'Net Value',\n",
       "       'Net Value.1', 'Tax', 'Tax.1', 'Bill. Qty', 'Bill. Qty.1', 'CredMemQty',\n",
       "       'CredMemQty.1', 'Gross', 'Gross.1', 'Sales cost', 'Sales cost.1', 'Net',\n",
       "       'Net.1', 'RtnsQty', 'RtnsQty.1', 'Rtns (cst)', 'Rtns (cst).1'],\n",
       "      dtype='object')"
      ]
     },
     "execution_count": 6,
     "metadata": {},
     "output_type": "execute_result"
    }
   ],
   "source": [
    "data.columns"
   ]
  },
  {
   "cell_type": "markdown",
   "metadata": {},
   "source": [
    "# Data Transformation and Feature Engineering"
   ]
  },
  {
   "cell_type": "code",
   "execution_count": 7,
   "metadata": {},
   "outputs": [],
   "source": [
    "temp                   =  data[\"Material\"].str.split(\"       \",expand=True)\n",
    "data[\"Prod_Code\"]      = temp[0]\n",
    "data[\"Prod_Name\"]      = temp[1]\n",
    "data[\"Date\"]           = pd.to_datetime(data[\"Date\"],format='%d.%m.%Y')\n",
    "# data[\"Month\"]          = data[\"New date\"].dt.strftime('%B')"
   ]
  },
  {
   "cell_type": "code",
   "execution_count": 8,
   "metadata": {},
   "outputs": [],
   "source": [
    "dist_data = data[[\"Sold-To Party\",\"Date\",\"Prod_Name\",\"Bill. Qty\"]]"
   ]
  },
  {
   "cell_type": "code",
   "execution_count": 9,
   "metadata": {},
   "outputs": [],
   "source": [
    "p = dist_data['Prod_Name']\n",
    "p = p.drop_duplicates()"
   ]
  },
  {
   "cell_type": "code",
   "execution_count": 10,
   "metadata": {},
   "outputs": [
    {
     "data": {
      "text/plain": [
       "0        KARTHIKA HERBAL POWDER CONT 180G 80PCS\n",
       "1        KARTHIKA HERBAL POWDER 5.8 GM 2000 PCS\n",
       "20      MEERA ADVANCE HW POWDER 5.6 GM 1350 PCS\n",
       "49       MEERA HERBAL POWDER 80GM REFILL 50 PCS\n",
       "51        MEERA HERBAL POWDER 120GM CONT 60 PCS\n",
       "55          MEERA HERBAL POWDER 5.6 GM 1350 PCS\n",
       "61          KARTHIKA HERBAL POWDER 50GM 180 PCS\n",
       "124            MEERA HERBAL POWDER 5GM 1350 PCS\n",
       "125      MEERA HERBAL POWDER 40GM REFILL 100PCS\n",
       "138    MEERA ADVANCE HW POWDER 80GM REFILL 50 P\n",
       "163    MEERA ADVANCE HW POWDER 120GM CONT 60 PC\n",
       "Name: Prod_Name, dtype: object"
      ]
     },
     "execution_count": 10,
     "metadata": {},
     "output_type": "execute_result"
    }
   ],
   "source": [
    "p"
   ]
  },
  {
   "cell_type": "code",
   "execution_count": 11,
   "metadata": {},
   "outputs": [],
   "source": [
    "dist_data = dist_data[dist_data[\"Bill. Qty\"] != 0]"
   ]
  },
  {
   "cell_type": "code",
   "execution_count": 12,
   "metadata": {
    "scrolled": true
   },
   "outputs": [
    {
     "data": {
      "text/plain": [
       "(54133, 4)"
      ]
     },
     "execution_count": 12,
     "metadata": {},
     "output_type": "execute_result"
    }
   ],
   "source": [
    "dist_data.shape"
   ]
  },
  {
   "cell_type": "code",
   "execution_count": 13,
   "metadata": {},
   "outputs": [
    {
     "data": {
      "text/html": [
       "<div>\n",
       "<style scoped>\n",
       "    .dataframe tbody tr th:only-of-type {\n",
       "        vertical-align: middle;\n",
       "    }\n",
       "\n",
       "    .dataframe tbody tr th {\n",
       "        vertical-align: top;\n",
       "    }\n",
       "\n",
       "    .dataframe thead th {\n",
       "        text-align: right;\n",
       "    }\n",
       "</style>\n",
       "<table border=\"1\" class=\"dataframe\">\n",
       "  <thead>\n",
       "    <tr style=\"text-align: right;\">\n",
       "      <th></th>\n",
       "      <th>Sold-To Party</th>\n",
       "      <th>Date</th>\n",
       "      <th>Prod_Name</th>\n",
       "      <th>Bill. Qty</th>\n",
       "    </tr>\n",
       "  </thead>\n",
       "  <tbody>\n",
       "    <tr>\n",
       "      <th>0</th>\n",
       "      <td>2000001    N.CT. AGENCIES</td>\n",
       "      <td>2019-10-23</td>\n",
       "      <td>KARTHIKA HERBAL POWDER CONT 180G 80PCS</td>\n",
       "      <td>10.0</td>\n",
       "    </tr>\n",
       "    <tr>\n",
       "      <th>1</th>\n",
       "      <td>2000001    N.CT. AGENCIES</td>\n",
       "      <td>2019-07-10</td>\n",
       "      <td>KARTHIKA HERBAL POWDER 5.8 GM 2000 PCS</td>\n",
       "      <td>400.0</td>\n",
       "    </tr>\n",
       "  </tbody>\n",
       "</table>\n",
       "</div>"
      ],
      "text/plain": [
       "               Sold-To Party       Date  \\\n",
       "0  2000001    N.CT. AGENCIES 2019-10-23   \n",
       "1  2000001    N.CT. AGENCIES 2019-07-10   \n",
       "\n",
       "                                Prod_Name  Bill. Qty  \n",
       "0  KARTHIKA HERBAL POWDER CONT 180G 80PCS       10.0  \n",
       "1  KARTHIKA HERBAL POWDER 5.8 GM 2000 PCS      400.0  "
      ]
     },
     "execution_count": 13,
     "metadata": {},
     "output_type": "execute_result"
    }
   ],
   "source": [
    "dist_data.head(2)"
   ]
  },
  {
   "cell_type": "markdown",
   "metadata": {},
   "source": [
    "## Removing single records"
   ]
  },
  {
   "cell_type": "code",
   "execution_count": 14,
   "metadata": {},
   "outputs": [
    {
     "data": {
      "text/html": [
       "<div>\n",
       "<style scoped>\n",
       "    .dataframe tbody tr th:only-of-type {\n",
       "        vertical-align: middle;\n",
       "    }\n",
       "\n",
       "    .dataframe tbody tr th {\n",
       "        vertical-align: top;\n",
       "    }\n",
       "\n",
       "    .dataframe thead th {\n",
       "        text-align: right;\n",
       "    }\n",
       "</style>\n",
       "<table border=\"1\" class=\"dataframe\">\n",
       "  <thead>\n",
       "    <tr style=\"text-align: right;\">\n",
       "      <th></th>\n",
       "      <th>Sold-To Party</th>\n",
       "      <th>Prod_Name</th>\n",
       "      <th>Count</th>\n",
       "    </tr>\n",
       "  </thead>\n",
       "  <tbody>\n",
       "    <tr>\n",
       "      <th>0</th>\n",
       "      <td>2000001    N.CT. AGENCIES</td>\n",
       "      <td>KARTHIKA HERBAL POWDER 5.8 GM 2000 PCS</td>\n",
       "      <td>104</td>\n",
       "    </tr>\n",
       "    <tr>\n",
       "      <th>1</th>\n",
       "      <td>2000001    N.CT. AGENCIES</td>\n",
       "      <td>KARTHIKA HERBAL POWDER 50GM 180 PCS</td>\n",
       "      <td>24</td>\n",
       "    </tr>\n",
       "  </tbody>\n",
       "</table>\n",
       "</div>"
      ],
      "text/plain": [
       "               Sold-To Party                               Prod_Name  Count\n",
       "0  2000001    N.CT. AGENCIES  KARTHIKA HERBAL POWDER 5.8 GM 2000 PCS    104\n",
       "1  2000001    N.CT. AGENCIES     KARTHIKA HERBAL POWDER 50GM 180 PCS     24"
      ]
     },
     "execution_count": 14,
     "metadata": {},
     "output_type": "execute_result"
    }
   ],
   "source": [
    "rmv_single_rows = dist_data.groupby([\"Sold-To Party\",\"Prod_Name\"]).agg(Count = (\"Prod_Name\",\"count\")).reset_index()\n",
    "rmv_single_rows.head(2)"
   ]
  },
  {
   "cell_type": "code",
   "execution_count": 15,
   "metadata": {},
   "outputs": [
    {
     "data": {
      "text/plain": [
       "294"
      ]
     },
     "execution_count": 15,
     "metadata": {},
     "output_type": "execute_result"
    }
   ],
   "source": [
    "len(rmv_single_rows[rmv_single_rows[\"Count\"] == 1])"
   ]
  },
  {
   "cell_type": "code",
   "execution_count": 16,
   "metadata": {},
   "outputs": [
    {
     "data": {
      "text/plain": [
       "(53839, 5)"
      ]
     },
     "execution_count": 16,
     "metadata": {},
     "output_type": "execute_result"
    }
   ],
   "source": [
    "dist_data_clean = pd.merge(dist_data,rmv_single_rows,on = [\"Sold-To Party\",\"Prod_Name\"],how = \"left\")\n",
    "dist_data_clean = dist_data_clean[dist_data_clean[\"Count\"] != 1]\n",
    "dist_data_clean.shape"
   ]
  },
  {
   "cell_type": "code",
   "execution_count": 17,
   "metadata": {},
   "outputs": [
    {
     "name": "stdout",
     "output_type": "stream",
     "text": [
      "So totally 294 rows will be dropped from total of 54133 rows. Because it has only 1 data\n"
     ]
    }
   ],
   "source": [
    "print(\"So totally {a} rows will be dropped from total of {b} rows. Because it has only 1 data\".format(a = len(rmv_single_rows[rmv_single_rows[\"Count\"] == 1]), b= len(dist_data)))"
   ]
  },
  {
   "cell_type": "code",
   "execution_count": 18,
   "metadata": {
    "scrolled": true
   },
   "outputs": [
    {
     "data": {
      "text/html": [
       "<div>\n",
       "<style scoped>\n",
       "    .dataframe tbody tr th:only-of-type {\n",
       "        vertical-align: middle;\n",
       "    }\n",
       "\n",
       "    .dataframe tbody tr th {\n",
       "        vertical-align: top;\n",
       "    }\n",
       "\n",
       "    .dataframe thead th {\n",
       "        text-align: right;\n",
       "    }\n",
       "</style>\n",
       "<table border=\"1\" class=\"dataframe\">\n",
       "  <thead>\n",
       "    <tr style=\"text-align: right;\">\n",
       "      <th></th>\n",
       "      <th>Sold-To Party</th>\n",
       "      <th>Date</th>\n",
       "      <th>Prod_Name</th>\n",
       "      <th>Bill. Qty</th>\n",
       "      <th>Count</th>\n",
       "    </tr>\n",
       "  </thead>\n",
       "  <tbody>\n",
       "    <tr>\n",
       "      <th>0</th>\n",
       "      <td>2000001    N.CT. AGENCIES</td>\n",
       "      <td>2019-10-23</td>\n",
       "      <td>KARTHIKA HERBAL POWDER CONT 180G 80PCS</td>\n",
       "      <td>10.0</td>\n",
       "      <td>60</td>\n",
       "    </tr>\n",
       "    <tr>\n",
       "      <th>1</th>\n",
       "      <td>2000001    N.CT. AGENCIES</td>\n",
       "      <td>2019-07-10</td>\n",
       "      <td>KARTHIKA HERBAL POWDER 5.8 GM 2000 PCS</td>\n",
       "      <td>400.0</td>\n",
       "      <td>104</td>\n",
       "    </tr>\n",
       "  </tbody>\n",
       "</table>\n",
       "</div>"
      ],
      "text/plain": [
       "               Sold-To Party       Date  \\\n",
       "0  2000001    N.CT. AGENCIES 2019-10-23   \n",
       "1  2000001    N.CT. AGENCIES 2019-07-10   \n",
       "\n",
       "                                Prod_Name  Bill. Qty  Count  \n",
       "0  KARTHIKA HERBAL POWDER CONT 180G 80PCS       10.0     60  \n",
       "1  KARTHIKA HERBAL POWDER 5.8 GM 2000 PCS      400.0    104  "
      ]
     },
     "execution_count": 18,
     "metadata": {},
     "output_type": "execute_result"
    }
   ],
   "source": [
    "dist_data_clean.head(2)"
   ]
  },
  {
   "cell_type": "markdown",
   "metadata": {},
   "source": [
    "After removing we have 56133 records for analysis"
   ]
  },
  {
   "cell_type": "markdown",
   "metadata": {},
   "source": [
    "# Descriptive Analytics"
   ]
  },
  {
   "cell_type": "code",
   "execution_count": 19,
   "metadata": {},
   "outputs": [
    {
     "data": {
      "text/plain": [
       "Sold-To Party    0\n",
       "Prod_Name        0\n",
       "Mean             0\n",
       "stddev           0\n",
       "Median           0\n",
       "dtype: int64"
      ]
     },
     "execution_count": 19,
     "metadata": {},
     "output_type": "execute_result"
    }
   ],
   "source": [
    "dist_data_descriptive = dist_data_clean.groupby([\"Sold-To Party\",\"Prod_Name\"]).agg(Mean = (\"Bill. Qty\",\"mean\"), \n",
    "                                           stddev = (\"Bill. Qty\",\"std\"),Median =(\"Bill. Qty\",\"median\")).reset_index()\n",
    "dist_data_descriptive.isna().sum()"
   ]
  },
  {
   "cell_type": "code",
   "execution_count": 20,
   "metadata": {},
   "outputs": [],
   "source": [
    "zscore_data = pd.merge(dist_data_clean, dist_data_descriptive, on = [\"Sold-To Party\",\"Prod_Name\"], how = 'left')"
   ]
  },
  {
   "cell_type": "code",
   "execution_count": 21,
   "metadata": {},
   "outputs": [
    {
     "data": {
      "text/plain": [
       "Sold-To Party    0\n",
       "Date             0\n",
       "Prod_Name        0\n",
       "Bill. Qty        0\n",
       "Count            0\n",
       "Mean             0\n",
       "stddev           0\n",
       "Median           0\n",
       "dtype: int64"
      ]
     },
     "execution_count": 21,
     "metadata": {},
     "output_type": "execute_result"
    }
   ],
   "source": [
    "zscore_data.isna().sum()\n",
    "# zscore_data.dropna(axis = 0, inplace = True)"
   ]
  },
  {
   "cell_type": "code",
   "execution_count": 22,
   "metadata": {},
   "outputs": [
    {
     "data": {
      "text/html": [
       "<div>\n",
       "<style scoped>\n",
       "    .dataframe tbody tr th:only-of-type {\n",
       "        vertical-align: middle;\n",
       "    }\n",
       "\n",
       "    .dataframe tbody tr th {\n",
       "        vertical-align: top;\n",
       "    }\n",
       "\n",
       "    .dataframe thead th {\n",
       "        text-align: right;\n",
       "    }\n",
       "</style>\n",
       "<table border=\"1\" class=\"dataframe\">\n",
       "  <thead>\n",
       "    <tr style=\"text-align: right;\">\n",
       "      <th></th>\n",
       "      <th>Sold-To Party</th>\n",
       "      <th>Date</th>\n",
       "      <th>Prod_Name</th>\n",
       "      <th>Bill. Qty</th>\n",
       "      <th>Count</th>\n",
       "      <th>Mean</th>\n",
       "      <th>stddev</th>\n",
       "      <th>Median</th>\n",
       "    </tr>\n",
       "  </thead>\n",
       "  <tbody>\n",
       "    <tr>\n",
       "      <th>0</th>\n",
       "      <td>2000001    N.CT. AGENCIES</td>\n",
       "      <td>2019-10-23</td>\n",
       "      <td>KARTHIKA HERBAL POWDER CONT 180G 80PCS</td>\n",
       "      <td>10.0</td>\n",
       "      <td>60</td>\n",
       "      <td>2.816667</td>\n",
       "      <td>2.626409</td>\n",
       "      <td>2.0</td>\n",
       "    </tr>\n",
       "    <tr>\n",
       "      <th>1</th>\n",
       "      <td>2000001    N.CT. AGENCIES</td>\n",
       "      <td>2019-07-10</td>\n",
       "      <td>KARTHIKA HERBAL POWDER 5.8 GM 2000 PCS</td>\n",
       "      <td>400.0</td>\n",
       "      <td>104</td>\n",
       "      <td>178.009615</td>\n",
       "      <td>156.689570</td>\n",
       "      <td>146.5</td>\n",
       "    </tr>\n",
       "    <tr>\n",
       "      <th>2</th>\n",
       "      <td>2000001    N.CT. AGENCIES</td>\n",
       "      <td>2019-07-16</td>\n",
       "      <td>KARTHIKA HERBAL POWDER 5.8 GM 2000 PCS</td>\n",
       "      <td>150.0</td>\n",
       "      <td>104</td>\n",
       "      <td>178.009615</td>\n",
       "      <td>156.689570</td>\n",
       "      <td>146.5</td>\n",
       "    </tr>\n",
       "    <tr>\n",
       "      <th>3</th>\n",
       "      <td>2000001    N.CT. AGENCIES</td>\n",
       "      <td>2019-07-23</td>\n",
       "      <td>KARTHIKA HERBAL POWDER 5.8 GM 2000 PCS</td>\n",
       "      <td>260.0</td>\n",
       "      <td>104</td>\n",
       "      <td>178.009615</td>\n",
       "      <td>156.689570</td>\n",
       "      <td>146.5</td>\n",
       "    </tr>\n",
       "    <tr>\n",
       "      <th>4</th>\n",
       "      <td>2000001    N.CT. AGENCIES</td>\n",
       "      <td>2019-07-29</td>\n",
       "      <td>KARTHIKA HERBAL POWDER 5.8 GM 2000 PCS</td>\n",
       "      <td>192.0</td>\n",
       "      <td>104</td>\n",
       "      <td>178.009615</td>\n",
       "      <td>156.689570</td>\n",
       "      <td>146.5</td>\n",
       "    </tr>\n",
       "    <tr>\n",
       "      <th>...</th>\n",
       "      <td>...</td>\n",
       "      <td>...</td>\n",
       "      <td>...</td>\n",
       "      <td>...</td>\n",
       "      <td>...</td>\n",
       "      <td>...</td>\n",
       "      <td>...</td>\n",
       "      <td>...</td>\n",
       "    </tr>\n",
       "    <tr>\n",
       "      <th>53834</th>\n",
       "      <td>2001017</td>\n",
       "      <td>2018-05-28</td>\n",
       "      <td>MEERA HERBAL POWDER 120GM CONT 60 PCS</td>\n",
       "      <td>1.0</td>\n",
       "      <td>3</td>\n",
       "      <td>1.666667</td>\n",
       "      <td>1.154701</td>\n",
       "      <td>1.0</td>\n",
       "    </tr>\n",
       "    <tr>\n",
       "      <th>53835</th>\n",
       "      <td>2003456    JPL ASSOCIATES</td>\n",
       "      <td>2019-03-19</td>\n",
       "      <td>MEERA HERBAL POWDER 40GM REFILL 100PCS</td>\n",
       "      <td>1.0</td>\n",
       "      <td>4</td>\n",
       "      <td>1.000000</td>\n",
       "      <td>0.000000</td>\n",
       "      <td>1.0</td>\n",
       "    </tr>\n",
       "    <tr>\n",
       "      <th>53836</th>\n",
       "      <td>2003456    JPL ASSOCIATES</td>\n",
       "      <td>2019-03-19</td>\n",
       "      <td>MEERA HERBAL POWDER 80GM REFILL 50 PCS</td>\n",
       "      <td>1.0</td>\n",
       "      <td>3</td>\n",
       "      <td>1.000000</td>\n",
       "      <td>0.000000</td>\n",
       "      <td>1.0</td>\n",
       "    </tr>\n",
       "    <tr>\n",
       "      <th>53837</th>\n",
       "      <td>2003456    JPL ASSOCIATES</td>\n",
       "      <td>2019-03-19</td>\n",
       "      <td>MEERA HERBAL POWDER 120GM CONT 60 PCS</td>\n",
       "      <td>2.0</td>\n",
       "      <td>8</td>\n",
       "      <td>1.625000</td>\n",
       "      <td>0.517549</td>\n",
       "      <td>2.0</td>\n",
       "    </tr>\n",
       "    <tr>\n",
       "      <th>53838</th>\n",
       "      <td>2003456    JPL ASSOCIATES</td>\n",
       "      <td>2019-03-26</td>\n",
       "      <td>MEERA HERBAL POWDER 120GM CONT 60 PCS</td>\n",
       "      <td>1.0</td>\n",
       "      <td>8</td>\n",
       "      <td>1.625000</td>\n",
       "      <td>0.517549</td>\n",
       "      <td>2.0</td>\n",
       "    </tr>\n",
       "  </tbody>\n",
       "</table>\n",
       "<p>53839 rows × 8 columns</p>\n",
       "</div>"
      ],
      "text/plain": [
       "                   Sold-To Party       Date  \\\n",
       "0      2000001    N.CT. AGENCIES 2019-10-23   \n",
       "1      2000001    N.CT. AGENCIES 2019-07-10   \n",
       "2      2000001    N.CT. AGENCIES 2019-07-16   \n",
       "3      2000001    N.CT. AGENCIES 2019-07-23   \n",
       "4      2000001    N.CT. AGENCIES 2019-07-29   \n",
       "...                          ...        ...   \n",
       "53834                    2001017 2018-05-28   \n",
       "53835  2003456    JPL ASSOCIATES 2019-03-19   \n",
       "53836  2003456    JPL ASSOCIATES 2019-03-19   \n",
       "53837  2003456    JPL ASSOCIATES 2019-03-19   \n",
       "53838  2003456    JPL ASSOCIATES 2019-03-26   \n",
       "\n",
       "                                    Prod_Name  Bill. Qty  Count        Mean  \\\n",
       "0      KARTHIKA HERBAL POWDER CONT 180G 80PCS       10.0     60    2.816667   \n",
       "1      KARTHIKA HERBAL POWDER 5.8 GM 2000 PCS      400.0    104  178.009615   \n",
       "2      KARTHIKA HERBAL POWDER 5.8 GM 2000 PCS      150.0    104  178.009615   \n",
       "3      KARTHIKA HERBAL POWDER 5.8 GM 2000 PCS      260.0    104  178.009615   \n",
       "4      KARTHIKA HERBAL POWDER 5.8 GM 2000 PCS      192.0    104  178.009615   \n",
       "...                                       ...        ...    ...         ...   \n",
       "53834   MEERA HERBAL POWDER 120GM CONT 60 PCS        1.0      3    1.666667   \n",
       "53835  MEERA HERBAL POWDER 40GM REFILL 100PCS        1.0      4    1.000000   \n",
       "53836  MEERA HERBAL POWDER 80GM REFILL 50 PCS        1.0      3    1.000000   \n",
       "53837   MEERA HERBAL POWDER 120GM CONT 60 PCS        2.0      8    1.625000   \n",
       "53838   MEERA HERBAL POWDER 120GM CONT 60 PCS        1.0      8    1.625000   \n",
       "\n",
       "           stddev  Median  \n",
       "0        2.626409     2.0  \n",
       "1      156.689570   146.5  \n",
       "2      156.689570   146.5  \n",
       "3      156.689570   146.5  \n",
       "4      156.689570   146.5  \n",
       "...           ...     ...  \n",
       "53834    1.154701     1.0  \n",
       "53835    0.000000     1.0  \n",
       "53836    0.000000     1.0  \n",
       "53837    0.517549     2.0  \n",
       "53838    0.517549     2.0  \n",
       "\n",
       "[53839 rows x 8 columns]"
      ]
     },
     "execution_count": 22,
     "metadata": {},
     "output_type": "execute_result"
    }
   ],
   "source": [
    "zscore_data"
   ]
  },
  {
   "cell_type": "markdown",
   "metadata": {},
   "source": [
    "### Consider Only one Distributor"
   ]
  },
  {
   "cell_type": "code",
   "execution_count": 23,
   "metadata": {},
   "outputs": [
    {
     "data": {
      "text/html": [
       "<div>\n",
       "<style scoped>\n",
       "    .dataframe tbody tr th:only-of-type {\n",
       "        vertical-align: middle;\n",
       "    }\n",
       "\n",
       "    .dataframe tbody tr th {\n",
       "        vertical-align: top;\n",
       "    }\n",
       "\n",
       "    .dataframe thead th {\n",
       "        text-align: right;\n",
       "    }\n",
       "</style>\n",
       "<table border=\"1\" class=\"dataframe\">\n",
       "  <thead>\n",
       "    <tr style=\"text-align: right;\">\n",
       "      <th></th>\n",
       "      <th>Sold-To Party</th>\n",
       "      <th>Date</th>\n",
       "      <th>Prod_Name</th>\n",
       "      <th>Bill. Qty</th>\n",
       "      <th>Count</th>\n",
       "      <th>Mean</th>\n",
       "      <th>stddev</th>\n",
       "      <th>Median</th>\n",
       "    </tr>\n",
       "  </thead>\n",
       "  <tbody>\n",
       "    <tr>\n",
       "      <th>4098</th>\n",
       "      <td>2000082    HARISH KANNA AGENCY</td>\n",
       "      <td>2019-04-03</td>\n",
       "      <td>KARTHIKA HERBAL POWDER 50GM 180 PCS</td>\n",
       "      <td>1.0</td>\n",
       "      <td>87</td>\n",
       "      <td>2.000000</td>\n",
       "      <td>1.00000</td>\n",
       "      <td>2.0</td>\n",
       "    </tr>\n",
       "    <tr>\n",
       "      <th>4099</th>\n",
       "      <td>2000082    HARISH KANNA AGENCY</td>\n",
       "      <td>2019-04-16</td>\n",
       "      <td>KARTHIKA HERBAL POWDER 50GM 180 PCS</td>\n",
       "      <td>2.0</td>\n",
       "      <td>87</td>\n",
       "      <td>2.000000</td>\n",
       "      <td>1.00000</td>\n",
       "      <td>2.0</td>\n",
       "    </tr>\n",
       "    <tr>\n",
       "      <th>4100</th>\n",
       "      <td>2000082    HARISH KANNA AGENCY</td>\n",
       "      <td>2019-04-27</td>\n",
       "      <td>KARTHIKA HERBAL POWDER 50GM 180 PCS</td>\n",
       "      <td>3.0</td>\n",
       "      <td>87</td>\n",
       "      <td>2.000000</td>\n",
       "      <td>1.00000</td>\n",
       "      <td>2.0</td>\n",
       "    </tr>\n",
       "    <tr>\n",
       "      <th>4101</th>\n",
       "      <td>2000082    HARISH KANNA AGENCY</td>\n",
       "      <td>2019-05-03</td>\n",
       "      <td>KARTHIKA HERBAL POWDER 50GM 180 PCS</td>\n",
       "      <td>2.0</td>\n",
       "      <td>87</td>\n",
       "      <td>2.000000</td>\n",
       "      <td>1.00000</td>\n",
       "      <td>2.0</td>\n",
       "    </tr>\n",
       "    <tr>\n",
       "      <th>4102</th>\n",
       "      <td>2000082    HARISH KANNA AGENCY</td>\n",
       "      <td>2019-05-10</td>\n",
       "      <td>KARTHIKA HERBAL POWDER 50GM 180 PCS</td>\n",
       "      <td>2.0</td>\n",
       "      <td>87</td>\n",
       "      <td>2.000000</td>\n",
       "      <td>1.00000</td>\n",
       "      <td>2.0</td>\n",
       "    </tr>\n",
       "    <tr>\n",
       "      <th>...</th>\n",
       "      <td>...</td>\n",
       "      <td>...</td>\n",
       "      <td>...</td>\n",
       "      <td>...</td>\n",
       "      <td>...</td>\n",
       "      <td>...</td>\n",
       "      <td>...</td>\n",
       "      <td>...</td>\n",
       "    </tr>\n",
       "    <tr>\n",
       "      <th>30303</th>\n",
       "      <td>2000082    HARISH KANNA AGENCY</td>\n",
       "      <td>2019-02-21</td>\n",
       "      <td>MEERA HERBAL POWDER 5.6 GM 1350 PCS</td>\n",
       "      <td>22.0</td>\n",
       "      <td>66</td>\n",
       "      <td>21.242424</td>\n",
       "      <td>12.72195</td>\n",
       "      <td>20.0</td>\n",
       "    </tr>\n",
       "    <tr>\n",
       "      <th>30304</th>\n",
       "      <td>2000082    HARISH KANNA AGENCY</td>\n",
       "      <td>2019-03-01</td>\n",
       "      <td>MEERA HERBAL POWDER 5.6 GM 1350 PCS</td>\n",
       "      <td>15.0</td>\n",
       "      <td>66</td>\n",
       "      <td>21.242424</td>\n",
       "      <td>12.72195</td>\n",
       "      <td>20.0</td>\n",
       "    </tr>\n",
       "    <tr>\n",
       "      <th>30305</th>\n",
       "      <td>2000082    HARISH KANNA AGENCY</td>\n",
       "      <td>2019-03-08</td>\n",
       "      <td>MEERA HERBAL POWDER 5.6 GM 1350 PCS</td>\n",
       "      <td>32.0</td>\n",
       "      <td>66</td>\n",
       "      <td>21.242424</td>\n",
       "      <td>12.72195</td>\n",
       "      <td>20.0</td>\n",
       "    </tr>\n",
       "    <tr>\n",
       "      <th>30306</th>\n",
       "      <td>2000082    HARISH KANNA AGENCY</td>\n",
       "      <td>2019-03-15</td>\n",
       "      <td>MEERA HERBAL POWDER 5.6 GM 1350 PCS</td>\n",
       "      <td>28.0</td>\n",
       "      <td>66</td>\n",
       "      <td>21.242424</td>\n",
       "      <td>12.72195</td>\n",
       "      <td>20.0</td>\n",
       "    </tr>\n",
       "    <tr>\n",
       "      <th>30307</th>\n",
       "      <td>2000082    HARISH KANNA AGENCY</td>\n",
       "      <td>2019-03-22</td>\n",
       "      <td>MEERA HERBAL POWDER 5.6 GM 1350 PCS</td>\n",
       "      <td>2.0</td>\n",
       "      <td>66</td>\n",
       "      <td>21.242424</td>\n",
       "      <td>12.72195</td>\n",
       "      <td>20.0</td>\n",
       "    </tr>\n",
       "  </tbody>\n",
       "</table>\n",
       "<p>594 rows × 8 columns</p>\n",
       "</div>"
      ],
      "text/plain": [
       "                        Sold-To Party       Date  \\\n",
       "4098   2000082    HARISH KANNA AGENCY 2019-04-03   \n",
       "4099   2000082    HARISH KANNA AGENCY 2019-04-16   \n",
       "4100   2000082    HARISH KANNA AGENCY 2019-04-27   \n",
       "4101   2000082    HARISH KANNA AGENCY 2019-05-03   \n",
       "4102   2000082    HARISH KANNA AGENCY 2019-05-10   \n",
       "...                               ...        ...   \n",
       "30303  2000082    HARISH KANNA AGENCY 2019-02-21   \n",
       "30304  2000082    HARISH KANNA AGENCY 2019-03-01   \n",
       "30305  2000082    HARISH KANNA AGENCY 2019-03-08   \n",
       "30306  2000082    HARISH KANNA AGENCY 2019-03-15   \n",
       "30307  2000082    HARISH KANNA AGENCY 2019-03-22   \n",
       "\n",
       "                                 Prod_Name  Bill. Qty  Count       Mean  \\\n",
       "4098   KARTHIKA HERBAL POWDER 50GM 180 PCS        1.0     87   2.000000   \n",
       "4099   KARTHIKA HERBAL POWDER 50GM 180 PCS        2.0     87   2.000000   \n",
       "4100   KARTHIKA HERBAL POWDER 50GM 180 PCS        3.0     87   2.000000   \n",
       "4101   KARTHIKA HERBAL POWDER 50GM 180 PCS        2.0     87   2.000000   \n",
       "4102   KARTHIKA HERBAL POWDER 50GM 180 PCS        2.0     87   2.000000   \n",
       "...                                    ...        ...    ...        ...   \n",
       "30303  MEERA HERBAL POWDER 5.6 GM 1350 PCS       22.0     66  21.242424   \n",
       "30304  MEERA HERBAL POWDER 5.6 GM 1350 PCS       15.0     66  21.242424   \n",
       "30305  MEERA HERBAL POWDER 5.6 GM 1350 PCS       32.0     66  21.242424   \n",
       "30306  MEERA HERBAL POWDER 5.6 GM 1350 PCS       28.0     66  21.242424   \n",
       "30307  MEERA HERBAL POWDER 5.6 GM 1350 PCS        2.0     66  21.242424   \n",
       "\n",
       "         stddev  Median  \n",
       "4098    1.00000     2.0  \n",
       "4099    1.00000     2.0  \n",
       "4100    1.00000     2.0  \n",
       "4101    1.00000     2.0  \n",
       "4102    1.00000     2.0  \n",
       "...         ...     ...  \n",
       "30303  12.72195    20.0  \n",
       "30304  12.72195    20.0  \n",
       "30305  12.72195    20.0  \n",
       "30306  12.72195    20.0  \n",
       "30307  12.72195    20.0  \n",
       "\n",
       "[594 rows x 8 columns]"
      ]
     },
     "execution_count": 23,
     "metadata": {},
     "output_type": "execute_result"
    }
   ],
   "source": [
    "# Test Data\n",
    "zscore_data = zscore_data[(zscore_data[\"Sold-To Party\"] == \"2000082    HARISH KANNA AGENCY\")]\n",
    "zscore_data\n",
    "# \"2000082    HARISH KANNA AGENCY\"\n",
    "# \"2000001    N.CT. AGENCIES\"\n",
    "# \"2000168    SAI SRI SARAN AGENCY\""
   ]
  },
  {
   "cell_type": "markdown",
   "metadata": {},
   "source": [
    "### Univariate"
   ]
  },
  {
   "cell_type": "markdown",
   "metadata": {},
   "source": [
    "### Method 1 - Z Score Calculation\n",
    "\n",
    "Z score = (Observation - Mean)/Sigma"
   ]
  },
  {
   "cell_type": "code",
   "execution_count": 24,
   "metadata": {},
   "outputs": [],
   "source": [
    "zscore_data['z-score']= (zscore_data['Bill. Qty'] - zscore_data['Mean'])/zscore_data['stddev']"
   ]
  },
  {
   "cell_type": "code",
   "execution_count": 25,
   "metadata": {
    "scrolled": true
   },
   "outputs": [
    {
     "data": {
      "text/html": [
       "<div>\n",
       "<style scoped>\n",
       "    .dataframe tbody tr th:only-of-type {\n",
       "        vertical-align: middle;\n",
       "    }\n",
       "\n",
       "    .dataframe tbody tr th {\n",
       "        vertical-align: top;\n",
       "    }\n",
       "\n",
       "    .dataframe thead th {\n",
       "        text-align: right;\n",
       "    }\n",
       "</style>\n",
       "<table border=\"1\" class=\"dataframe\">\n",
       "  <thead>\n",
       "    <tr style=\"text-align: right;\">\n",
       "      <th></th>\n",
       "      <th>Sold-To Party</th>\n",
       "      <th>Date</th>\n",
       "      <th>Prod_Name</th>\n",
       "      <th>Bill. Qty</th>\n",
       "      <th>Count</th>\n",
       "      <th>Mean</th>\n",
       "      <th>stddev</th>\n",
       "      <th>Median</th>\n",
       "      <th>z-score</th>\n",
       "    </tr>\n",
       "  </thead>\n",
       "  <tbody>\n",
       "    <tr>\n",
       "      <th>30106</th>\n",
       "      <td>2000082    HARISH KANNA AGENCY</td>\n",
       "      <td>2018-08-22</td>\n",
       "      <td>KARTHIKA HERBAL POWDER 5.8 GM 2000 PCS</td>\n",
       "      <td>102.0</td>\n",
       "      <td>105</td>\n",
       "      <td>34.352381</td>\n",
       "      <td>16.504068</td>\n",
       "      <td>31.0</td>\n",
       "      <td>4.098845</td>\n",
       "    </tr>\n",
       "    <tr>\n",
       "      <th>30062</th>\n",
       "      <td>2000082    HARISH KANNA AGENCY</td>\n",
       "      <td>2018-09-27</td>\n",
       "      <td>KARTHIKA HERBAL POWDER CONT 180G 80PCS</td>\n",
       "      <td>5.0</td>\n",
       "      <td>87</td>\n",
       "      <td>1.758621</td>\n",
       "      <td>0.939638</td>\n",
       "      <td>2.0</td>\n",
       "      <td>3.449605</td>\n",
       "    </tr>\n",
       "    <tr>\n",
       "      <th>4161</th>\n",
       "      <td>2000082    HARISH KANNA AGENCY</td>\n",
       "      <td>2019-09-10</td>\n",
       "      <td>KARTHIKA HERBAL POWDER CONT 180G 80PCS</td>\n",
       "      <td>5.0</td>\n",
       "      <td>87</td>\n",
       "      <td>1.758621</td>\n",
       "      <td>0.939638</td>\n",
       "      <td>2.0</td>\n",
       "      <td>3.449605</td>\n",
       "    </tr>\n",
       "    <tr>\n",
       "      <th>4162</th>\n",
       "      <td>2000082    HARISH KANNA AGENCY</td>\n",
       "      <td>2019-09-25</td>\n",
       "      <td>KARTHIKA HERBAL POWDER CONT 180G 80PCS</td>\n",
       "      <td>5.0</td>\n",
       "      <td>87</td>\n",
       "      <td>1.758621</td>\n",
       "      <td>0.939638</td>\n",
       "      <td>2.0</td>\n",
       "      <td>3.449605</td>\n",
       "    </tr>\n",
       "    <tr>\n",
       "      <th>30238</th>\n",
       "      <td>2000082    HARISH KANNA AGENCY</td>\n",
       "      <td>2018-09-27</td>\n",
       "      <td>MEERA HERBAL POWDER 120GM CONT 60 PCS</td>\n",
       "      <td>21.0</td>\n",
       "      <td>54</td>\n",
       "      <td>7.018519</td>\n",
       "      <td>4.507816</td>\n",
       "      <td>5.5</td>\n",
       "      <td>3.101609</td>\n",
       "    </tr>\n",
       "  </tbody>\n",
       "</table>\n",
       "</div>"
      ],
      "text/plain": [
       "                        Sold-To Party       Date  \\\n",
       "30106  2000082    HARISH KANNA AGENCY 2018-08-22   \n",
       "30062  2000082    HARISH KANNA AGENCY 2018-09-27   \n",
       "4161   2000082    HARISH KANNA AGENCY 2019-09-10   \n",
       "4162   2000082    HARISH KANNA AGENCY 2019-09-25   \n",
       "30238  2000082    HARISH KANNA AGENCY 2018-09-27   \n",
       "\n",
       "                                    Prod_Name  Bill. Qty  Count       Mean  \\\n",
       "30106  KARTHIKA HERBAL POWDER 5.8 GM 2000 PCS      102.0    105  34.352381   \n",
       "30062  KARTHIKA HERBAL POWDER CONT 180G 80PCS        5.0     87   1.758621   \n",
       "4161   KARTHIKA HERBAL POWDER CONT 180G 80PCS        5.0     87   1.758621   \n",
       "4162   KARTHIKA HERBAL POWDER CONT 180G 80PCS        5.0     87   1.758621   \n",
       "30238   MEERA HERBAL POWDER 120GM CONT 60 PCS       21.0     54   7.018519   \n",
       "\n",
       "          stddev  Median   z-score  \n",
       "30106  16.504068    31.0  4.098845  \n",
       "30062   0.939638     2.0  3.449605  \n",
       "4161    0.939638     2.0  3.449605  \n",
       "4162    0.939638     2.0  3.449605  \n",
       "30238   4.507816     5.5  3.101609  "
      ]
     },
     "execution_count": 25,
     "metadata": {},
     "output_type": "execute_result"
    }
   ],
   "source": [
    "zscore_data.sort_values(by='z-score', ascending=False,inplace=True)\n",
    "zscore_data.head(5)"
   ]
  },
  {
   "cell_type": "markdown",
   "metadata": {},
   "source": [
    "### Method 2 - Mod Z Score Calculation - IBM formula\n",
    "\n",
    "MAD - Median Absolute deviation        \n",
    "MAD = Median(ABS(observation - Median))       \n",
    "\n",
    "MeanAD - Mean Absolute deviation     \n",
    "MeanAD = Mean(ABS(Observation - Mean))      \n",
    "            "
   ]
  },
  {
   "cell_type": "code",
   "execution_count": 26,
   "metadata": {},
   "outputs": [],
   "source": [
    "zscore_data['MAD Bill. Qty'] = np.absolute(zscore_data['Bill. Qty'] - zscore_data['Median']) #abs(x-median)\n",
    "zscore_data['MeanAD Bill. Qty'] = np.absolute(zscore_data['Bill. Qty'] - zscore_data['Mean']) #abs(x-mean)"
   ]
  },
  {
   "cell_type": "code",
   "execution_count": 27,
   "metadata": {},
   "outputs": [],
   "source": [
    "MeanAD_MAD_Group = zscore_data.groupby([\"Sold-To Party\",\"Prod_Name\"]).agg(MAD = (\"MAD Bill. Qty\",\"median\"),\n",
    "                                                                          MeanAD = (\"MeanAD Bill. Qty\",\"mean\")).reset_index()"
   ]
  },
  {
   "cell_type": "code",
   "execution_count": 28,
   "metadata": {},
   "outputs": [
    {
     "data": {
      "text/html": [
       "<div>\n",
       "<style scoped>\n",
       "    .dataframe tbody tr th:only-of-type {\n",
       "        vertical-align: middle;\n",
       "    }\n",
       "\n",
       "    .dataframe tbody tr th {\n",
       "        vertical-align: top;\n",
       "    }\n",
       "\n",
       "    .dataframe thead th {\n",
       "        text-align: right;\n",
       "    }\n",
       "</style>\n",
       "<table border=\"1\" class=\"dataframe\">\n",
       "  <thead>\n",
       "    <tr style=\"text-align: right;\">\n",
       "      <th></th>\n",
       "      <th>Sold-To Party</th>\n",
       "      <th>Prod_Name</th>\n",
       "      <th>MAD</th>\n",
       "      <th>MeanAD</th>\n",
       "    </tr>\n",
       "  </thead>\n",
       "  <tbody>\n",
       "    <tr>\n",
       "      <th>0</th>\n",
       "      <td>2000082    HARISH KANNA AGENCY</td>\n",
       "      <td>KARTHIKA HERBAL POWDER 5.8 GM 2000 PCS</td>\n",
       "      <td>9.0</td>\n",
       "      <td>12.416145</td>\n",
       "    </tr>\n",
       "    <tr>\n",
       "      <th>1</th>\n",
       "      <td>2000082    HARISH KANNA AGENCY</td>\n",
       "      <td>KARTHIKA HERBAL POWDER 50GM 180 PCS</td>\n",
       "      <td>1.0</td>\n",
       "      <td>0.643678</td>\n",
       "    </tr>\n",
       "  </tbody>\n",
       "</table>\n",
       "</div>"
      ],
      "text/plain": [
       "                    Sold-To Party                               Prod_Name  \\\n",
       "0  2000082    HARISH KANNA AGENCY  KARTHIKA HERBAL POWDER 5.8 GM 2000 PCS   \n",
       "1  2000082    HARISH KANNA AGENCY     KARTHIKA HERBAL POWDER 50GM 180 PCS   \n",
       "\n",
       "   MAD     MeanAD  \n",
       "0  9.0  12.416145  \n",
       "1  1.0   0.643678  "
      ]
     },
     "execution_count": 28,
     "metadata": {},
     "output_type": "execute_result"
    }
   ],
   "source": [
    "MeanAD_MAD_Group.head(2)"
   ]
  },
  {
   "cell_type": "code",
   "execution_count": 29,
   "metadata": {},
   "outputs": [],
   "source": [
    "zscore_data = pd.merge(zscore_data,MeanAD_MAD_Group,on=[\"Sold-To Party\",\"Prod_Name\"],how='left')"
   ]
  },
  {
   "cell_type": "code",
   "execution_count": 30,
   "metadata": {},
   "outputs": [
    {
     "data": {
      "text/html": [
       "<div>\n",
       "<style scoped>\n",
       "    .dataframe tbody tr th:only-of-type {\n",
       "        vertical-align: middle;\n",
       "    }\n",
       "\n",
       "    .dataframe tbody tr th {\n",
       "        vertical-align: top;\n",
       "    }\n",
       "\n",
       "    .dataframe thead th {\n",
       "        text-align: right;\n",
       "    }\n",
       "</style>\n",
       "<table border=\"1\" class=\"dataframe\">\n",
       "  <thead>\n",
       "    <tr style=\"text-align: right;\">\n",
       "      <th></th>\n",
       "      <th>Sold-To Party</th>\n",
       "      <th>Date</th>\n",
       "      <th>Prod_Name</th>\n",
       "      <th>Bill. Qty</th>\n",
       "      <th>Count</th>\n",
       "      <th>Mean</th>\n",
       "      <th>stddev</th>\n",
       "      <th>Median</th>\n",
       "      <th>z-score</th>\n",
       "      <th>MAD Bill. Qty</th>\n",
       "      <th>MeanAD Bill. Qty</th>\n",
       "      <th>MAD</th>\n",
       "      <th>MeanAD</th>\n",
       "    </tr>\n",
       "  </thead>\n",
       "  <tbody>\n",
       "    <tr>\n",
       "      <th>0</th>\n",
       "      <td>2000082    HARISH KANNA AGENCY</td>\n",
       "      <td>2018-08-22</td>\n",
       "      <td>KARTHIKA HERBAL POWDER 5.8 GM 2000 PCS</td>\n",
       "      <td>102.0</td>\n",
       "      <td>105</td>\n",
       "      <td>34.352381</td>\n",
       "      <td>16.504068</td>\n",
       "      <td>31.0</td>\n",
       "      <td>4.098845</td>\n",
       "      <td>71.0</td>\n",
       "      <td>67.647619</td>\n",
       "      <td>9.0</td>\n",
       "      <td>12.416145</td>\n",
       "    </tr>\n",
       "    <tr>\n",
       "      <th>1</th>\n",
       "      <td>2000082    HARISH KANNA AGENCY</td>\n",
       "      <td>2018-09-27</td>\n",
       "      <td>KARTHIKA HERBAL POWDER CONT 180G 80PCS</td>\n",
       "      <td>5.0</td>\n",
       "      <td>87</td>\n",
       "      <td>1.758621</td>\n",
       "      <td>0.939638</td>\n",
       "      <td>2.0</td>\n",
       "      <td>3.449605</td>\n",
       "      <td>3.0</td>\n",
       "      <td>3.241379</td>\n",
       "      <td>1.0</td>\n",
       "      <td>0.715022</td>\n",
       "    </tr>\n",
       "    <tr>\n",
       "      <th>2</th>\n",
       "      <td>2000082    HARISH KANNA AGENCY</td>\n",
       "      <td>2019-09-10</td>\n",
       "      <td>KARTHIKA HERBAL POWDER CONT 180G 80PCS</td>\n",
       "      <td>5.0</td>\n",
       "      <td>87</td>\n",
       "      <td>1.758621</td>\n",
       "      <td>0.939638</td>\n",
       "      <td>2.0</td>\n",
       "      <td>3.449605</td>\n",
       "      <td>3.0</td>\n",
       "      <td>3.241379</td>\n",
       "      <td>1.0</td>\n",
       "      <td>0.715022</td>\n",
       "    </tr>\n",
       "    <tr>\n",
       "      <th>3</th>\n",
       "      <td>2000082    HARISH KANNA AGENCY</td>\n",
       "      <td>2019-09-25</td>\n",
       "      <td>KARTHIKA HERBAL POWDER CONT 180G 80PCS</td>\n",
       "      <td>5.0</td>\n",
       "      <td>87</td>\n",
       "      <td>1.758621</td>\n",
       "      <td>0.939638</td>\n",
       "      <td>2.0</td>\n",
       "      <td>3.449605</td>\n",
       "      <td>3.0</td>\n",
       "      <td>3.241379</td>\n",
       "      <td>1.0</td>\n",
       "      <td>0.715022</td>\n",
       "    </tr>\n",
       "    <tr>\n",
       "      <th>4</th>\n",
       "      <td>2000082    HARISH KANNA AGENCY</td>\n",
       "      <td>2018-09-27</td>\n",
       "      <td>MEERA HERBAL POWDER 120GM CONT 60 PCS</td>\n",
       "      <td>21.0</td>\n",
       "      <td>54</td>\n",
       "      <td>7.018519</td>\n",
       "      <td>4.507816</td>\n",
       "      <td>5.5</td>\n",
       "      <td>3.101609</td>\n",
       "      <td>15.5</td>\n",
       "      <td>13.981481</td>\n",
       "      <td>1.5</td>\n",
       "      <td>3.320988</td>\n",
       "    </tr>\n",
       "    <tr>\n",
       "      <th>...</th>\n",
       "      <td>...</td>\n",
       "      <td>...</td>\n",
       "      <td>...</td>\n",
       "      <td>...</td>\n",
       "      <td>...</td>\n",
       "      <td>...</td>\n",
       "      <td>...</td>\n",
       "      <td>...</td>\n",
       "      <td>...</td>\n",
       "      <td>...</td>\n",
       "      <td>...</td>\n",
       "      <td>...</td>\n",
       "      <td>...</td>\n",
       "    </tr>\n",
       "    <tr>\n",
       "      <th>589</th>\n",
       "      <td>2000082    HARISH KANNA AGENCY</td>\n",
       "      <td>2019-01-24</td>\n",
       "      <td>MEERA HERBAL POWDER 5.6 GM 1350 PCS</td>\n",
       "      <td>1.0</td>\n",
       "      <td>66</td>\n",
       "      <td>21.242424</td>\n",
       "      <td>12.721950</td>\n",
       "      <td>20.0</td>\n",
       "      <td>-1.591142</td>\n",
       "      <td>19.0</td>\n",
       "      <td>20.242424</td>\n",
       "      <td>8.0</td>\n",
       "      <td>9.596878</td>\n",
       "    </tr>\n",
       "    <tr>\n",
       "      <th>590</th>\n",
       "      <td>2000082    HARISH KANNA AGENCY</td>\n",
       "      <td>2018-04-20</td>\n",
       "      <td>MEERA HERBAL POWDER 5.6 GM 1350 PCS</td>\n",
       "      <td>1.0</td>\n",
       "      <td>66</td>\n",
       "      <td>21.242424</td>\n",
       "      <td>12.721950</td>\n",
       "      <td>20.0</td>\n",
       "      <td>-1.591142</td>\n",
       "      <td>19.0</td>\n",
       "      <td>20.242424</td>\n",
       "      <td>8.0</td>\n",
       "      <td>9.596878</td>\n",
       "    </tr>\n",
       "    <tr>\n",
       "      <th>591</th>\n",
       "      <td>2000082    HARISH KANNA AGENCY</td>\n",
       "      <td>2018-08-25</td>\n",
       "      <td>KARTHIKA HERBAL POWDER 5.8 GM 2000 PCS</td>\n",
       "      <td>8.0</td>\n",
       "      <td>105</td>\n",
       "      <td>34.352381</td>\n",
       "      <td>16.504068</td>\n",
       "      <td>31.0</td>\n",
       "      <td>-1.596720</td>\n",
       "      <td>23.0</td>\n",
       "      <td>26.352381</td>\n",
       "      <td>9.0</td>\n",
       "      <td>12.416145</td>\n",
       "    </tr>\n",
       "    <tr>\n",
       "      <th>592</th>\n",
       "      <td>2000082    HARISH KANNA AGENCY</td>\n",
       "      <td>2019-11-16</td>\n",
       "      <td>MEERA ADVANCE HW POWDER 5.6 GM 1350 PCS</td>\n",
       "      <td>3.0</td>\n",
       "      <td>37</td>\n",
       "      <td>21.459459</td>\n",
       "      <td>11.410508</td>\n",
       "      <td>20.0</td>\n",
       "      <td>-1.617760</td>\n",
       "      <td>17.0</td>\n",
       "      <td>18.459459</td>\n",
       "      <td>5.0</td>\n",
       "      <td>8.271731</td>\n",
       "    </tr>\n",
       "    <tr>\n",
       "      <th>593</th>\n",
       "      <td>2000082    HARISH KANNA AGENCY</td>\n",
       "      <td>2019-09-13</td>\n",
       "      <td>KARTHIKA HERBAL POWDER 5.8 GM 2000 PCS</td>\n",
       "      <td>4.0</td>\n",
       "      <td>105</td>\n",
       "      <td>34.352381</td>\n",
       "      <td>16.504068</td>\n",
       "      <td>31.0</td>\n",
       "      <td>-1.839085</td>\n",
       "      <td>27.0</td>\n",
       "      <td>30.352381</td>\n",
       "      <td>9.0</td>\n",
       "      <td>12.416145</td>\n",
       "    </tr>\n",
       "  </tbody>\n",
       "</table>\n",
       "<p>594 rows × 13 columns</p>\n",
       "</div>"
      ],
      "text/plain": [
       "                      Sold-To Party       Date  \\\n",
       "0    2000082    HARISH KANNA AGENCY 2018-08-22   \n",
       "1    2000082    HARISH KANNA AGENCY 2018-09-27   \n",
       "2    2000082    HARISH KANNA AGENCY 2019-09-10   \n",
       "3    2000082    HARISH KANNA AGENCY 2019-09-25   \n",
       "4    2000082    HARISH KANNA AGENCY 2018-09-27   \n",
       "..                              ...        ...   \n",
       "589  2000082    HARISH KANNA AGENCY 2019-01-24   \n",
       "590  2000082    HARISH KANNA AGENCY 2018-04-20   \n",
       "591  2000082    HARISH KANNA AGENCY 2018-08-25   \n",
       "592  2000082    HARISH KANNA AGENCY 2019-11-16   \n",
       "593  2000082    HARISH KANNA AGENCY 2019-09-13   \n",
       "\n",
       "                                   Prod_Name  Bill. Qty  Count       Mean  \\\n",
       "0     KARTHIKA HERBAL POWDER 5.8 GM 2000 PCS      102.0    105  34.352381   \n",
       "1     KARTHIKA HERBAL POWDER CONT 180G 80PCS        5.0     87   1.758621   \n",
       "2     KARTHIKA HERBAL POWDER CONT 180G 80PCS        5.0     87   1.758621   \n",
       "3     KARTHIKA HERBAL POWDER CONT 180G 80PCS        5.0     87   1.758621   \n",
       "4      MEERA HERBAL POWDER 120GM CONT 60 PCS       21.0     54   7.018519   \n",
       "..                                       ...        ...    ...        ...   \n",
       "589      MEERA HERBAL POWDER 5.6 GM 1350 PCS        1.0     66  21.242424   \n",
       "590      MEERA HERBAL POWDER 5.6 GM 1350 PCS        1.0     66  21.242424   \n",
       "591   KARTHIKA HERBAL POWDER 5.8 GM 2000 PCS        8.0    105  34.352381   \n",
       "592  MEERA ADVANCE HW POWDER 5.6 GM 1350 PCS        3.0     37  21.459459   \n",
       "593   KARTHIKA HERBAL POWDER 5.8 GM 2000 PCS        4.0    105  34.352381   \n",
       "\n",
       "        stddev  Median   z-score  MAD Bill. Qty  MeanAD Bill. Qty  MAD  \\\n",
       "0    16.504068    31.0  4.098845           71.0         67.647619  9.0   \n",
       "1     0.939638     2.0  3.449605            3.0          3.241379  1.0   \n",
       "2     0.939638     2.0  3.449605            3.0          3.241379  1.0   \n",
       "3     0.939638     2.0  3.449605            3.0          3.241379  1.0   \n",
       "4     4.507816     5.5  3.101609           15.5         13.981481  1.5   \n",
       "..         ...     ...       ...            ...               ...  ...   \n",
       "589  12.721950    20.0 -1.591142           19.0         20.242424  8.0   \n",
       "590  12.721950    20.0 -1.591142           19.0         20.242424  8.0   \n",
       "591  16.504068    31.0 -1.596720           23.0         26.352381  9.0   \n",
       "592  11.410508    20.0 -1.617760           17.0         18.459459  5.0   \n",
       "593  16.504068    31.0 -1.839085           27.0         30.352381  9.0   \n",
       "\n",
       "        MeanAD  \n",
       "0    12.416145  \n",
       "1     0.715022  \n",
       "2     0.715022  \n",
       "3     0.715022  \n",
       "4     3.320988  \n",
       "..         ...  \n",
       "589   9.596878  \n",
       "590   9.596878  \n",
       "591  12.416145  \n",
       "592   8.271731  \n",
       "593  12.416145  \n",
       "\n",
       "[594 rows x 13 columns]"
      ]
     },
     "execution_count": 30,
     "metadata": {},
     "output_type": "execute_result"
    }
   ],
   "source": [
    "zscore_data"
   ]
  },
  {
   "cell_type": "markdown",
   "metadata": {},
   "source": [
    "# Mod Z Score formula:\n",
    "\n",
    "**Formula1** : If MAD = 0 then, (X-MED)/(1.253314 * MeanAD)   \n",
    "**Formula2** : If MAD != 0 then, (X-MED)/(1.486 * MAD)   \n"
   ]
  },
  {
   "cell_type": "code",
   "execution_count": 31,
   "metadata": {},
   "outputs": [],
   "source": [
    "MAD_data_equal0   = zscore_data[zscore_data['MAD'] == 0]\n",
    "MAD_data_greater0 = zscore_data[zscore_data['MAD']  > 0]"
   ]
  },
  {
   "cell_type": "code",
   "execution_count": 32,
   "metadata": {},
   "outputs": [
    {
     "data": {
      "text/plain": [
       "(0, 13)"
      ]
     },
     "execution_count": 32,
     "metadata": {},
     "output_type": "execute_result"
    }
   ],
   "source": [
    "MAD_data_equal0.shape"
   ]
  },
  {
   "cell_type": "code",
   "execution_count": 33,
   "metadata": {},
   "outputs": [
    {
     "data": {
      "text/plain": [
       "(594, 13)"
      ]
     },
     "execution_count": 33,
     "metadata": {},
     "output_type": "execute_result"
    }
   ],
   "source": [
    "MAD_data_greater0.shape"
   ]
  },
  {
   "cell_type": "markdown",
   "metadata": {},
   "source": [
    "So we will using Formula 1 for 27% of the records and formula 2 for the rest 73% of the records"
   ]
  },
  {
   "cell_type": "markdown",
   "metadata": {},
   "source": [
    "**Formula1** : If Median = 0 then, (X-MED)/(1.253314 * MeanAD)  "
   ]
  },
  {
   "cell_type": "code",
   "execution_count": 34,
   "metadata": {},
   "outputs": [],
   "source": [
    "\n",
    "MAD_data_equal0['Mod-z_score'] = MAD_data_equal0['MAD Bill. Qty']/(1.253314 * MAD_data_equal0['MeanAD']) "
   ]
  },
  {
   "cell_type": "code",
   "execution_count": 35,
   "metadata": {},
   "outputs": [],
   "source": [
    "MAD_data_greater0['Mod-z_score'] = MAD_data_greater0['MAD Bill. Qty']/(1.486 * MAD_data_greater0['MAD']) "
   ]
  },
  {
   "cell_type": "code",
   "execution_count": 36,
   "metadata": {},
   "outputs": [
    {
     "data": {
      "text/html": [
       "<div>\n",
       "<style scoped>\n",
       "    .dataframe tbody tr th:only-of-type {\n",
       "        vertical-align: middle;\n",
       "    }\n",
       "\n",
       "    .dataframe tbody tr th {\n",
       "        vertical-align: top;\n",
       "    }\n",
       "\n",
       "    .dataframe thead th {\n",
       "        text-align: right;\n",
       "    }\n",
       "</style>\n",
       "<table border=\"1\" class=\"dataframe\">\n",
       "  <thead>\n",
       "    <tr style=\"text-align: right;\">\n",
       "      <th></th>\n",
       "      <th>Sold-To Party</th>\n",
       "      <th>Date</th>\n",
       "      <th>Prod_Name</th>\n",
       "      <th>Bill. Qty</th>\n",
       "      <th>Count</th>\n",
       "      <th>Mean</th>\n",
       "      <th>stddev</th>\n",
       "      <th>Median</th>\n",
       "      <th>z-score</th>\n",
       "      <th>MAD Bill. Qty</th>\n",
       "      <th>MeanAD Bill. Qty</th>\n",
       "      <th>MAD</th>\n",
       "      <th>MeanAD</th>\n",
       "      <th>Mod-z_score</th>\n",
       "    </tr>\n",
       "  </thead>\n",
       "  <tbody>\n",
       "    <tr>\n",
       "      <th>0</th>\n",
       "      <td>2000082    HARISH KANNA AGENCY</td>\n",
       "      <td>2018-08-22</td>\n",
       "      <td>KARTHIKA HERBAL POWDER 5.8 GM 2000 PCS</td>\n",
       "      <td>102.0</td>\n",
       "      <td>105</td>\n",
       "      <td>34.352381</td>\n",
       "      <td>16.504068</td>\n",
       "      <td>31.0</td>\n",
       "      <td>4.098845</td>\n",
       "      <td>71.0</td>\n",
       "      <td>67.647619</td>\n",
       "      <td>9.0</td>\n",
       "      <td>12.416145</td>\n",
       "      <td>5.308808</td>\n",
       "    </tr>\n",
       "    <tr>\n",
       "      <th>1</th>\n",
       "      <td>2000082    HARISH KANNA AGENCY</td>\n",
       "      <td>2018-09-27</td>\n",
       "      <td>KARTHIKA HERBAL POWDER CONT 180G 80PCS</td>\n",
       "      <td>5.0</td>\n",
       "      <td>87</td>\n",
       "      <td>1.758621</td>\n",
       "      <td>0.939638</td>\n",
       "      <td>2.0</td>\n",
       "      <td>3.449605</td>\n",
       "      <td>3.0</td>\n",
       "      <td>3.241379</td>\n",
       "      <td>1.0</td>\n",
       "      <td>0.715022</td>\n",
       "      <td>2.018843</td>\n",
       "    </tr>\n",
       "    <tr>\n",
       "      <th>2</th>\n",
       "      <td>2000082    HARISH KANNA AGENCY</td>\n",
       "      <td>2019-09-10</td>\n",
       "      <td>KARTHIKA HERBAL POWDER CONT 180G 80PCS</td>\n",
       "      <td>5.0</td>\n",
       "      <td>87</td>\n",
       "      <td>1.758621</td>\n",
       "      <td>0.939638</td>\n",
       "      <td>2.0</td>\n",
       "      <td>3.449605</td>\n",
       "      <td>3.0</td>\n",
       "      <td>3.241379</td>\n",
       "      <td>1.0</td>\n",
       "      <td>0.715022</td>\n",
       "      <td>2.018843</td>\n",
       "    </tr>\n",
       "    <tr>\n",
       "      <th>3</th>\n",
       "      <td>2000082    HARISH KANNA AGENCY</td>\n",
       "      <td>2019-09-25</td>\n",
       "      <td>KARTHIKA HERBAL POWDER CONT 180G 80PCS</td>\n",
       "      <td>5.0</td>\n",
       "      <td>87</td>\n",
       "      <td>1.758621</td>\n",
       "      <td>0.939638</td>\n",
       "      <td>2.0</td>\n",
       "      <td>3.449605</td>\n",
       "      <td>3.0</td>\n",
       "      <td>3.241379</td>\n",
       "      <td>1.0</td>\n",
       "      <td>0.715022</td>\n",
       "      <td>2.018843</td>\n",
       "    </tr>\n",
       "    <tr>\n",
       "      <th>4</th>\n",
       "      <td>2000082    HARISH KANNA AGENCY</td>\n",
       "      <td>2018-09-27</td>\n",
       "      <td>MEERA HERBAL POWDER 120GM CONT 60 PCS</td>\n",
       "      <td>21.0</td>\n",
       "      <td>54</td>\n",
       "      <td>7.018519</td>\n",
       "      <td>4.507816</td>\n",
       "      <td>5.5</td>\n",
       "      <td>3.101609</td>\n",
       "      <td>15.5</td>\n",
       "      <td>13.981481</td>\n",
       "      <td>1.5</td>\n",
       "      <td>3.320988</td>\n",
       "      <td>6.953791</td>\n",
       "    </tr>\n",
       "  </tbody>\n",
       "</table>\n",
       "</div>"
      ],
      "text/plain": [
       "                    Sold-To Party       Date  \\\n",
       "0  2000082    HARISH KANNA AGENCY 2018-08-22   \n",
       "1  2000082    HARISH KANNA AGENCY 2018-09-27   \n",
       "2  2000082    HARISH KANNA AGENCY 2019-09-10   \n",
       "3  2000082    HARISH KANNA AGENCY 2019-09-25   \n",
       "4  2000082    HARISH KANNA AGENCY 2018-09-27   \n",
       "\n",
       "                                Prod_Name  Bill. Qty  Count       Mean  \\\n",
       "0  KARTHIKA HERBAL POWDER 5.8 GM 2000 PCS      102.0    105  34.352381   \n",
       "1  KARTHIKA HERBAL POWDER CONT 180G 80PCS        5.0     87   1.758621   \n",
       "2  KARTHIKA HERBAL POWDER CONT 180G 80PCS        5.0     87   1.758621   \n",
       "3  KARTHIKA HERBAL POWDER CONT 180G 80PCS        5.0     87   1.758621   \n",
       "4   MEERA HERBAL POWDER 120GM CONT 60 PCS       21.0     54   7.018519   \n",
       "\n",
       "      stddev  Median   z-score  MAD Bill. Qty  MeanAD Bill. Qty  MAD  \\\n",
       "0  16.504068    31.0  4.098845           71.0         67.647619  9.0   \n",
       "1   0.939638     2.0  3.449605            3.0          3.241379  1.0   \n",
       "2   0.939638     2.0  3.449605            3.0          3.241379  1.0   \n",
       "3   0.939638     2.0  3.449605            3.0          3.241379  1.0   \n",
       "4   4.507816     5.5  3.101609           15.5         13.981481  1.5   \n",
       "\n",
       "      MeanAD  Mod-z_score  \n",
       "0  12.416145     5.308808  \n",
       "1   0.715022     2.018843  \n",
       "2   0.715022     2.018843  \n",
       "3   0.715022     2.018843  \n",
       "4   3.320988     6.953791  "
      ]
     },
     "execution_count": 36,
     "metadata": {},
     "output_type": "execute_result"
    }
   ],
   "source": [
    "MAD_data_greater0.head(5)"
   ]
  },
  {
   "cell_type": "code",
   "execution_count": 37,
   "metadata": {},
   "outputs": [],
   "source": [
    "zscore_data = MAD_data_equal0.append(MAD_data_greater0)"
   ]
  },
  {
   "cell_type": "code",
   "execution_count": 38,
   "metadata": {},
   "outputs": [
    {
     "data": {
      "text/plain": [
       "Sold-To Party       0\n",
       "Date                0\n",
       "Prod_Name           0\n",
       "Bill. Qty           0\n",
       "Count               0\n",
       "Mean                0\n",
       "stddev              0\n",
       "Median              0\n",
       "z-score             0\n",
       "MAD Bill. Qty       0\n",
       "MeanAD Bill. Qty    0\n",
       "MAD                 0\n",
       "MeanAD              0\n",
       "Mod-z_score         0\n",
       "dtype: int64"
      ]
     },
     "execution_count": 38,
     "metadata": {},
     "output_type": "execute_result"
    }
   ],
   "source": [
    "zscore_data.isna().sum()"
   ]
  },
  {
   "cell_type": "code",
   "execution_count": 39,
   "metadata": {},
   "outputs": [],
   "source": [
    "zscore_data[\"z-score\"].fillna(0,inplace=True)"
   ]
  },
  {
   "cell_type": "code",
   "execution_count": 40,
   "metadata": {},
   "outputs": [],
   "source": [
    "zscore_data[\"Mod-z_score\"].fillna(0,inplace= True)"
   ]
  },
  {
   "cell_type": "code",
   "execution_count": 41,
   "metadata": {},
   "outputs": [
    {
     "data": {
      "text/html": [
       "<div>\n",
       "<style scoped>\n",
       "    .dataframe tbody tr th:only-of-type {\n",
       "        vertical-align: middle;\n",
       "    }\n",
       "\n",
       "    .dataframe tbody tr th {\n",
       "        vertical-align: top;\n",
       "    }\n",
       "\n",
       "    .dataframe thead th {\n",
       "        text-align: right;\n",
       "    }\n",
       "</style>\n",
       "<table border=\"1\" class=\"dataframe\">\n",
       "  <thead>\n",
       "    <tr style=\"text-align: right;\">\n",
       "      <th></th>\n",
       "      <th>Sold-To Party</th>\n",
       "      <th>Date</th>\n",
       "      <th>Prod_Name</th>\n",
       "      <th>Bill. Qty</th>\n",
       "      <th>Count</th>\n",
       "      <th>Mean</th>\n",
       "      <th>stddev</th>\n",
       "      <th>Median</th>\n",
       "      <th>z-score</th>\n",
       "      <th>MAD Bill. Qty</th>\n",
       "      <th>MeanAD Bill. Qty</th>\n",
       "      <th>MAD</th>\n",
       "      <th>MeanAD</th>\n",
       "      <th>Mod-z_score</th>\n",
       "    </tr>\n",
       "  </thead>\n",
       "  <tbody>\n",
       "    <tr>\n",
       "      <th>0</th>\n",
       "      <td>2000082    HARISH KANNA AGENCY</td>\n",
       "      <td>2018-08-22</td>\n",
       "      <td>KARTHIKA HERBAL POWDER 5.8 GM 2000 PCS</td>\n",
       "      <td>102.0</td>\n",
       "      <td>105</td>\n",
       "      <td>34.352381</td>\n",
       "      <td>16.504068</td>\n",
       "      <td>31.0</td>\n",
       "      <td>4.098845</td>\n",
       "      <td>71.0</td>\n",
       "      <td>67.647619</td>\n",
       "      <td>9.0</td>\n",
       "      <td>12.416145</td>\n",
       "      <td>5.308808</td>\n",
       "    </tr>\n",
       "    <tr>\n",
       "      <th>1</th>\n",
       "      <td>2000082    HARISH KANNA AGENCY</td>\n",
       "      <td>2018-09-27</td>\n",
       "      <td>KARTHIKA HERBAL POWDER CONT 180G 80PCS</td>\n",
       "      <td>5.0</td>\n",
       "      <td>87</td>\n",
       "      <td>1.758621</td>\n",
       "      <td>0.939638</td>\n",
       "      <td>2.0</td>\n",
       "      <td>3.449605</td>\n",
       "      <td>3.0</td>\n",
       "      <td>3.241379</td>\n",
       "      <td>1.0</td>\n",
       "      <td>0.715022</td>\n",
       "      <td>2.018843</td>\n",
       "    </tr>\n",
       "    <tr>\n",
       "      <th>2</th>\n",
       "      <td>2000082    HARISH KANNA AGENCY</td>\n",
       "      <td>2019-09-10</td>\n",
       "      <td>KARTHIKA HERBAL POWDER CONT 180G 80PCS</td>\n",
       "      <td>5.0</td>\n",
       "      <td>87</td>\n",
       "      <td>1.758621</td>\n",
       "      <td>0.939638</td>\n",
       "      <td>2.0</td>\n",
       "      <td>3.449605</td>\n",
       "      <td>3.0</td>\n",
       "      <td>3.241379</td>\n",
       "      <td>1.0</td>\n",
       "      <td>0.715022</td>\n",
       "      <td>2.018843</td>\n",
       "    </tr>\n",
       "    <tr>\n",
       "      <th>3</th>\n",
       "      <td>2000082    HARISH KANNA AGENCY</td>\n",
       "      <td>2019-09-25</td>\n",
       "      <td>KARTHIKA HERBAL POWDER CONT 180G 80PCS</td>\n",
       "      <td>5.0</td>\n",
       "      <td>87</td>\n",
       "      <td>1.758621</td>\n",
       "      <td>0.939638</td>\n",
       "      <td>2.0</td>\n",
       "      <td>3.449605</td>\n",
       "      <td>3.0</td>\n",
       "      <td>3.241379</td>\n",
       "      <td>1.0</td>\n",
       "      <td>0.715022</td>\n",
       "      <td>2.018843</td>\n",
       "    </tr>\n",
       "    <tr>\n",
       "      <th>4</th>\n",
       "      <td>2000082    HARISH KANNA AGENCY</td>\n",
       "      <td>2018-09-27</td>\n",
       "      <td>MEERA HERBAL POWDER 120GM CONT 60 PCS</td>\n",
       "      <td>21.0</td>\n",
       "      <td>54</td>\n",
       "      <td>7.018519</td>\n",
       "      <td>4.507816</td>\n",
       "      <td>5.5</td>\n",
       "      <td>3.101609</td>\n",
       "      <td>15.5</td>\n",
       "      <td>13.981481</td>\n",
       "      <td>1.5</td>\n",
       "      <td>3.320988</td>\n",
       "      <td>6.953791</td>\n",
       "    </tr>\n",
       "  </tbody>\n",
       "</table>\n",
       "</div>"
      ],
      "text/plain": [
       "                    Sold-To Party       Date  \\\n",
       "0  2000082    HARISH KANNA AGENCY 2018-08-22   \n",
       "1  2000082    HARISH KANNA AGENCY 2018-09-27   \n",
       "2  2000082    HARISH KANNA AGENCY 2019-09-10   \n",
       "3  2000082    HARISH KANNA AGENCY 2019-09-25   \n",
       "4  2000082    HARISH KANNA AGENCY 2018-09-27   \n",
       "\n",
       "                                Prod_Name  Bill. Qty  Count       Mean  \\\n",
       "0  KARTHIKA HERBAL POWDER 5.8 GM 2000 PCS      102.0    105  34.352381   \n",
       "1  KARTHIKA HERBAL POWDER CONT 180G 80PCS        5.0     87   1.758621   \n",
       "2  KARTHIKA HERBAL POWDER CONT 180G 80PCS        5.0     87   1.758621   \n",
       "3  KARTHIKA HERBAL POWDER CONT 180G 80PCS        5.0     87   1.758621   \n",
       "4   MEERA HERBAL POWDER 120GM CONT 60 PCS       21.0     54   7.018519   \n",
       "\n",
       "      stddev  Median   z-score  MAD Bill. Qty  MeanAD Bill. Qty  MAD  \\\n",
       "0  16.504068    31.0  4.098845           71.0         67.647619  9.0   \n",
       "1   0.939638     2.0  3.449605            3.0          3.241379  1.0   \n",
       "2   0.939638     2.0  3.449605            3.0          3.241379  1.0   \n",
       "3   0.939638     2.0  3.449605            3.0          3.241379  1.0   \n",
       "4   4.507816     5.5  3.101609           15.5         13.981481  1.5   \n",
       "\n",
       "      MeanAD  Mod-z_score  \n",
       "0  12.416145     5.308808  \n",
       "1   0.715022     2.018843  \n",
       "2   0.715022     2.018843  \n",
       "3   0.715022     2.018843  \n",
       "4   3.320988     6.953791  "
      ]
     },
     "execution_count": 41,
     "metadata": {},
     "output_type": "execute_result"
    }
   ],
   "source": [
    "zscore_data.head(5)"
   ]
  },
  {
   "cell_type": "markdown",
   "metadata": {},
   "source": [
    "### Method 3 - MADe Calculation"
   ]
  },
  {
   "cell_type": "markdown",
   "metadata": {},
   "source": [
    "Median Absolute Deviation (MADe) method is one of the basic robust methods which are largely unaffected by the presence of extreme values of the data set"
   ]
  },
  {
   "cell_type": "markdown",
   "metadata": {},
   "source": [
    "##### 2MADe Method = Median +/- 2MADe and 3MADe Method = Median +/- 3MADe \n",
    "##### where MADe = 1.483 × MAD and MAD = median {|xi −median(x)|}, i = 1,2,...,n"
   ]
  },
  {
   "cell_type": "code",
   "execution_count": 42,
   "metadata": {},
   "outputs": [],
   "source": [
    "zscore_data['MADe'] = 1.483 * zscore_data['MAD']"
   ]
  },
  {
   "cell_type": "code",
   "execution_count": 43,
   "metadata": {},
   "outputs": [],
   "source": [
    "zscore_data['Lower_lt'] = zscore_data['Median'] - (3 * zscore_data['MADe'])\n",
    "zscore_data['Upper_lt'] = zscore_data['Median'] + (3 * zscore_data['MADe'])"
   ]
  },
  {
   "cell_type": "code",
   "execution_count": 44,
   "metadata": {},
   "outputs": [],
   "source": [
    "zscore_data['3MADe'] = 'Not Outlier'"
   ]
  },
  {
   "cell_type": "code",
   "execution_count": 45,
   "metadata": {},
   "outputs": [],
   "source": [
    "zscore_data.loc[(zscore_data['Bill. Qty'] < zscore_data['Lower_lt']) | (zscore_data['Bill. Qty'] > zscore_data['Upper_lt']), '3MADe'] = zscore_data['Bill. Qty']"
   ]
  },
  {
   "cell_type": "code",
   "execution_count": 46,
   "metadata": {},
   "outputs": [
    {
     "data": {
      "text/html": [
       "<div>\n",
       "<style scoped>\n",
       "    .dataframe tbody tr th:only-of-type {\n",
       "        vertical-align: middle;\n",
       "    }\n",
       "\n",
       "    .dataframe tbody tr th {\n",
       "        vertical-align: top;\n",
       "    }\n",
       "\n",
       "    .dataframe thead th {\n",
       "        text-align: right;\n",
       "    }\n",
       "</style>\n",
       "<table border=\"1\" class=\"dataframe\">\n",
       "  <thead>\n",
       "    <tr style=\"text-align: right;\">\n",
       "      <th></th>\n",
       "      <th>Sold-To Party</th>\n",
       "      <th>Date</th>\n",
       "      <th>Prod_Name</th>\n",
       "      <th>Bill. Qty</th>\n",
       "      <th>Count</th>\n",
       "      <th>Mean</th>\n",
       "      <th>stddev</th>\n",
       "      <th>Median</th>\n",
       "      <th>z-score</th>\n",
       "      <th>MAD Bill. Qty</th>\n",
       "      <th>MeanAD Bill. Qty</th>\n",
       "      <th>MAD</th>\n",
       "      <th>MeanAD</th>\n",
       "      <th>Mod-z_score</th>\n",
       "      <th>MADe</th>\n",
       "      <th>Lower_lt</th>\n",
       "      <th>Upper_lt</th>\n",
       "      <th>3MADe</th>\n",
       "    </tr>\n",
       "  </thead>\n",
       "  <tbody>\n",
       "    <tr>\n",
       "      <th>0</th>\n",
       "      <td>2000082    HARISH KANNA AGENCY</td>\n",
       "      <td>2018-08-22</td>\n",
       "      <td>KARTHIKA HERBAL POWDER 5.8 GM 2000 PCS</td>\n",
       "      <td>102.0</td>\n",
       "      <td>105</td>\n",
       "      <td>34.352381</td>\n",
       "      <td>16.504068</td>\n",
       "      <td>31.0</td>\n",
       "      <td>4.098845</td>\n",
       "      <td>71.0</td>\n",
       "      <td>67.647619</td>\n",
       "      <td>9.0</td>\n",
       "      <td>12.416145</td>\n",
       "      <td>5.308808</td>\n",
       "      <td>13.3470</td>\n",
       "      <td>-9.0410</td>\n",
       "      <td>71.0410</td>\n",
       "      <td>102</td>\n",
       "    </tr>\n",
       "    <tr>\n",
       "      <th>1</th>\n",
       "      <td>2000082    HARISH KANNA AGENCY</td>\n",
       "      <td>2018-09-27</td>\n",
       "      <td>KARTHIKA HERBAL POWDER CONT 180G 80PCS</td>\n",
       "      <td>5.0</td>\n",
       "      <td>87</td>\n",
       "      <td>1.758621</td>\n",
       "      <td>0.939638</td>\n",
       "      <td>2.0</td>\n",
       "      <td>3.449605</td>\n",
       "      <td>3.0</td>\n",
       "      <td>3.241379</td>\n",
       "      <td>1.0</td>\n",
       "      <td>0.715022</td>\n",
       "      <td>2.018843</td>\n",
       "      <td>1.4830</td>\n",
       "      <td>-2.4490</td>\n",
       "      <td>6.4490</td>\n",
       "      <td>Not Outlier</td>\n",
       "    </tr>\n",
       "    <tr>\n",
       "      <th>2</th>\n",
       "      <td>2000082    HARISH KANNA AGENCY</td>\n",
       "      <td>2019-09-10</td>\n",
       "      <td>KARTHIKA HERBAL POWDER CONT 180G 80PCS</td>\n",
       "      <td>5.0</td>\n",
       "      <td>87</td>\n",
       "      <td>1.758621</td>\n",
       "      <td>0.939638</td>\n",
       "      <td>2.0</td>\n",
       "      <td>3.449605</td>\n",
       "      <td>3.0</td>\n",
       "      <td>3.241379</td>\n",
       "      <td>1.0</td>\n",
       "      <td>0.715022</td>\n",
       "      <td>2.018843</td>\n",
       "      <td>1.4830</td>\n",
       "      <td>-2.4490</td>\n",
       "      <td>6.4490</td>\n",
       "      <td>Not Outlier</td>\n",
       "    </tr>\n",
       "    <tr>\n",
       "      <th>3</th>\n",
       "      <td>2000082    HARISH KANNA AGENCY</td>\n",
       "      <td>2019-09-25</td>\n",
       "      <td>KARTHIKA HERBAL POWDER CONT 180G 80PCS</td>\n",
       "      <td>5.0</td>\n",
       "      <td>87</td>\n",
       "      <td>1.758621</td>\n",
       "      <td>0.939638</td>\n",
       "      <td>2.0</td>\n",
       "      <td>3.449605</td>\n",
       "      <td>3.0</td>\n",
       "      <td>3.241379</td>\n",
       "      <td>1.0</td>\n",
       "      <td>0.715022</td>\n",
       "      <td>2.018843</td>\n",
       "      <td>1.4830</td>\n",
       "      <td>-2.4490</td>\n",
       "      <td>6.4490</td>\n",
       "      <td>Not Outlier</td>\n",
       "    </tr>\n",
       "    <tr>\n",
       "      <th>4</th>\n",
       "      <td>2000082    HARISH KANNA AGENCY</td>\n",
       "      <td>2018-09-27</td>\n",
       "      <td>MEERA HERBAL POWDER 120GM CONT 60 PCS</td>\n",
       "      <td>21.0</td>\n",
       "      <td>54</td>\n",
       "      <td>7.018519</td>\n",
       "      <td>4.507816</td>\n",
       "      <td>5.5</td>\n",
       "      <td>3.101609</td>\n",
       "      <td>15.5</td>\n",
       "      <td>13.981481</td>\n",
       "      <td>1.5</td>\n",
       "      <td>3.320988</td>\n",
       "      <td>6.953791</td>\n",
       "      <td>2.2245</td>\n",
       "      <td>-1.1735</td>\n",
       "      <td>12.1735</td>\n",
       "      <td>21</td>\n",
       "    </tr>\n",
       "    <tr>\n",
       "      <th>...</th>\n",
       "      <td>...</td>\n",
       "      <td>...</td>\n",
       "      <td>...</td>\n",
       "      <td>...</td>\n",
       "      <td>...</td>\n",
       "      <td>...</td>\n",
       "      <td>...</td>\n",
       "      <td>...</td>\n",
       "      <td>...</td>\n",
       "      <td>...</td>\n",
       "      <td>...</td>\n",
       "      <td>...</td>\n",
       "      <td>...</td>\n",
       "      <td>...</td>\n",
       "      <td>...</td>\n",
       "      <td>...</td>\n",
       "      <td>...</td>\n",
       "      <td>...</td>\n",
       "    </tr>\n",
       "    <tr>\n",
       "      <th>589</th>\n",
       "      <td>2000082    HARISH KANNA AGENCY</td>\n",
       "      <td>2019-01-24</td>\n",
       "      <td>MEERA HERBAL POWDER 5.6 GM 1350 PCS</td>\n",
       "      <td>1.0</td>\n",
       "      <td>66</td>\n",
       "      <td>21.242424</td>\n",
       "      <td>12.721950</td>\n",
       "      <td>20.0</td>\n",
       "      <td>-1.591142</td>\n",
       "      <td>19.0</td>\n",
       "      <td>20.242424</td>\n",
       "      <td>8.0</td>\n",
       "      <td>9.596878</td>\n",
       "      <td>1.598250</td>\n",
       "      <td>11.8640</td>\n",
       "      <td>-15.5920</td>\n",
       "      <td>55.5920</td>\n",
       "      <td>Not Outlier</td>\n",
       "    </tr>\n",
       "    <tr>\n",
       "      <th>590</th>\n",
       "      <td>2000082    HARISH KANNA AGENCY</td>\n",
       "      <td>2018-04-20</td>\n",
       "      <td>MEERA HERBAL POWDER 5.6 GM 1350 PCS</td>\n",
       "      <td>1.0</td>\n",
       "      <td>66</td>\n",
       "      <td>21.242424</td>\n",
       "      <td>12.721950</td>\n",
       "      <td>20.0</td>\n",
       "      <td>-1.591142</td>\n",
       "      <td>19.0</td>\n",
       "      <td>20.242424</td>\n",
       "      <td>8.0</td>\n",
       "      <td>9.596878</td>\n",
       "      <td>1.598250</td>\n",
       "      <td>11.8640</td>\n",
       "      <td>-15.5920</td>\n",
       "      <td>55.5920</td>\n",
       "      <td>Not Outlier</td>\n",
       "    </tr>\n",
       "    <tr>\n",
       "      <th>591</th>\n",
       "      <td>2000082    HARISH KANNA AGENCY</td>\n",
       "      <td>2018-08-25</td>\n",
       "      <td>KARTHIKA HERBAL POWDER 5.8 GM 2000 PCS</td>\n",
       "      <td>8.0</td>\n",
       "      <td>105</td>\n",
       "      <td>34.352381</td>\n",
       "      <td>16.504068</td>\n",
       "      <td>31.0</td>\n",
       "      <td>-1.596720</td>\n",
       "      <td>23.0</td>\n",
       "      <td>26.352381</td>\n",
       "      <td>9.0</td>\n",
       "      <td>12.416145</td>\n",
       "      <td>1.719755</td>\n",
       "      <td>13.3470</td>\n",
       "      <td>-9.0410</td>\n",
       "      <td>71.0410</td>\n",
       "      <td>Not Outlier</td>\n",
       "    </tr>\n",
       "    <tr>\n",
       "      <th>592</th>\n",
       "      <td>2000082    HARISH KANNA AGENCY</td>\n",
       "      <td>2019-11-16</td>\n",
       "      <td>MEERA ADVANCE HW POWDER 5.6 GM 1350 PCS</td>\n",
       "      <td>3.0</td>\n",
       "      <td>37</td>\n",
       "      <td>21.459459</td>\n",
       "      <td>11.410508</td>\n",
       "      <td>20.0</td>\n",
       "      <td>-1.617760</td>\n",
       "      <td>17.0</td>\n",
       "      <td>18.459459</td>\n",
       "      <td>5.0</td>\n",
       "      <td>8.271731</td>\n",
       "      <td>2.288022</td>\n",
       "      <td>7.4150</td>\n",
       "      <td>-2.2450</td>\n",
       "      <td>42.2450</td>\n",
       "      <td>Not Outlier</td>\n",
       "    </tr>\n",
       "    <tr>\n",
       "      <th>593</th>\n",
       "      <td>2000082    HARISH KANNA AGENCY</td>\n",
       "      <td>2019-09-13</td>\n",
       "      <td>KARTHIKA HERBAL POWDER 5.8 GM 2000 PCS</td>\n",
       "      <td>4.0</td>\n",
       "      <td>105</td>\n",
       "      <td>34.352381</td>\n",
       "      <td>16.504068</td>\n",
       "      <td>31.0</td>\n",
       "      <td>-1.839085</td>\n",
       "      <td>27.0</td>\n",
       "      <td>30.352381</td>\n",
       "      <td>9.0</td>\n",
       "      <td>12.416145</td>\n",
       "      <td>2.018843</td>\n",
       "      <td>13.3470</td>\n",
       "      <td>-9.0410</td>\n",
       "      <td>71.0410</td>\n",
       "      <td>Not Outlier</td>\n",
       "    </tr>\n",
       "  </tbody>\n",
       "</table>\n",
       "<p>594 rows × 18 columns</p>\n",
       "</div>"
      ],
      "text/plain": [
       "                      Sold-To Party       Date  \\\n",
       "0    2000082    HARISH KANNA AGENCY 2018-08-22   \n",
       "1    2000082    HARISH KANNA AGENCY 2018-09-27   \n",
       "2    2000082    HARISH KANNA AGENCY 2019-09-10   \n",
       "3    2000082    HARISH KANNA AGENCY 2019-09-25   \n",
       "4    2000082    HARISH KANNA AGENCY 2018-09-27   \n",
       "..                              ...        ...   \n",
       "589  2000082    HARISH KANNA AGENCY 2019-01-24   \n",
       "590  2000082    HARISH KANNA AGENCY 2018-04-20   \n",
       "591  2000082    HARISH KANNA AGENCY 2018-08-25   \n",
       "592  2000082    HARISH KANNA AGENCY 2019-11-16   \n",
       "593  2000082    HARISH KANNA AGENCY 2019-09-13   \n",
       "\n",
       "                                   Prod_Name  Bill. Qty  Count       Mean  \\\n",
       "0     KARTHIKA HERBAL POWDER 5.8 GM 2000 PCS      102.0    105  34.352381   \n",
       "1     KARTHIKA HERBAL POWDER CONT 180G 80PCS        5.0     87   1.758621   \n",
       "2     KARTHIKA HERBAL POWDER CONT 180G 80PCS        5.0     87   1.758621   \n",
       "3     KARTHIKA HERBAL POWDER CONT 180G 80PCS        5.0     87   1.758621   \n",
       "4      MEERA HERBAL POWDER 120GM CONT 60 PCS       21.0     54   7.018519   \n",
       "..                                       ...        ...    ...        ...   \n",
       "589      MEERA HERBAL POWDER 5.6 GM 1350 PCS        1.0     66  21.242424   \n",
       "590      MEERA HERBAL POWDER 5.6 GM 1350 PCS        1.0     66  21.242424   \n",
       "591   KARTHIKA HERBAL POWDER 5.8 GM 2000 PCS        8.0    105  34.352381   \n",
       "592  MEERA ADVANCE HW POWDER 5.6 GM 1350 PCS        3.0     37  21.459459   \n",
       "593   KARTHIKA HERBAL POWDER 5.8 GM 2000 PCS        4.0    105  34.352381   \n",
       "\n",
       "        stddev  Median   z-score  MAD Bill. Qty  MeanAD Bill. Qty  MAD  \\\n",
       "0    16.504068    31.0  4.098845           71.0         67.647619  9.0   \n",
       "1     0.939638     2.0  3.449605            3.0          3.241379  1.0   \n",
       "2     0.939638     2.0  3.449605            3.0          3.241379  1.0   \n",
       "3     0.939638     2.0  3.449605            3.0          3.241379  1.0   \n",
       "4     4.507816     5.5  3.101609           15.5         13.981481  1.5   \n",
       "..         ...     ...       ...            ...               ...  ...   \n",
       "589  12.721950    20.0 -1.591142           19.0         20.242424  8.0   \n",
       "590  12.721950    20.0 -1.591142           19.0         20.242424  8.0   \n",
       "591  16.504068    31.0 -1.596720           23.0         26.352381  9.0   \n",
       "592  11.410508    20.0 -1.617760           17.0         18.459459  5.0   \n",
       "593  16.504068    31.0 -1.839085           27.0         30.352381  9.0   \n",
       "\n",
       "        MeanAD  Mod-z_score     MADe  Lower_lt  Upper_lt        3MADe  \n",
       "0    12.416145     5.308808  13.3470   -9.0410   71.0410          102  \n",
       "1     0.715022     2.018843   1.4830   -2.4490    6.4490  Not Outlier  \n",
       "2     0.715022     2.018843   1.4830   -2.4490    6.4490  Not Outlier  \n",
       "3     0.715022     2.018843   1.4830   -2.4490    6.4490  Not Outlier  \n",
       "4     3.320988     6.953791   2.2245   -1.1735   12.1735           21  \n",
       "..         ...          ...      ...       ...       ...          ...  \n",
       "589   9.596878     1.598250  11.8640  -15.5920   55.5920  Not Outlier  \n",
       "590   9.596878     1.598250  11.8640  -15.5920   55.5920  Not Outlier  \n",
       "591  12.416145     1.719755  13.3470   -9.0410   71.0410  Not Outlier  \n",
       "592   8.271731     2.288022   7.4150   -2.2450   42.2450  Not Outlier  \n",
       "593  12.416145     2.018843  13.3470   -9.0410   71.0410  Not Outlier  \n",
       "\n",
       "[594 rows x 18 columns]"
      ]
     },
     "execution_count": 46,
     "metadata": {},
     "output_type": "execute_result"
    }
   ],
   "source": [
    "zscore_data"
   ]
  },
  {
   "cell_type": "markdown",
   "metadata": {},
   "source": [
    "## Output 1"
   ]
  },
  {
   "cell_type": "code",
   "execution_count": 47,
   "metadata": {},
   "outputs": [],
   "source": [
    "zscore_data.to_excel(r\"E:\\0001_Studies\\Undercutting\\output\\comparison\\Test\\HARISH KANNA AGENCY_Analysis.xlsx\",index = False)"
   ]
  },
  {
   "cell_type": "code",
   "execution_count": null,
   "metadata": {},
   "outputs": [],
   "source": []
  },
  {
   "cell_type": "markdown",
   "metadata": {},
   "source": [
    "# Outlier Detection"
   ]
  },
  {
   "cell_type": "markdown",
   "metadata": {},
   "source": [
    "### Multivariate Analysis"
   ]
  },
  {
   "cell_type": "code",
   "execution_count": 566,
   "metadata": {},
   "outputs": [
    {
     "data": {
      "text/html": [
       "<div>\n",
       "<style scoped>\n",
       "    .dataframe tbody tr th:only-of-type {\n",
       "        vertical-align: middle;\n",
       "    }\n",
       "\n",
       "    .dataframe tbody tr th {\n",
       "        vertical-align: top;\n",
       "    }\n",
       "\n",
       "    .dataframe thead th {\n",
       "        text-align: right;\n",
       "    }\n",
       "</style>\n",
       "<table border=\"1\" class=\"dataframe\">\n",
       "  <thead>\n",
       "    <tr style=\"text-align: right;\">\n",
       "      <th></th>\n",
       "      <th>Sold-To Party</th>\n",
       "      <th>Date</th>\n",
       "      <th>Prod_Name</th>\n",
       "      <th>Bill. Qty</th>\n",
       "      <th>Count</th>\n",
       "      <th>Mean</th>\n",
       "      <th>stddev</th>\n",
       "      <th>Median</th>\n",
       "      <th>z-score</th>\n",
       "      <th>MAD Bill. Qty</th>\n",
       "      <th>MeanAD Bill. Qty</th>\n",
       "      <th>MAD</th>\n",
       "      <th>MeanAD</th>\n",
       "      <th>Mod-z_score</th>\n",
       "      <th>MADe</th>\n",
       "      <th>Lower_lt</th>\n",
       "      <th>Upper_lt</th>\n",
       "      <th>3MADe</th>\n",
       "    </tr>\n",
       "  </thead>\n",
       "  <tbody>\n",
       "    <tr>\n",
       "      <th>0</th>\n",
       "      <td>2000082    HARISH KANNA AGENCY</td>\n",
       "      <td>2018-08-22</td>\n",
       "      <td>KARTHIKA HERBAL POWDER 5.8 GM 2000 PCS</td>\n",
       "      <td>102.0</td>\n",
       "      <td>105</td>\n",
       "      <td>34.352381</td>\n",
       "      <td>16.504068</td>\n",
       "      <td>31.0</td>\n",
       "      <td>4.098845</td>\n",
       "      <td>71.0</td>\n",
       "      <td>67.647619</td>\n",
       "      <td>9.0</td>\n",
       "      <td>12.416145</td>\n",
       "      <td>5.308808</td>\n",
       "      <td>13.347</td>\n",
       "      <td>-9.041</td>\n",
       "      <td>71.041</td>\n",
       "      <td>102</td>\n",
       "    </tr>\n",
       "    <tr>\n",
       "      <th>1</th>\n",
       "      <td>2000082    HARISH KANNA AGENCY</td>\n",
       "      <td>2018-09-27</td>\n",
       "      <td>KARTHIKA HERBAL POWDER CONT 180G 80PCS</td>\n",
       "      <td>5.0</td>\n",
       "      <td>87</td>\n",
       "      <td>1.758621</td>\n",
       "      <td>0.939638</td>\n",
       "      <td>2.0</td>\n",
       "      <td>3.449605</td>\n",
       "      <td>3.0</td>\n",
       "      <td>3.241379</td>\n",
       "      <td>1.0</td>\n",
       "      <td>0.715022</td>\n",
       "      <td>2.018843</td>\n",
       "      <td>1.483</td>\n",
       "      <td>-2.449</td>\n",
       "      <td>6.449</td>\n",
       "      <td>Not Outlier</td>\n",
       "    </tr>\n",
       "  </tbody>\n",
       "</table>\n",
       "</div>"
      ],
      "text/plain": [
       "                    Sold-To Party       Date  \\\n",
       "0  2000082    HARISH KANNA AGENCY 2018-08-22   \n",
       "1  2000082    HARISH KANNA AGENCY 2018-09-27   \n",
       "\n",
       "                                Prod_Name  Bill. Qty  Count       Mean  \\\n",
       "0  KARTHIKA HERBAL POWDER 5.8 GM 2000 PCS      102.0    105  34.352381   \n",
       "1  KARTHIKA HERBAL POWDER CONT 180G 80PCS        5.0     87   1.758621   \n",
       "\n",
       "      stddev  Median   z-score  MAD Bill. Qty  MeanAD Bill. Qty  MAD  \\\n",
       "0  16.504068    31.0  4.098845           71.0         67.647619  9.0   \n",
       "1   0.939638     2.0  3.449605            3.0          3.241379  1.0   \n",
       "\n",
       "      MeanAD  Mod-z_score    MADe  Lower_lt  Upper_lt        3MADe  \n",
       "0  12.416145     5.308808  13.347    -9.041    71.041          102  \n",
       "1   0.715022     2.018843   1.483    -2.449     6.449  Not Outlier  "
      ]
     },
     "execution_count": 566,
     "metadata": {},
     "output_type": "execute_result"
    }
   ],
   "source": [
    "zscore_data.head(2)"
   ]
  },
  {
   "cell_type": "markdown",
   "metadata": {},
   "source": [
    "###  Separate the Distributor Dataframe w.r.t  Products "
   ]
  },
  {
   "cell_type": "code",
   "execution_count": 48,
   "metadata": {},
   "outputs": [],
   "source": [
    "from statsmodels.tsa.seasonal import seasonal_decompose\n",
    "\n",
    "Product = zscore_data['Prod_Name'].unique()\n",
    "\n",
    "frames = []\n",
    "period = []\n",
    "\n",
    "for i in Product:\n",
    "    df = zscore_data[zscore_data['Prod_Name']==i][['Date','Bill. Qty','Prod_Name']]\n",
    "    df.sort_values(by='Date',ascending=True,inplace=True)\n",
    "    df['Date'] = pd.to_datetime(df['Date'])\n",
    "    #print(df)\n",
    "    start_date = (df['Date'].iloc[0])\n",
    "    end_date = (df['Date'].iloc[-1])\n",
    "    #print(start_date,\"   \",end_date)\n",
    "    diff = ((end_date - start_date)/np.timedelta64(1, 'M'))\n",
    "    #print(diff)\n",
    "    period.append(int(diff)-1)\n",
    "    df1 = df.groupby(['Date']).sum()  \n",
    "    frames.append(df1)"
   ]
  },
  {
   "cell_type": "code",
   "execution_count": 49,
   "metadata": {},
   "outputs": [
    {
     "data": {
      "text/plain": [
       "10"
      ]
     },
     "execution_count": 49,
     "metadata": {},
     "output_type": "execute_result"
    }
   ],
   "source": [
    "len(frames)"
   ]
  },
  {
   "cell_type": "code",
   "execution_count": 50,
   "metadata": {},
   "outputs": [
    {
     "data": {
      "text/plain": [
       "10"
      ]
     },
     "execution_count": 50,
     "metadata": {},
     "output_type": "execute_result"
    }
   ],
   "source": [
    "#len(frames)\n",
    "len(period)"
   ]
  },
  {
   "cell_type": "code",
   "execution_count": 51,
   "metadata": {},
   "outputs": [
    {
     "data": {
      "text/plain": [
       "array(['KARTHIKA HERBAL POWDER 5.8 GM 2000 PCS',\n",
       "       'KARTHIKA HERBAL POWDER CONT 180G 80PCS',\n",
       "       'MEERA HERBAL POWDER 120GM CONT 60 PCS',\n",
       "       'MEERA HERBAL POWDER 80GM REFILL 50 PCS',\n",
       "       'MEERA ADVANCE HW POWDER 80GM REFILL 50 P',\n",
       "       'MEERA HERBAL POWDER 5.6 GM 1350 PCS',\n",
       "       'MEERA ADVANCE HW POWDER 120GM CONT 60 PC',\n",
       "       'KARTHIKA HERBAL POWDER 50GM 180 PCS',\n",
       "       'MEERA HERBAL POWDER 40GM REFILL 100PCS',\n",
       "       'MEERA ADVANCE HW POWDER 5.6 GM 1350 PCS'], dtype=object)"
      ]
     },
     "execution_count": 51,
     "metadata": {},
     "output_type": "execute_result"
    }
   ],
   "source": [
    "Product"
   ]
  },
  {
   "cell_type": "markdown",
   "metadata": {},
   "source": [
    "### Decompose using STL Decomposition"
   ]
  },
  {
   "cell_type": "code",
   "execution_count": 52,
   "metadata": {},
   "outputs": [],
   "source": [
    "decomposition = []\n",
    "for i in range(0,len(Product)-1):\n",
    "    try:\n",
    "        decomposition.append(seasonal_decompose(frames[i], model='additive', period=period[i]))\n",
    "    except:\n",
    "        decomposition.append(0)"
   ]
  },
  {
   "cell_type": "markdown",
   "metadata": {},
   "source": [
    "#### Distributor : Product 1: KARTHIKA HERBAL POWDER CONT 180G 80PCS"
   ]
  },
  {
   "cell_type": "code",
   "execution_count": 113,
   "metadata": {},
   "outputs": [],
   "source": [
    "index = 9\n",
    "dec0 = seasonal_decompose(frames[index], model='additive', period=period[index])\n",
    "value = Product[index]"
   ]
  },
  {
   "cell_type": "code",
   "execution_count": 114,
   "metadata": {},
   "outputs": [
    {
     "data": {
      "image/png": "[encoded data removed]",
      "text/plain": [
       "<Figure size 432x288 with 1 Axes>"
      ]
     },
     "metadata": {
      "needs_background": "light"
     },
     "output_type": "display_data"
    }
   ],
   "source": [
    "plot = dec0.resid.plot()\n",
    "fig = plot.get_figure()\n",
    "path = r'E:\\0001_Studies\\Undercutting\\output\\comparison\\HARISH KANNA AGENCY\\image\\Res_'+Product[index]+'.png'\n",
    "fig.savefig(path)"
   ]
  },
  {
   "cell_type": "code",
   "execution_count": 115,
   "metadata": {},
   "outputs": [
    {
     "data": {
      "image/png": "[encoded data removed]",
      "text/plain": [
       "<Figure size 432x288 with 1 Axes>"
      ]
     },
     "metadata": {
      "needs_background": "light"
     },
     "output_type": "display_data"
    }
   ],
   "source": [
    "plot1 = dec0.seasonal.plot()\n",
    "fig1 = plot1.get_figure()\n",
    "path1 = r'E:\\0001_Studies\\Undercutting\\output\\comparison\\HARISH KANNA AGENCY\\image\\Season_'+Product[index]+'.png'\n",
    "fig1.savefig(path1)"
   ]
  },
  {
   "cell_type": "code",
   "execution_count": 116,
   "metadata": {},
   "outputs": [
    {
     "data": {
      "image/png": "[encoded data removed]",
      "text/plain": [
       "<Figure size 432x288 with 1 Axes>"
      ]
     },
     "metadata": {
      "needs_background": "light"
     },
     "output_type": "display_data"
    }
   ],
   "source": [
    "plot2 = dec0.trend.plot()\n",
    "fig2 = plot2.get_figure()\n",
    "path2 = r'E:\\0001_Studies\\Undercutting\\output\\comparison\\HARISH KANNA AGENCY\\image\\Trend_'+Product[index]+'.png'\n",
    "fig2.savefig(path2)\n"
   ]
  },
  {
   "cell_type": "code",
   "execution_count": null,
   "metadata": {},
   "outputs": [],
   "source": []
  },
  {
   "cell_type": "markdown",
   "metadata": {},
   "source": [
    "#### Distributor : Product 2: KARTHIKA HERBAL POWDER 5.8 GM 2000 PCS"
   ]
  },
  {
   "cell_type": "code",
   "execution_count": 573,
   "metadata": {
    "scrolled": true
   },
   "outputs": [
    {
     "data": {
      "image/png": "[encoded data removed]",
      "text/plain": [
       "<Figure size 432x288 with 4 Axes>"
      ]
     },
     "metadata": {
      "needs_background": "light"
     },
     "output_type": "display_data"
    }
   ],
   "source": [
    "index = 1\n",
    "dec1 = seasonal_decompose(frames[index], model='additive', period=period[index]).plot()"
   ]
  },
  {
   "cell_type": "markdown",
   "metadata": {},
   "source": [
    "### Storing the Decomposed value (Seasonality, Trend, Residue) for all products "
   ]
  },
  {
   "cell_type": "markdown",
   "metadata": {},
   "source": [
    "## Output 2"
   ]
  },
  {
   "cell_type": "code",
   "execution_count": 574,
   "metadata": {},
   "outputs": [],
   "source": [
    "for i in range(0,len(decomposition)-1):\n",
    "    output_filepath = r'E:\\0001_Studies\\Undercutting\\output\\comparison\\Test\\HARISH KANNA AGENCY_'+Product[i]+'.xlsx'   \n",
    "    \n",
    "    try:\n",
    "        res = decomposition[i].resid \n",
    "        trend = decomposition[i].trend\n",
    "        seasonal = decomposition[i].seasonal\n",
    "        observation = decomposition[i].observed\n",
    "\n",
    "        # Create a Pandas Excel writer using XlsxWriter as the engine.\n",
    "        writer = pd.ExcelWriter(output_filepath, engine='xlsxwriter')\n",
    "\n",
    "        # Write each dataframe to a different worksheet.\n",
    "        observation.to_excel(writer, sheet_name='observation')\n",
    "        seasonal.to_excel(writer, sheet_name='seasonal')\n",
    "        trend.to_excel(writer, sheet_name='trend')\n",
    "        res.to_excel(writer, sheet_name='res')\n",
    "\n",
    "        # Close the Pandas Excel writer and output the Excel file.\n",
    "        writer.save()\n",
    "    except:\n",
    "        pd.DataFrame({}).to_excel(output_filepath)"
   ]
  },
  {
   "cell_type": "markdown",
   "metadata": {},
   "source": [
    "## Testing - Applying ESD over Residual "
   ]
  },
  {
   "cell_type": "code",
   "execution_count": null,
   "metadata": {},
   "outputs": [],
   "source": []
  },
  {
   "cell_type": "markdown",
   "metadata": {},
   "source": [
    "### Preprocessing data for Seasonal_H-ESD"
   ]
  },
  {
   "cell_type": "code",
   "execution_count": 575,
   "metadata": {},
   "outputs": [],
   "source": [
    "import numpy as np\n",
    "import sesd\n",
    "\n",
    "from statsmodels.tsa.seasonal import seasonal_decompose\n",
    "\n",
    "Product = zscore_data['Prod_Name'].unique()\n",
    "frames = []\n",
    "period = []\n",
    "\n",
    "for i in Product:\n",
    "    df = zscore_data[zscore_data['Prod_Name']==i][['Date','Bill. Qty','Prod_Name']]\n",
    "    pdt = zscore_data['Prod_Name']\n",
    "    df.sort_values(by='Date',ascending=True,inplace=True)\n",
    "    df['Date'] = pd.to_datetime(df['Date'])\n",
    "    #print(df)\n",
    "    start_date = (df['Date'].iloc[0])\n",
    "    end_date = (df['Date'].iloc[-1])\n",
    "    #print(start_date,\"   \",end_date)\n",
    "    diff = ((end_date - start_date)/np.timedelta64(1, 'M'))\n",
    "    #print(diff)\n",
    "    period.append(int(diff)-1)\n",
    "    df1 = df.groupby(['Date']).sum().reset_index()\n",
    "    frames.append(df1)"
   ]
  },
  {
   "cell_type": "code",
   "execution_count": 576,
   "metadata": {},
   "outputs": [
    {
     "data": {
      "text/plain": [
       "[21, 22, 14, 12, 8, 14, 6, 22, 13, 7]"
      ]
     },
     "execution_count": 576,
     "metadata": {},
     "output_type": "execute_result"
    }
   ],
   "source": [
    "period"
   ]
  },
  {
   "cell_type": "markdown",
   "metadata": {},
   "source": [
    "### Seasonal H-ESD"
   ]
  },
  {
   "cell_type": "code",
   "execution_count": 577,
   "metadata": {},
   "outputs": [],
   "source": [
    "import numpy as np\n",
    "import sesd\n",
    "\n",
    "outliers_indices = []\n",
    "\n",
    "for i in range(0,len(period)):\n",
    "    try:\n",
    "        out = sesd.seasonal_esd(frames[i]['Bill. Qty'], periodicity=period[i], hybrid=True, max_anomalies=6, alpha=0.05)\n",
    "        outliers_indices.append(out)\n",
    "    except: \n",
    "        out = sesd.seasonal_esd(frames[i]['Bill. Qty'], periodicity=period[i], hybrid=True, max_anomalies=1, alpha=0.05)\n",
    "        outliers_indices.append(out)"
   ]
  },
  {
   "cell_type": "markdown",
   "metadata": {},
   "source": [
    "# outliers_indices"
   ]
  },
  {
   "cell_type": "code",
   "execution_count": 578,
   "metadata": {},
   "outputs": [
    {
     "data": {
      "text/plain": [
       "[[23, 44, 33, 76, 48, 39],\n",
       " [64, 23, 63, 43, 35, 26],\n",
       " [23, 24, 25, 35, 15, 31],\n",
       " [14, 17, 18, 33, 32, 24],\n",
       " [10, 9, 14, 12, 11],\n",
       " [21, 27, 28, 26, 37, 40],\n",
       " [11, 10, 14, 12],\n",
       " [56, 44, 43, 33, 22],\n",
       " [15, 16, 17, 29, 25, 22],\n",
       " [11, 14, 20, 24, 19, 22]]"
      ]
     },
     "execution_count": 578,
     "metadata": {},
     "output_type": "execute_result"
    }
   ],
   "source": [
    "outliers_indices"
   ]
  },
  {
   "cell_type": "code",
   "execution_count": 509,
   "metadata": {},
   "outputs": [],
   "source": [
    "#data = {'Bill. Qty':['0'],'Date':['0000']}\n",
    "#null_frame = pd.DataFrame(data)"
   ]
  },
  {
   "cell_type": "code",
   "execution_count": 579,
   "metadata": {},
   "outputs": [],
   "source": [
    "output = []\n",
    "i=0\n",
    "while (i<10):\n",
    "    for idx in outliers_indices:\n",
    "        for edx in idx:\n",
    "            res = frames[i].iloc[edx][['Bill. Qty','Date']]\n",
    "            output.append(res)\n",
    "        i=i+1"
   ]
  },
  {
   "cell_type": "code",
   "execution_count": 580,
   "metadata": {},
   "outputs": [
    {
     "data": {
      "text/plain": [
       "[Bill. Qty                    102\n",
       " Date         2018-08-22 00:00:00\n",
       " Name: 23, dtype: object,\n",
       " Bill. Qty                     83\n",
       " Date         2019-01-19 00:00:00\n",
       " Name: 44, dtype: object,\n",
       " Bill. Qty                     73\n",
       " Date         2018-11-02 00:00:00\n",
       " Name: 33, dtype: object,\n",
       " Bill. Qty                     14\n",
       " Date         2019-08-24 00:00:00\n",
       " Name: 76, dtype: object,\n",
       " Bill. Qty                     53\n",
       " Date         2019-02-21 00:00:00\n",
       " Name: 48, dtype: object,\n",
       " Bill. Qty                     54\n",
       " Date         2018-12-14 00:00:00\n",
       " Name: 39, dtype: object,\n",
       " Bill. Qty                      5\n",
       " Date         2019-09-10 00:00:00\n",
       " Name: 64, dtype: object,\n",
       " Bill. Qty                      5\n",
       " Date         2018-09-27 00:00:00\n",
       " Name: 23, dtype: object,\n",
       " Bill. Qty                      4\n",
       " Date         2019-09-07 00:00:00\n",
       " Name: 63, dtype: object,\n",
       " Bill. Qty                      1\n",
       " Date         2019-03-27 00:00:00\n",
       " Name: 43, dtype: object,\n",
       " Bill. Qty                      3\n",
       " Date         2019-01-10 00:00:00\n",
       " Name: 35, dtype: object,\n",
       " Bill. Qty                      3\n",
       " Date         2018-10-31 00:00:00\n",
       " Name: 26, dtype: object,\n",
       " Bill. Qty                     21\n",
       " Date         2018-09-20 00:00:00\n",
       " Name: 23, dtype: object,\n",
       " Bill. Qty                     21\n",
       " Date         2018-09-27 00:00:00\n",
       " Name: 24, dtype: object,\n",
       " Bill. Qty                     17\n",
       " Date         2018-10-04 00:00:00\n",
       " Name: 25, dtype: object,\n",
       " Bill. Qty                     14\n",
       " Date         2019-01-10 00:00:00\n",
       " Name: 35, dtype: object,\n",
       " Bill. Qty                     13\n",
       " Date         2018-07-25 00:00:00\n",
       " Name: 15, dtype: object,\n",
       " Bill. Qty                      5\n",
       " Date         2018-12-14 00:00:00\n",
       " Name: 31, dtype: object,\n",
       " Bill. Qty                     19\n",
       " Date         2018-08-22 00:00:00\n",
       " Name: 14, dtype: object,\n",
       " Bill. Qty                     16\n",
       " Date         2018-09-20 00:00:00\n",
       " Name: 17, dtype: object,\n",
       " Bill. Qty                     16\n",
       " Date         2018-09-27 00:00:00\n",
       " Name: 18, dtype: object,\n",
       " Bill. Qty                      3\n",
       " Date         2019-02-08 00:00:00\n",
       " Name: 33, dtype: object,\n",
       " Bill. Qty                     12\n",
       " Date         2019-01-10 00:00:00\n",
       " Name: 32, dtype: object,\n",
       " Bill. Qty                      3\n",
       " Date         2018-11-15 00:00:00\n",
       " Name: 24, dtype: object,\n",
       " Bill. Qty                     20\n",
       " Date         2019-09-20 00:00:00\n",
       " Name: 10, dtype: object,\n",
       " Bill. Qty                     18\n",
       " Date         2019-09-13 00:00:00\n",
       " Name: 9, dtype: object,\n",
       " Bill. Qty                     10\n",
       " Date         2019-10-25 00:00:00\n",
       " Name: 14, dtype: object,\n",
       " Bill. Qty                     10\n",
       " Date         2019-10-11 00:00:00\n",
       " Name: 12, dtype: object,\n",
       " Bill. Qty                     10\n",
       " Date         2019-09-25 00:00:00\n",
       " Name: 11, dtype: object,\n",
       " Bill. Qty                     60\n",
       " Date         2018-08-22 00:00:00\n",
       " Name: 21, dtype: object,\n",
       " Bill. Qty                     50\n",
       " Date         2018-09-27 00:00:00\n",
       " Name: 27, dtype: object,\n",
       " Bill. Qty                     50\n",
       " Date         2018-10-04 00:00:00\n",
       " Name: 28, dtype: object,\n",
       " Bill. Qty                     50\n",
       " Date         2018-09-20 00:00:00\n",
       " Name: 26, dtype: object,\n",
       " Bill. Qty                     49\n",
       " Date         2018-12-21 00:00:00\n",
       " Name: 37, dtype: object,\n",
       " Bill. Qty                     36\n",
       " Date         2019-01-19 00:00:00\n",
       " Name: 40, dtype: object,\n",
       " Bill. Qty                     25\n",
       " Date         2019-09-25 00:00:00\n",
       " Name: 11, dtype: object,\n",
       " Bill. Qty                     22\n",
       " Date         2019-09-13 00:00:00\n",
       " Name: 10, dtype: object,\n",
       " Bill. Qty                     15\n",
       " Date         2019-10-18 00:00:00\n",
       " Name: 14, dtype: object,\n",
       " Bill. Qty                     15\n",
       " Date         2019-10-04 00:00:00\n",
       " Name: 12, dtype: object,\n",
       " Bill. Qty                      5\n",
       " Date         2019-07-02 00:00:00\n",
       " Name: 56, dtype: object,\n",
       " Bill. Qty                      1\n",
       " Date         2019-04-03 00:00:00\n",
       " Name: 44, dtype: object,\n",
       " Bill. Qty                      1\n",
       " Date         2019-03-27 00:00:00\n",
       " Name: 43, dtype: object,\n",
       " Bill. Qty                      1\n",
       " Date         2018-12-27 00:00:00\n",
       " Name: 33, dtype: object,\n",
       " Bill. Qty                      5\n",
       " Date         2018-09-27 00:00:00\n",
       " Name: 22, dtype: object,\n",
       " Bill. Qty                     10\n",
       " Date         2018-09-20 00:00:00\n",
       " Name: 15, dtype: object,\n",
       " Bill. Qty                     10\n",
       " Date         2018-09-27 00:00:00\n",
       " Name: 16, dtype: object,\n",
       " Bill. Qty                     10\n",
       " Date         2018-10-04 00:00:00\n",
       " Name: 17, dtype: object,\n",
       " Bill. Qty                      8\n",
       " Date         2019-01-10 00:00:00\n",
       " Name: 29, dtype: object,\n",
       " Bill. Qty                      2\n",
       " Date         2018-12-14 00:00:00\n",
       " Name: 25, dtype: object,\n",
       " Bill. Qty                      1\n",
       " Date         2018-11-22 00:00:00\n",
       " Name: 22, dtype: object,\n",
       " Bill. Qty                     50\n",
       " Date         2019-09-20 00:00:00\n",
       " Name: 11, dtype: object,\n",
       " Bill. Qty                     50\n",
       " Date         2019-10-04 00:00:00\n",
       " Name: 14, dtype: object,\n",
       " Bill. Qty                     41\n",
       " Date         2019-11-23 00:00:00\n",
       " Name: 20, dtype: object,\n",
       " Bill. Qty                     45\n",
       " Date         2019-12-23 00:00:00\n",
       " Name: 24, dtype: object,\n",
       " Bill. Qty                      3\n",
       " Date         2019-11-16 00:00:00\n",
       " Name: 19, dtype: object,\n",
       " Bill. Qty                     24\n",
       " Date         2019-12-09 00:00:00\n",
       " Name: 22, dtype: object]"
      ]
     },
     "execution_count": 580,
     "metadata": {},
     "output_type": "execute_result"
    }
   ],
   "source": [
    "output"
   ]
  },
  {
   "cell_type": "code",
   "execution_count": 581,
   "metadata": {},
   "outputs": [],
   "source": [
    "output = pd.DataFrame(output)"
   ]
  },
  {
   "cell_type": "code",
   "execution_count": 582,
   "metadata": {},
   "outputs": [],
   "source": [
    "def lens(listoflists):\n",
    "  return [len(x) for x in listoflists]"
   ]
  },
  {
   "cell_type": "code",
   "execution_count": 583,
   "metadata": {},
   "outputs": [],
   "source": [
    "count_Products = lens(outliers_indices)"
   ]
  },
  {
   "cell_type": "code",
   "execution_count": 584,
   "metadata": {},
   "outputs": [
    {
     "data": {
      "text/plain": [
       "[6, 6, 6, 6, 5, 6, 4, 5, 6, 6]"
      ]
     },
     "execution_count": 584,
     "metadata": {},
     "output_type": "execute_result"
    }
   ],
   "source": [
    "count_Products"
   ]
  },
  {
   "cell_type": "code",
   "execution_count": 585,
   "metadata": {},
   "outputs": [],
   "source": [
    "outlier = []\n",
    "i=0\n",
    "while(i<10):\n",
    "    x = (np.repeat(Product[i],count_Products[i]))\n",
    "    outlier.append(x)\n",
    "    i=i+1"
   ]
  },
  {
   "cell_type": "code",
   "execution_count": 586,
   "metadata": {},
   "outputs": [],
   "source": [
    "newlist = [item for items in outlier for item in items]\n",
    "outlier = pd.DataFrame(newlist)"
   ]
  },
  {
   "cell_type": "code",
   "execution_count": 587,
   "metadata": {},
   "outputs": [],
   "source": [
    "outlier.columns = ['Prod_Name']"
   ]
  },
  {
   "cell_type": "code",
   "execution_count": 588,
   "metadata": {},
   "outputs": [
    {
     "data": {
      "text/plain": [
       "56"
      ]
     },
     "execution_count": 588,
     "metadata": {},
     "output_type": "execute_result"
    }
   ],
   "source": [
    "len(output)"
   ]
  },
  {
   "cell_type": "code",
   "execution_count": 589,
   "metadata": {},
   "outputs": [
    {
     "data": {
      "text/plain": [
       "56"
      ]
     },
     "execution_count": 589,
     "metadata": {},
     "output_type": "execute_result"
    }
   ],
   "source": [
    "len(outlier)"
   ]
  },
  {
   "cell_type": "code",
   "execution_count": 590,
   "metadata": {},
   "outputs": [],
   "source": [
    "a =output.reset_index(drop = True)\n",
    "b =outlier"
   ]
  },
  {
   "cell_type": "code",
   "execution_count": 591,
   "metadata": {},
   "outputs": [],
   "source": [
    "final_outliers = a.combine_first(b)"
   ]
  },
  {
   "cell_type": "markdown",
   "metadata": {},
   "source": [
    "## Ouptut 3"
   ]
  },
  {
   "cell_type": "code",
   "execution_count": 592,
   "metadata": {},
   "outputs": [],
   "source": [
    "final_outliers.to_excel(r'E:\\0001_Studies\\Undercutting\\output\\comparison\\Test\\HARISH KANNA AGENCY_MultivariateAnalysis.xlsx',index=False)"
   ]
  },
  {
   "cell_type": "code",
   "execution_count": null,
   "metadata": {},
   "outputs": [],
   "source": []
  },
  {
   "cell_type": "code",
   "execution_count": null,
   "metadata": {},
   "outputs": [],
   "source": []
  }
 ],
 "metadata": {
  "kernelspec": {
   "display_name": "Python 3",
   "language": "python",
   "name": "python3"
  },
  "language_info": {
   "codemirror_mode": {
    "name": "ipython",
    "version": 3
   },
   "file_extension": ".py",
   "mimetype": "text/x-python",
   "name": "python",
   "nbconvert_exporter": "python",
   "pygments_lexer": "ipython3",
   "version": "3.7.6"
  }
 },
 "nbformat": 4,
 "nbformat_minor": 4
}
