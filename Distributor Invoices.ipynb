{
 "cells": [
  {
   "cell_type": "code",
   "execution_count": 79,
   "metadata": {},
   "outputs": [],
   "source": [
    "import pandas as pd\n",
    "import numpy as np\n",
    "from datetime import timedelta\n"
   ]
  },
  {
   "cell_type": "code",
   "execution_count": 80,
   "metadata": {},
   "outputs": [],
   "source": [
    "pd.options.mode.chained_assignment = None #for not showing warning message \n",
    "pd.options.display.float_format = '{:,.2f}'.format #for setting thhe float format to this notebook"
   ]
  },
  {
   "cell_type": "code",
   "execution_count": 81,
   "metadata": {},
   "outputs": [],
   "source": [
    "data = pd.read_excel(r\"D:\\Analytics\\Undercutting\\South region - GT\\Data\\Distributor Invoices.xlsx\")"
   ]
  },
  {
   "cell_type": "code",
   "execution_count": 82,
   "metadata": {},
   "outputs": [
    {
     "data": {
      "text/plain": [
       "(104281, 17)"
      ]
     },
     "execution_count": 82,
     "metadata": {},
     "output_type": "execute_result"
    }
   ],
   "source": [
    "data.shape"
   ]
  },
  {
   "cell_type": "code",
   "execution_count": 83,
   "metadata": {},
   "outputs": [
    {
     "data": {
      "text/plain": [
       "Index(['Account', 'DocumentNo', 'Unnamed: 2', 'Doc..Date', 'Pstng Date',\n",
       "       'CCAr', 'BusA', 'Typ', 'S', 'DD', 'Amount in DC', 'Local Crcy Amt',\n",
       "       'Net Due Dt', 'Clearing', 'Text', 'LCurr', 'User Name'],\n",
       "      dtype='object')"
      ]
     },
     "execution_count": 83,
     "metadata": {},
     "output_type": "execute_result"
    }
   ],
   "source": [
    "data.columns =  data.columns.str.strip()\n",
    "data.columns"
   ]
  },
  {
   "cell_type": "code",
   "execution_count": 84,
   "metadata": {},
   "outputs": [
    {
     "data": {
      "text/plain": [
       "Account           float64\n",
       "DocumentNo        float64\n",
       "Unnamed: 2        float64\n",
       "Doc..Date          object\n",
       "Pstng Date         object\n",
       "CCAr               object\n",
       "BusA               object\n",
       "Typ                object\n",
       "S                 float64\n",
       "DD                float64\n",
       "Amount in DC      float64\n",
       "Local Crcy Amt    float64\n",
       "Net Due Dt         object\n",
       "Clearing           object\n",
       "Text               object\n",
       "LCurr              object\n",
       "User Name          object\n",
       "dtype: object"
      ]
     },
     "execution_count": 84,
     "metadata": {},
     "output_type": "execute_result"
    }
   ],
   "source": [
    "data.dtypes"
   ]
  },
  {
   "cell_type": "code",
   "execution_count": 85,
   "metadata": {},
   "outputs": [],
   "source": [
    "data[\"Net Due Dt\"]           = pd.to_datetime(data[\"Net Due Dt\"],format='%d.%m.%Y')\n",
    "data[\"Clearing\"]             = data[\"Clearing\"].fillna(\"01.04.2020\")\n",
    "data[\"Clearing\"]             = pd.to_datetime(data[\"Clearing\"],format='%d.%m.%Y')\n",
    "data.drop(data[data[\"Account\"].isna()].index,axis =0,inplace=True)\n",
    "data[\"Account\"]              = data[\"Account\"].astype(int)"
   ]
  },
  {
   "cell_type": "code",
   "execution_count": 86,
   "metadata": {},
   "outputs": [],
   "source": [
    "invoicedata              = data[[\"Account\",\"Net Due Dt\",\"Clearing\",\"Amount in DC\"]]\n",
    "invoicedata              = invoicedata[invoicedata[\"Net Due Dt\"] <= \"2020-03-31\"]\n",
    "invoicedata[\"days_diff\"] = (data[\"Net Due Dt\"] - data[\"Clearing\"])/timedelta(days=1)\n",
    "invoicedata[\"Default\"]   = np.where(invoicedata[\"days_diff\"] < 0, \"Yes\", \"No\")"
   ]
  },
  {
   "cell_type": "code",
   "execution_count": 87,
   "metadata": {
    "scrolled": true
   },
   "outputs": [
    {
     "data": {
      "text/html": [
       "<div>\n",
       "<style scoped>\n",
       "    .dataframe tbody tr th:only-of-type {\n",
       "        vertical-align: middle;\n",
       "    }\n",
       "\n",
       "    .dataframe tbody tr th {\n",
       "        vertical-align: top;\n",
       "    }\n",
       "\n",
       "    .dataframe thead th {\n",
       "        text-align: right;\n",
       "    }\n",
       "</style>\n",
       "<table border=\"1\" class=\"dataframe\">\n",
       "  <thead>\n",
       "    <tr style=\"text-align: right;\">\n",
       "      <th></th>\n",
       "      <th>Account</th>\n",
       "      <th>Net Due Dt</th>\n",
       "      <th>Clearing</th>\n",
       "      <th>Amount in DC</th>\n",
       "      <th>days_diff</th>\n",
       "      <th>Default</th>\n",
       "    </tr>\n",
       "  </thead>\n",
       "  <tbody>\n",
       "    <tr>\n",
       "      <th>3</th>\n",
       "      <td>2000001</td>\n",
       "      <td>2020-03-30</td>\n",
       "      <td>2020-03-30</td>\n",
       "      <td>-697,775.28</td>\n",
       "      <td>0.00</td>\n",
       "      <td>No</td>\n",
       "    </tr>\n",
       "    <tr>\n",
       "      <th>4</th>\n",
       "      <td>2000001</td>\n",
       "      <td>2020-03-28</td>\n",
       "      <td>2020-03-28</td>\n",
       "      <td>-15,167.01</td>\n",
       "      <td>0.00</td>\n",
       "      <td>No</td>\n",
       "    </tr>\n",
       "    <tr>\n",
       "      <th>5</th>\n",
       "      <td>2000001</td>\n",
       "      <td>2020-03-28</td>\n",
       "      <td>2020-03-28</td>\n",
       "      <td>15,167.01</td>\n",
       "      <td>0.00</td>\n",
       "      <td>No</td>\n",
       "    </tr>\n",
       "    <tr>\n",
       "      <th>6</th>\n",
       "      <td>2000001</td>\n",
       "      <td>2020-03-26</td>\n",
       "      <td>2020-03-26</td>\n",
       "      <td>20,310.00</td>\n",
       "      <td>0.00</td>\n",
       "      <td>No</td>\n",
       "    </tr>\n",
       "    <tr>\n",
       "      <th>7</th>\n",
       "      <td>2000001</td>\n",
       "      <td>2020-03-26</td>\n",
       "      <td>2020-03-26</td>\n",
       "      <td>-20,310.00</td>\n",
       "      <td>0.00</td>\n",
       "      <td>No</td>\n",
       "    </tr>\n",
       "    <tr>\n",
       "      <th>8</th>\n",
       "      <td>2000001</td>\n",
       "      <td>2020-03-24</td>\n",
       "      <td>2020-03-24</td>\n",
       "      <td>-228,342.39</td>\n",
       "      <td>0.00</td>\n",
       "      <td>No</td>\n",
       "    </tr>\n",
       "    <tr>\n",
       "      <th>9</th>\n",
       "      <td>2000001</td>\n",
       "      <td>2020-03-27</td>\n",
       "      <td>2020-03-23</td>\n",
       "      <td>1,012,193.00</td>\n",
       "      <td>4.00</td>\n",
       "      <td>No</td>\n",
       "    </tr>\n",
       "    <tr>\n",
       "      <th>10</th>\n",
       "      <td>2000001</td>\n",
       "      <td>2020-03-27</td>\n",
       "      <td>2020-03-30</td>\n",
       "      <td>697,775.28</td>\n",
       "      <td>-3.00</td>\n",
       "      <td>Yes</td>\n",
       "    </tr>\n",
       "    <tr>\n",
       "      <th>11</th>\n",
       "      <td>2000001</td>\n",
       "      <td>2020-03-23</td>\n",
       "      <td>2020-03-23</td>\n",
       "      <td>314,417.72</td>\n",
       "      <td>0.00</td>\n",
       "      <td>No</td>\n",
       "    </tr>\n",
       "    <tr>\n",
       "      <th>12</th>\n",
       "      <td>2000001</td>\n",
       "      <td>2020-03-23</td>\n",
       "      <td>2020-03-23</td>\n",
       "      <td>-1,012,193.00</td>\n",
       "      <td>0.00</td>\n",
       "      <td>No</td>\n",
       "    </tr>\n",
       "  </tbody>\n",
       "</table>\n",
       "</div>"
      ],
      "text/plain": [
       "    Account Net Due Dt   Clearing  Amount in DC  days_diff Default\n",
       "3   2000001 2020-03-30 2020-03-30   -697,775.28       0.00      No\n",
       "4   2000001 2020-03-28 2020-03-28    -15,167.01       0.00      No\n",
       "5   2000001 2020-03-28 2020-03-28     15,167.01       0.00      No\n",
       "6   2000001 2020-03-26 2020-03-26     20,310.00       0.00      No\n",
       "7   2000001 2020-03-26 2020-03-26    -20,310.00       0.00      No\n",
       "8   2000001 2020-03-24 2020-03-24   -228,342.39       0.00      No\n",
       "9   2000001 2020-03-27 2020-03-23  1,012,193.00       4.00      No\n",
       "10  2000001 2020-03-27 2020-03-30    697,775.28      -3.00     Yes\n",
       "11  2000001 2020-03-23 2020-03-23    314,417.72       0.00      No\n",
       "12  2000001 2020-03-23 2020-03-23 -1,012,193.00       0.00      No"
      ]
     },
     "execution_count": 87,
     "metadata": {},
     "output_type": "execute_result"
    }
   ],
   "source": [
    "invoicedata.head(10)"
   ]
  },
  {
   "cell_type": "code",
   "execution_count": 90,
   "metadata": {},
   "outputs": [],
   "source": [
    "count_dist              = invoicedata.groupby([\"Account\"]).agg(Count = (\"Account\",\"count\")).reset_index()\n",
    "dist_default            = invoicedata.groupby(\"Account\").Default.apply(lambda x: (x == 'Yes').mean())\n",
    "dist_default            = pd.DataFrame(dist_default).reset_index()\n",
    "dist_default[\"Default\"] = dist_default[\"Default\"] * 100\n",
    "dist_default            = dist_default.merge(count_dist,how = \"inner\",on=\"Account\")"
   ]
  },
  {
   "cell_type": "code",
   "execution_count": 91,
   "metadata": {},
   "outputs": [
    {
     "data": {
      "text/html": [
       "<div>\n",
       "<style scoped>\n",
       "    .dataframe tbody tr th:only-of-type {\n",
       "        vertical-align: middle;\n",
       "    }\n",
       "\n",
       "    .dataframe tbody tr th {\n",
       "        vertical-align: top;\n",
       "    }\n",
       "\n",
       "    .dataframe thead th {\n",
       "        text-align: right;\n",
       "    }\n",
       "</style>\n",
       "<table border=\"1\" class=\"dataframe\">\n",
       "  <thead>\n",
       "    <tr style=\"text-align: right;\">\n",
       "      <th></th>\n",
       "      <th>Account</th>\n",
       "      <th>Default</th>\n",
       "      <th>Count</th>\n",
       "    </tr>\n",
       "  </thead>\n",
       "  <tbody>\n",
       "    <tr>\n",
       "      <th>0</th>\n",
       "      <td>2000001</td>\n",
       "      <td>40.90</td>\n",
       "      <td>868</td>\n",
       "    </tr>\n",
       "    <tr>\n",
       "      <th>1</th>\n",
       "      <td>2000002</td>\n",
       "      <td>43.16</td>\n",
       "      <td>526</td>\n",
       "    </tr>\n",
       "    <tr>\n",
       "      <th>2</th>\n",
       "      <td>2000003</td>\n",
       "      <td>43.06</td>\n",
       "      <td>576</td>\n",
       "    </tr>\n",
       "    <tr>\n",
       "      <th>3</th>\n",
       "      <td>2000004</td>\n",
       "      <td>38.78</td>\n",
       "      <td>1029</td>\n",
       "    </tr>\n",
       "    <tr>\n",
       "      <th>4</th>\n",
       "      <td>2000005</td>\n",
       "      <td>41.54</td>\n",
       "      <td>573</td>\n",
       "    </tr>\n",
       "    <tr>\n",
       "      <th>...</th>\n",
       "      <td>...</td>\n",
       "      <td>...</td>\n",
       "      <td>...</td>\n",
       "    </tr>\n",
       "    <tr>\n",
       "      <th>443</th>\n",
       "      <td>2008024</td>\n",
       "      <td>0.00</td>\n",
       "      <td>10</td>\n",
       "    </tr>\n",
       "    <tr>\n",
       "      <th>444</th>\n",
       "      <td>2008025</td>\n",
       "      <td>0.00</td>\n",
       "      <td>6</td>\n",
       "    </tr>\n",
       "    <tr>\n",
       "      <th>445</th>\n",
       "      <td>2008085</td>\n",
       "      <td>0.00</td>\n",
       "      <td>2</td>\n",
       "    </tr>\n",
       "    <tr>\n",
       "      <th>446</th>\n",
       "      <td>2008166</td>\n",
       "      <td>5.00</td>\n",
       "      <td>20</td>\n",
       "    </tr>\n",
       "    <tr>\n",
       "      <th>447</th>\n",
       "      <td>2008256</td>\n",
       "      <td>0.00</td>\n",
       "      <td>4</td>\n",
       "    </tr>\n",
       "  </tbody>\n",
       "</table>\n",
       "<p>448 rows × 3 columns</p>\n",
       "</div>"
      ],
      "text/plain": [
       "     Account  Default  Count\n",
       "0    2000001    40.90    868\n",
       "1    2000002    43.16    526\n",
       "2    2000003    43.06    576\n",
       "3    2000004    38.78   1029\n",
       "4    2000005    41.54    573\n",
       "..       ...      ...    ...\n",
       "443  2008024     0.00     10\n",
       "444  2008025     0.00      6\n",
       "445  2008085     0.00      2\n",
       "446  2008166     5.00     20\n",
       "447  2008256     0.00      4\n",
       "\n",
       "[448 rows x 3 columns]"
      ]
     },
     "execution_count": 91,
     "metadata": {},
     "output_type": "execute_result"
    }
   ],
   "source": [
    "dist_default"
   ]
  },
  {
   "cell_type": "code",
   "execution_count": 78,
   "metadata": {},
   "outputs": [],
   "source": [
    "dist_default.to_excel(r\"D:\\Analytics\\Undercutting\\South region - GT\\Outfiles\\dist_default.xlsx\",index = False)"
   ]
  },
  {
   "cell_type": "code",
   "execution_count": 65,
   "metadata": {},
   "outputs": [],
   "source": [
    "invoicedata.to_excel(r\"D:\\Analytics\\Undercutting\\South region - GT\\Outfiles\\invoicedata.xlsx\",index = False)"
   ]
  },
  {
   "cell_type": "code",
   "execution_count": null,
   "metadata": {},
   "outputs": [],
   "source": []
  }
 ],
 "metadata": {
  "kernelspec": {
   "display_name": "Python 3",
   "language": "python",
   "name": "python3"
  },
  "language_info": {
   "codemirror_mode": {
    "name": "ipython",
    "version": 3
   },
   "file_extension": ".py",
   "mimetype": "text/x-python",
   "name": "python",
   "nbconvert_exporter": "python",
   "pygments_lexer": "ipython3",
   "version": "3.7.5"
  }
 },
 "nbformat": 4,
 "nbformat_minor": 4
}
