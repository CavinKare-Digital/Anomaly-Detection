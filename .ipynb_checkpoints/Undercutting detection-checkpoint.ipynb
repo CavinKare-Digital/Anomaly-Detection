{
 "cells": [
  {
   "cell_type": "markdown",
   "metadata": {},
   "source": [
    "# Anomaly Detection"
   ]
  },
  {
   "cell_type": "code",
   "execution_count": 1,
   "metadata": {},
   "outputs": [],
   "source": [
    "import  pandas as pd\n",
    "import numpy as np\n",
    "import scipy.stats as ss"
   ]
  },
  {
   "cell_type": "code",
   "execution_count": 2,
   "metadata": {},
   "outputs": [],
   "source": [
    "pd.options.mode.chained_assignment = None"
   ]
  },
  {
   "cell_type": "code",
   "execution_count": 3,
   "metadata": {},
   "outputs": [],
   "source": [
    "data = pd.read_excel(r\"D:\\Analytics\\Undercutting\\Sample data\\Anomaly detection 2.xlsx\")"
   ]
  },
  {
   "cell_type": "code",
   "execution_count": 9,
   "metadata": {},
   "outputs": [
    {
     "data": {
      "text/plain": [
       "(13353, 30)"
      ]
     },
     "execution_count": 9,
     "metadata": {},
     "output_type": "execute_result"
    }
   ],
   "source": [
    "data.shape"
   ]
  },
  {
   "cell_type": "code",
   "execution_count": 4,
   "metadata": {
    "scrolled": true
   },
   "outputs": [
    {
     "data": {
      "text/html": [
       "<div>\n",
       "<style scoped>\n",
       "    .dataframe tbody tr th:only-of-type {\n",
       "        vertical-align: middle;\n",
       "    }\n",
       "\n",
       "    .dataframe tbody tr th {\n",
       "        vertical-align: top;\n",
       "    }\n",
       "\n",
       "    .dataframe thead th {\n",
       "        text-align: right;\n",
       "    }\n",
       "</style>\n",
       "<table border=\"1\" class=\"dataframe\">\n",
       "  <thead>\n",
       "    <tr style=\"text-align: right;\">\n",
       "      <th></th>\n",
       "      <th>Distribution Channel</th>\n",
       "      <th>Division</th>\n",
       "      <th>Sold-To Party</th>\n",
       "      <th>Customer Group 3</th>\n",
       "      <th>Price List Type</th>\n",
       "      <th>Region Order</th>\n",
       "      <th>Plant</th>\n",
       "      <th>Material</th>\n",
       "      <th>Date</th>\n",
       "      <th>New date</th>\n",
       "      <th>...</th>\n",
       "      <th>CredMemQty</th>\n",
       "      <th>CredMemQty.1</th>\n",
       "      <th>Gross</th>\n",
       "      <th>Gross.1</th>\n",
       "      <th>Sales cost</th>\n",
       "      <th>Net</th>\n",
       "      <th>Net.1</th>\n",
       "      <th>RtnsQty</th>\n",
       "      <th>RtnsQty.1</th>\n",
       "      <th>Rtns (cst)</th>\n",
       "    </tr>\n",
       "  </thead>\n",
       "  <tbody>\n",
       "    <tr>\n",
       "      <th>0</th>\n",
       "      <td>GT General Trade</td>\n",
       "      <td>PC Personal Care</td>\n",
       "      <td>2000001    N.CT. AGENCIES</td>\n",
       "      <td>006 GT</td>\n",
       "      <td>02 Super Stockist</td>\n",
       "      <td>TN  TN</td>\n",
       "      <td>TND1 CavinKare Pvt. Ltd, CHE DEPOT</td>\n",
       "      <td>KH0050HWP02R       KARTHIKA HERBAL POWDER 50GM...</td>\n",
       "      <td>22.04.2019</td>\n",
       "      <td>2019-04-22</td>\n",
       "      <td>...</td>\n",
       "      <td>0.0</td>\n",
       "      <td>CV</td>\n",
       "      <td>21.2</td>\n",
       "      <td>KG</td>\n",
       "      <td>1406.63</td>\n",
       "      <td>18.0</td>\n",
       "      <td>KG</td>\n",
       "      <td>0.0</td>\n",
       "      <td>CV</td>\n",
       "      <td>0.0</td>\n",
       "    </tr>\n",
       "    <tr>\n",
       "      <th>1</th>\n",
       "      <td>GT General Trade</td>\n",
       "      <td>PC Personal Care</td>\n",
       "      <td>2000001    N.CT. AGENCIES</td>\n",
       "      <td>006 GT</td>\n",
       "      <td>02 Super Stockist</td>\n",
       "      <td>TN  TN</td>\n",
       "      <td>TND1 CavinKare Pvt. Ltd, CHE DEPOT</td>\n",
       "      <td>KH0050HWP02R       KARTHIKA HERBAL POWDER 50GM...</td>\n",
       "      <td>07.05.2019</td>\n",
       "      <td>2019-05-07</td>\n",
       "      <td>...</td>\n",
       "      <td>0.0</td>\n",
       "      <td>CV</td>\n",
       "      <td>21.2</td>\n",
       "      <td>KG</td>\n",
       "      <td>1422.78</td>\n",
       "      <td>18.0</td>\n",
       "      <td>KG</td>\n",
       "      <td>0.0</td>\n",
       "      <td>CV</td>\n",
       "      <td>0.0</td>\n",
       "    </tr>\n",
       "  </tbody>\n",
       "</table>\n",
       "<p>2 rows × 28 columns</p>\n",
       "</div>"
      ],
      "text/plain": [
       "  Distribution Channel          Division              Sold-To Party  \\\n",
       "0     GT General Trade  PC Personal Care  2000001    N.CT. AGENCIES   \n",
       "1     GT General Trade  PC Personal Care  2000001    N.CT. AGENCIES   \n",
       "\n",
       "  Customer Group 3    Price List Type Region Order  \\\n",
       "0           006 GT  02 Super Stockist       TN  TN   \n",
       "1           006 GT  02 Super Stockist       TN  TN   \n",
       "\n",
       "                                Plant  \\\n",
       "0  TND1 CavinKare Pvt. Ltd, CHE DEPOT   \n",
       "1  TND1 CavinKare Pvt. Ltd, CHE DEPOT   \n",
       "\n",
       "                                            Material        Date   New date  \\\n",
       "0  KH0050HWP02R       KARTHIKA HERBAL POWDER 50GM...  22.04.2019 2019-04-22   \n",
       "1  KH0050HWP02R       KARTHIKA HERBAL POWDER 50GM...  07.05.2019 2019-05-07   \n",
       "\n",
       "   ...  CredMemQty  CredMemQty.1  Gross  Gross.1  Sales cost   Net  Net.1  \\\n",
       "0  ...         0.0            CV   21.2       KG     1406.63  18.0     KG   \n",
       "1  ...         0.0            CV   21.2       KG     1422.78  18.0     KG   \n",
       "\n",
       "  RtnsQty  RtnsQty.1 Rtns (cst)  \n",
       "0     0.0         CV        0.0  \n",
       "1     0.0         CV        0.0  \n",
       "\n",
       "[2 rows x 28 columns]"
      ]
     },
     "execution_count": 4,
     "metadata": {},
     "output_type": "execute_result"
    }
   ],
   "source": [
    "data.head(2)"
   ]
  },
  {
   "cell_type": "code",
   "execution_count": 5,
   "metadata": {},
   "outputs": [
    {
     "data": {
      "text/plain": [
       "Index(['Distribution Channel', 'Division', 'Sold-To Party', 'Customer Group 3',\n",
       "       'Price List Type', 'Region Order', 'Plant', 'Material', 'Date',\n",
       "       'New date', 'Sales', 'Returns', 'Cred.Memos', 'CM: net 1', 'Net Value',\n",
       "       'Tax', 'Bill. Qty', 'Bill. Qty.1', 'CredMemQty', 'CredMemQty.1',\n",
       "       'Gross', 'Gross.1', 'Sales cost', 'Net', 'Net.1', 'RtnsQty',\n",
       "       'RtnsQty.1', 'Rtns (cst)'],\n",
       "      dtype='object')"
      ]
     },
     "execution_count": 5,
     "metadata": {},
     "output_type": "execute_result"
    }
   ],
   "source": [
    "data.columns"
   ]
  },
  {
   "cell_type": "code",
   "execution_count": 6,
   "metadata": {},
   "outputs": [],
   "source": [
    "temp                   =  data[\"Material\"].str.split(\"       \",expand=True)\n",
    "data[\"Prod_Code\"]      = temp[0]\n",
    "data[\"Prod_Name\"]      = temp[1]\n",
    "data[\"Date\"]           = pd.to_datetime(data[\"Date\"],format='%d.%m.%Y')\n",
    "# data[\"Month\"]          = data[\"New date\"].dt.strftime('%B')"
   ]
  },
  {
   "cell_type": "code",
   "execution_count": 32,
   "metadata": {},
   "outputs": [],
   "source": [
    "dist_data = data[[\"Sold-To Party\",\"Date\",\"Prod_Name\",\"Bill. Qty\"]]"
   ]
  },
  {
   "cell_type": "code",
   "execution_count": 33,
   "metadata": {
    "scrolled": true
   },
   "outputs": [
    {
     "data": {
      "text/plain": [
       "(13353, 4)"
      ]
     },
     "execution_count": 33,
     "metadata": {},
     "output_type": "execute_result"
    }
   ],
   "source": [
    "dist_data.shape"
   ]
  },
  {
   "cell_type": "code",
   "execution_count": 34,
   "metadata": {},
   "outputs": [
    {
     "data": {
      "text/html": [
       "<div>\n",
       "<style scoped>\n",
       "    .dataframe tbody tr th:only-of-type {\n",
       "        vertical-align: middle;\n",
       "    }\n",
       "\n",
       "    .dataframe tbody tr th {\n",
       "        vertical-align: top;\n",
       "    }\n",
       "\n",
       "    .dataframe thead th {\n",
       "        text-align: right;\n",
       "    }\n",
       "</style>\n",
       "<table border=\"1\" class=\"dataframe\">\n",
       "  <thead>\n",
       "    <tr style=\"text-align: right;\">\n",
       "      <th></th>\n",
       "      <th>Sold-To Party</th>\n",
       "      <th>Date</th>\n",
       "      <th>Prod_Name</th>\n",
       "      <th>Bill. Qty</th>\n",
       "    </tr>\n",
       "  </thead>\n",
       "  <tbody>\n",
       "    <tr>\n",
       "      <th>0</th>\n",
       "      <td>2000001    N.CT. AGENCIES</td>\n",
       "      <td>2019-04-22</td>\n",
       "      <td>KARTHIKA HERBAL POWDER 50GM 180 PCS</td>\n",
       "      <td>2.0</td>\n",
       "    </tr>\n",
       "    <tr>\n",
       "      <th>1</th>\n",
       "      <td>2000001    N.CT. AGENCIES</td>\n",
       "      <td>2019-05-07</td>\n",
       "      <td>KARTHIKA HERBAL POWDER 50GM 180 PCS</td>\n",
       "      <td>2.0</td>\n",
       "    </tr>\n",
       "  </tbody>\n",
       "</table>\n",
       "</div>"
      ],
      "text/plain": [
       "               Sold-To Party       Date                            Prod_Name  \\\n",
       "0  2000001    N.CT. AGENCIES 2019-04-22  KARTHIKA HERBAL POWDER 50GM 180 PCS   \n",
       "1  2000001    N.CT. AGENCIES 2019-05-07  KARTHIKA HERBAL POWDER 50GM 180 PCS   \n",
       "\n",
       "   Bill. Qty  \n",
       "0        2.0  \n",
       "1        2.0  "
      ]
     },
     "execution_count": 34,
     "metadata": {},
     "output_type": "execute_result"
    }
   ],
   "source": [
    "dist_data.head(2)"
   ]
  },
  {
   "cell_type": "code",
   "execution_count": 11,
   "metadata": {},
   "outputs": [
    {
     "data": {
      "text/html": [
       "<div>\n",
       "<style scoped>\n",
       "    .dataframe tbody tr th:only-of-type {\n",
       "        vertical-align: middle;\n",
       "    }\n",
       "\n",
       "    .dataframe tbody tr th {\n",
       "        vertical-align: top;\n",
       "    }\n",
       "\n",
       "    .dataframe thead th {\n",
       "        text-align: right;\n",
       "    }\n",
       "</style>\n",
       "<table border=\"1\" class=\"dataframe\">\n",
       "  <thead>\n",
       "    <tr style=\"text-align: right;\">\n",
       "      <th></th>\n",
       "      <th>Sold-To Party</th>\n",
       "      <th>Prod_Name</th>\n",
       "      <th>Count</th>\n",
       "    </tr>\n",
       "  </thead>\n",
       "  <tbody>\n",
       "    <tr>\n",
       "      <th>0</th>\n",
       "      <td>2000001    N.CT. AGENCIES</td>\n",
       "      <td>KARTHIKA HERBAL POWDER 5.8 GM 2000 PCS</td>\n",
       "      <td>31</td>\n",
       "    </tr>\n",
       "    <tr>\n",
       "      <th>1</th>\n",
       "      <td>2000001    N.CT. AGENCIES</td>\n",
       "      <td>KARTHIKA HERBAL POWDER 50GM 180 PCS</td>\n",
       "      <td>10</td>\n",
       "    </tr>\n",
       "  </tbody>\n",
       "</table>\n",
       "</div>"
      ],
      "text/plain": [
       "               Sold-To Party                               Prod_Name  Count\n",
       "0  2000001    N.CT. AGENCIES  KARTHIKA HERBAL POWDER 5.8 GM 2000 PCS     31\n",
       "1  2000001    N.CT. AGENCIES     KARTHIKA HERBAL POWDER 50GM 180 PCS     10"
      ]
     },
     "execution_count": 11,
     "metadata": {},
     "output_type": "execute_result"
    }
   ],
   "source": [
    "rmv_single_rows = dist_data.groupby([\"Sold-To Party\",\"Prod_Name\"]).agg(Count = (\"Prod_Name\",\"count\")).reset_index()\n",
    "rmv_single_rows.head(2)"
   ]
  },
  {
   "cell_type": "code",
   "execution_count": 12,
   "metadata": {},
   "outputs": [
    {
     "data": {
      "text/plain": [
       "387"
      ]
     },
     "execution_count": 12,
     "metadata": {},
     "output_type": "execute_result"
    }
   ],
   "source": [
    "len(rmv_single_rows[rmv_single_rows[\"Count\"] == 1])"
   ]
  },
  {
   "cell_type": "code",
   "execution_count": 13,
   "metadata": {},
   "outputs": [
    {
     "data": {
      "text/plain": [
       "(12966, 5)"
      ]
     },
     "execution_count": 13,
     "metadata": {},
     "output_type": "execute_result"
    }
   ],
   "source": [
    "dist_data_clean = pd.merge(dist_data,rmv_single_rows,on = [\"Sold-To Party\",\"Prod_Name\"],how = \"left\")\n",
    "dist_data_clean = dist_data_clean[dist_data_clean[\"Count\"] != 1]\n",
    "dist_data_clean.shape"
   ]
  },
  {
   "cell_type": "code",
   "execution_count": 24,
   "metadata": {},
   "outputs": [
    {
     "name": "stdout",
     "output_type": "stream",
     "text": [
      "So totally 387 rows will be dropped from total of 13353 rows. Because it has only 1 data\n"
     ]
    }
   ],
   "source": [
    "print(\"So totally {a} rows will be dropped from total of {b} rows. Because it has only 1 data\".format(a = len(rmv_single_rows[rmv_single_rows[\"Count\"] == 1]), b= len(dist_data)))"
   ]
  },
  {
   "cell_type": "code",
   "execution_count": 14,
   "metadata": {},
   "outputs": [
    {
     "data": {
      "text/html": [
       "<div>\n",
       "<style scoped>\n",
       "    .dataframe tbody tr th:only-of-type {\n",
       "        vertical-align: middle;\n",
       "    }\n",
       "\n",
       "    .dataframe tbody tr th {\n",
       "        vertical-align: top;\n",
       "    }\n",
       "\n",
       "    .dataframe thead th {\n",
       "        text-align: right;\n",
       "    }\n",
       "</style>\n",
       "<table border=\"1\" class=\"dataframe\">\n",
       "  <thead>\n",
       "    <tr style=\"text-align: right;\">\n",
       "      <th></th>\n",
       "      <th>Sold-To Party</th>\n",
       "      <th>New date</th>\n",
       "      <th>Prod_Name</th>\n",
       "      <th>Bill. Qty</th>\n",
       "      <th>Count</th>\n",
       "    </tr>\n",
       "  </thead>\n",
       "  <tbody>\n",
       "    <tr>\n",
       "      <th>0</th>\n",
       "      <td>2000001    N.CT. AGENCIES</td>\n",
       "      <td>2019-04-22</td>\n",
       "      <td>KARTHIKA HERBAL POWDER 50GM 180 PCS</td>\n",
       "      <td>2.0</td>\n",
       "      <td>10</td>\n",
       "    </tr>\n",
       "    <tr>\n",
       "      <th>1</th>\n",
       "      <td>2000001    N.CT. AGENCIES</td>\n",
       "      <td>2019-05-07</td>\n",
       "      <td>KARTHIKA HERBAL POWDER 50GM 180 PCS</td>\n",
       "      <td>2.0</td>\n",
       "      <td>10</td>\n",
       "    </tr>\n",
       "  </tbody>\n",
       "</table>\n",
       "</div>"
      ],
      "text/plain": [
       "               Sold-To Party   New date                            Prod_Name  \\\n",
       "0  2000001    N.CT. AGENCIES 2019-04-22  KARTHIKA HERBAL POWDER 50GM 180 PCS   \n",
       "1  2000001    N.CT. AGENCIES 2019-05-07  KARTHIKA HERBAL POWDER 50GM 180 PCS   \n",
       "\n",
       "   Bill. Qty  Count  \n",
       "0        2.0     10  \n",
       "1        2.0     10  "
      ]
     },
     "execution_count": 14,
     "metadata": {},
     "output_type": "execute_result"
    }
   ],
   "source": [
    "dist_data_clean.head(2)"
   ]
  },
  {
   "cell_type": "code",
   "execution_count": 39,
   "metadata": {},
   "outputs": [],
   "source": [
    "# dist_data_groupby1.to_excel(r\"D:\\Analytics\\Undercutting\\Sample data\\Outfiles\\dist_data_groupby1.xlsx\",index = False)"
   ]
  },
  {
   "cell_type": "code",
   "execution_count": 41,
   "metadata": {},
   "outputs": [
    {
     "data": {
      "text/plain": [
       "Sold-To Party    0\n",
       "Prod_Name        0\n",
       "Mean             0\n",
       "stddev           0\n",
       "Median           0\n",
       "dtype: int64"
      ]
     },
     "execution_count": 41,
     "metadata": {},
     "output_type": "execute_result"
    }
   ],
   "source": [
    "dist_data_descriptive = dist_data_clean.groupby([\"Sold-To Party\",\"Prod_Name\"]).agg(Mean = (\"Bill. Qty\",\"mean\"), \n",
    "                                           stddev = (\"Bill. Qty\",\"std\"),Median =(\"Bill. Qty\",\"median\")).reset_index()\n",
    "dist_data_descriptive.isna().sum()"
   ]
  },
  {
   "cell_type": "code",
   "execution_count": 42,
   "metadata": {},
   "outputs": [],
   "source": [
    "zscore_data = pd.merge(dist_data_clean, dist_data_descriptive, on = [\"Sold-To Party\",\"Prod_Name\"], how = 'left')"
   ]
  },
  {
   "cell_type": "code",
   "execution_count": 43,
   "metadata": {
    "scrolled": true
   },
   "outputs": [
    {
     "data": {
      "text/html": [
       "<div>\n",
       "<style scoped>\n",
       "    .dataframe tbody tr th:only-of-type {\n",
       "        vertical-align: middle;\n",
       "    }\n",
       "\n",
       "    .dataframe tbody tr th {\n",
       "        vertical-align: top;\n",
       "    }\n",
       "\n",
       "    .dataframe thead th {\n",
       "        text-align: right;\n",
       "    }\n",
       "</style>\n",
       "<table border=\"1\" class=\"dataframe\">\n",
       "  <thead>\n",
       "    <tr style=\"text-align: right;\">\n",
       "      <th></th>\n",
       "      <th>Sold-To Party</th>\n",
       "      <th>New date</th>\n",
       "      <th>Prod_Name</th>\n",
       "      <th>Bill. Qty</th>\n",
       "      <th>Count</th>\n",
       "      <th>Mean</th>\n",
       "      <th>stddev</th>\n",
       "      <th>Median</th>\n",
       "    </tr>\n",
       "  </thead>\n",
       "  <tbody>\n",
       "    <tr>\n",
       "      <th>61</th>\n",
       "      <td>2000001    N.CT. AGENCIES</td>\n",
       "      <td>2019-04-04</td>\n",
       "      <td>KARTHIKA HERBAL POWDER 5.8 GM 2000 PCS</td>\n",
       "      <td>118.0</td>\n",
       "      <td>31</td>\n",
       "      <td>232.322581</td>\n",
       "      <td>233.914427</td>\n",
       "      <td>192.0</td>\n",
       "    </tr>\n",
       "    <tr>\n",
       "      <th>63</th>\n",
       "      <td>2000001    N.CT. AGENCIES</td>\n",
       "      <td>2019-04-16</td>\n",
       "      <td>KARTHIKA HERBAL POWDER 5.8 GM 2000 PCS</td>\n",
       "      <td>160.0</td>\n",
       "      <td>31</td>\n",
       "      <td>232.322581</td>\n",
       "      <td>233.914427</td>\n",
       "      <td>192.0</td>\n",
       "    </tr>\n",
       "  </tbody>\n",
       "</table>\n",
       "</div>"
      ],
      "text/plain": [
       "                Sold-To Party   New date  \\\n",
       "61  2000001    N.CT. AGENCIES 2019-04-04   \n",
       "63  2000001    N.CT. AGENCIES 2019-04-16   \n",
       "\n",
       "                                 Prod_Name  Bill. Qty  Count        Mean  \\\n",
       "61  KARTHIKA HERBAL POWDER 5.8 GM 2000 PCS      118.0     31  232.322581   \n",
       "63  KARTHIKA HERBAL POWDER 5.8 GM 2000 PCS      160.0     31  232.322581   \n",
       "\n",
       "        stddev  Median  \n",
       "61  233.914427   192.0  \n",
       "63  233.914427   192.0  "
      ]
     },
     "execution_count": 43,
     "metadata": {},
     "output_type": "execute_result"
    }
   ],
   "source": [
    "# Test Data\n",
    "zscore_data[(zscore_data[\"Sold-To Party\"] == \"2000001    N.CT. AGENCIES\") & (zscore_data[\"Prod_Name\"] == \"KARTHIKA HERBAL POWDER 5.8 GM 2000 PCS\")].head(2)"
   ]
  },
  {
   "cell_type": "code",
   "execution_count": 44,
   "metadata": {},
   "outputs": [
    {
     "data": {
      "text/plain": [
       "Sold-To Party    0\n",
       "New date         0\n",
       "Prod_Name        0\n",
       "Bill. Qty        0\n",
       "Count            0\n",
       "Mean             0\n",
       "stddev           0\n",
       "Median           0\n",
       "dtype: int64"
      ]
     },
     "execution_count": 44,
     "metadata": {},
     "output_type": "execute_result"
    }
   ],
   "source": [
    "zscore_data.isna().sum()\n",
    "# zscore_data.dropna(axis = 0, inplace = True)"
   ]
  },
  {
   "cell_type": "markdown",
   "metadata": {},
   "source": [
    "# Z Score Calculation"
   ]
  },
  {
   "cell_type": "code",
   "execution_count": 45,
   "metadata": {},
   "outputs": [],
   "source": [
    "zscore_data['z-score']= (zscore_data['Bill. Qty'] - zscore_data['Mean'])/zscore_data['stddev']"
   ]
  },
  {
   "cell_type": "code",
   "execution_count": 46,
   "metadata": {},
   "outputs": [
    {
     "data": {
      "text/html": [
       "<div>\n",
       "<style scoped>\n",
       "    .dataframe tbody tr th:only-of-type {\n",
       "        vertical-align: middle;\n",
       "    }\n",
       "\n",
       "    .dataframe tbody tr th {\n",
       "        vertical-align: top;\n",
       "    }\n",
       "\n",
       "    .dataframe thead th {\n",
       "        text-align: right;\n",
       "    }\n",
       "</style>\n",
       "<table border=\"1\" class=\"dataframe\">\n",
       "  <thead>\n",
       "    <tr style=\"text-align: right;\">\n",
       "      <th></th>\n",
       "      <th>Sold-To Party</th>\n",
       "      <th>New date</th>\n",
       "      <th>Prod_Name</th>\n",
       "      <th>Bill. Qty</th>\n",
       "      <th>Count</th>\n",
       "      <th>Mean</th>\n",
       "      <th>stddev</th>\n",
       "      <th>Median</th>\n",
       "      <th>z-score</th>\n",
       "    </tr>\n",
       "  </thead>\n",
       "  <tbody>\n",
       "    <tr>\n",
       "      <th>121</th>\n",
       "      <td>2000001    N.CT. AGENCIES</td>\n",
       "      <td>2019-09-18</td>\n",
       "      <td>KARTHIKA HERBAL POWDER 5.8 GM 2000 PCS</td>\n",
       "      <td>1300.0</td>\n",
       "      <td>31</td>\n",
       "      <td>232.322581</td>\n",
       "      <td>233.914427</td>\n",
       "      <td>192.0</td>\n",
       "      <td>4.564393</td>\n",
       "    </tr>\n",
       "    <tr>\n",
       "      <th>122</th>\n",
       "      <td>2000001    N.CT. AGENCIES</td>\n",
       "      <td>2019-09-30</td>\n",
       "      <td>KARTHIKA HERBAL POWDER 5.8 GM 2000 PCS</td>\n",
       "      <td>439.0</td>\n",
       "      <td>31</td>\n",
       "      <td>232.322581</td>\n",
       "      <td>233.914427</td>\n",
       "      <td>192.0</td>\n",
       "      <td>0.883560</td>\n",
       "    </tr>\n",
       "  </tbody>\n",
       "</table>\n",
       "</div>"
      ],
      "text/plain": [
       "                 Sold-To Party   New date  \\\n",
       "121  2000001    N.CT. AGENCIES 2019-09-18   \n",
       "122  2000001    N.CT. AGENCIES 2019-09-30   \n",
       "\n",
       "                                  Prod_Name  Bill. Qty  Count        Mean  \\\n",
       "121  KARTHIKA HERBAL POWDER 5.8 GM 2000 PCS     1300.0     31  232.322581   \n",
       "122  KARTHIKA HERBAL POWDER 5.8 GM 2000 PCS      439.0     31  232.322581   \n",
       "\n",
       "         stddev  Median   z-score  \n",
       "121  233.914427   192.0  4.564393  \n",
       "122  233.914427   192.0  0.883560  "
      ]
     },
     "execution_count": 46,
     "metadata": {},
     "output_type": "execute_result"
    }
   ],
   "source": [
    "# Test Data\n",
    "zscore_data[(zscore_data[\"Sold-To Party\"] == \"2000001    N.CT. AGENCIES\") & (zscore_data[\"Prod_Name\"] == \"KARTHIKA HERBAL POWDER 5.8 GM 2000 PCS\")].tail(2)"
   ]
  },
  {
   "cell_type": "code",
   "execution_count": 47,
   "metadata": {
    "scrolled": true
   },
   "outputs": [
    {
     "data": {
      "text/html": [
       "<div>\n",
       "<style scoped>\n",
       "    .dataframe tbody tr th:only-of-type {\n",
       "        vertical-align: middle;\n",
       "    }\n",
       "\n",
       "    .dataframe tbody tr th {\n",
       "        vertical-align: top;\n",
       "    }\n",
       "\n",
       "    .dataframe thead th {\n",
       "        text-align: right;\n",
       "    }\n",
       "</style>\n",
       "<table border=\"1\" class=\"dataframe\">\n",
       "  <thead>\n",
       "    <tr style=\"text-align: right;\">\n",
       "      <th></th>\n",
       "      <th>Sold-To Party</th>\n",
       "      <th>New date</th>\n",
       "      <th>Prod_Name</th>\n",
       "      <th>Bill. Qty</th>\n",
       "      <th>Count</th>\n",
       "      <th>Mean</th>\n",
       "      <th>stddev</th>\n",
       "      <th>Median</th>\n",
       "      <th>z-score</th>\n",
       "    </tr>\n",
       "  </thead>\n",
       "  <tbody>\n",
       "    <tr>\n",
       "      <th>121</th>\n",
       "      <td>2000001    N.CT. AGENCIES</td>\n",
       "      <td>2019-09-18</td>\n",
       "      <td>KARTHIKA HERBAL POWDER 5.8 GM 2000 PCS</td>\n",
       "      <td>1300.0</td>\n",
       "      <td>31</td>\n",
       "      <td>232.322581</td>\n",
       "      <td>233.914427</td>\n",
       "      <td>192.0</td>\n",
       "      <td>4.564393</td>\n",
       "    </tr>\n",
       "    <tr>\n",
       "      <th>11895</th>\n",
       "      <td>2003538    EVERGREEN ENTERPRISES</td>\n",
       "      <td>2019-09-17</td>\n",
       "      <td>MEERA ADVANCE HW POWDER 5.6 GM 1350 PCS</td>\n",
       "      <td>130.0</td>\n",
       "      <td>22</td>\n",
       "      <td>20.000000</td>\n",
       "      <td>25.266202</td>\n",
       "      <td>15.0</td>\n",
       "      <td>4.353642</td>\n",
       "    </tr>\n",
       "    <tr>\n",
       "      <th>11702</th>\n",
       "      <td>2003538    EVERGREEN ENTERPRISES</td>\n",
       "      <td>2019-07-20</td>\n",
       "      <td>KARTHIKA HERBAL POWDER 50GM 180 PCS</td>\n",
       "      <td>7.0</td>\n",
       "      <td>31</td>\n",
       "      <td>1.903226</td>\n",
       "      <td>1.247794</td>\n",
       "      <td>2.0</td>\n",
       "      <td>4.084629</td>\n",
       "    </tr>\n",
       "    <tr>\n",
       "      <th>2873</th>\n",
       "      <td>2000090    SRI SRINIVASA AGENCIES</td>\n",
       "      <td>2019-09-27</td>\n",
       "      <td>KARTHIKA HERBAL POWDER CONT 180G 80PCS</td>\n",
       "      <td>8.0</td>\n",
       "      <td>21</td>\n",
       "      <td>1.714286</td>\n",
       "      <td>1.553797</td>\n",
       "      <td>1.0</td>\n",
       "      <td>4.045389</td>\n",
       "    </tr>\n",
       "    <tr>\n",
       "      <th>5511</th>\n",
       "      <td>2000125    SRI AMMAN AGENCY</td>\n",
       "      <td>2019-09-23</td>\n",
       "      <td>KARTHIKA HERBAL POWDER 5.8 GM 2000 PCS</td>\n",
       "      <td>49.0</td>\n",
       "      <td>24</td>\n",
       "      <td>13.458333</td>\n",
       "      <td>8.997484</td>\n",
       "      <td>12.5</td>\n",
       "      <td>3.950179</td>\n",
       "    </tr>\n",
       "  </tbody>\n",
       "</table>\n",
       "</div>"
      ],
      "text/plain": [
       "                           Sold-To Party   New date  \\\n",
       "121            2000001    N.CT. AGENCIES 2019-09-18   \n",
       "11895   2003538    EVERGREEN ENTERPRISES 2019-09-17   \n",
       "11702   2003538    EVERGREEN ENTERPRISES 2019-07-20   \n",
       "2873   2000090    SRI SRINIVASA AGENCIES 2019-09-27   \n",
       "5511         2000125    SRI AMMAN AGENCY 2019-09-23   \n",
       "\n",
       "                                     Prod_Name  Bill. Qty  Count        Mean  \\\n",
       "121     KARTHIKA HERBAL POWDER 5.8 GM 2000 PCS     1300.0     31  232.322581   \n",
       "11895  MEERA ADVANCE HW POWDER 5.6 GM 1350 PCS      130.0     22   20.000000   \n",
       "11702      KARTHIKA HERBAL POWDER 50GM 180 PCS        7.0     31    1.903226   \n",
       "2873    KARTHIKA HERBAL POWDER CONT 180G 80PCS        8.0     21    1.714286   \n",
       "5511    KARTHIKA HERBAL POWDER 5.8 GM 2000 PCS       49.0     24   13.458333   \n",
       "\n",
       "           stddev  Median   z-score  \n",
       "121    233.914427   192.0  4.564393  \n",
       "11895   25.266202    15.0  4.353642  \n",
       "11702    1.247794     2.0  4.084629  \n",
       "2873     1.553797     1.0  4.045389  \n",
       "5511     8.997484    12.5  3.950179  "
      ]
     },
     "execution_count": 47,
     "metadata": {},
     "output_type": "execute_result"
    }
   ],
   "source": [
    "zscore_data.sort_values(by='z-score', ascending=False,inplace=True)\n",
    "zscore_data.head(5)"
   ]
  },
  {
   "cell_type": "code",
   "execution_count": 48,
   "metadata": {},
   "outputs": [
    {
     "data": {
      "text/html": [
       "<div>\n",
       "<style scoped>\n",
       "    .dataframe tbody tr th:only-of-type {\n",
       "        vertical-align: middle;\n",
       "    }\n",
       "\n",
       "    .dataframe tbody tr th {\n",
       "        vertical-align: top;\n",
       "    }\n",
       "\n",
       "    .dataframe thead th {\n",
       "        text-align: right;\n",
       "    }\n",
       "</style>\n",
       "<table border=\"1\" class=\"dataframe\">\n",
       "  <thead>\n",
       "    <tr style=\"text-align: right;\">\n",
       "      <th></th>\n",
       "      <th>Sold-To Party</th>\n",
       "      <th>New date</th>\n",
       "      <th>Prod_Name</th>\n",
       "      <th>Bill. Qty</th>\n",
       "      <th>Count</th>\n",
       "      <th>Mean</th>\n",
       "      <th>stddev</th>\n",
       "      <th>Median</th>\n",
       "      <th>z-score</th>\n",
       "    </tr>\n",
       "  </thead>\n",
       "  <tbody>\n",
       "    <tr>\n",
       "      <th>121</th>\n",
       "      <td>2000001    N.CT. AGENCIES</td>\n",
       "      <td>2019-09-18</td>\n",
       "      <td>KARTHIKA HERBAL POWDER 5.8 GM 2000 PCS</td>\n",
       "      <td>1300.0</td>\n",
       "      <td>31</td>\n",
       "      <td>232.322581</td>\n",
       "      <td>233.914427</td>\n",
       "      <td>192.0</td>\n",
       "      <td>4.564393</td>\n",
       "    </tr>\n",
       "    <tr>\n",
       "      <th>11895</th>\n",
       "      <td>2003538    EVERGREEN ENTERPRISES</td>\n",
       "      <td>2019-09-17</td>\n",
       "      <td>MEERA ADVANCE HW POWDER 5.6 GM 1350 PCS</td>\n",
       "      <td>130.0</td>\n",
       "      <td>22</td>\n",
       "      <td>20.000000</td>\n",
       "      <td>25.266202</td>\n",
       "      <td>15.0</td>\n",
       "      <td>4.353642</td>\n",
       "    </tr>\n",
       "    <tr>\n",
       "      <th>11702</th>\n",
       "      <td>2003538    EVERGREEN ENTERPRISES</td>\n",
       "      <td>2019-07-20</td>\n",
       "      <td>KARTHIKA HERBAL POWDER 50GM 180 PCS</td>\n",
       "      <td>7.0</td>\n",
       "      <td>31</td>\n",
       "      <td>1.903226</td>\n",
       "      <td>1.247794</td>\n",
       "      <td>2.0</td>\n",
       "      <td>4.084629</td>\n",
       "    </tr>\n",
       "    <tr>\n",
       "      <th>2873</th>\n",
       "      <td>2000090    SRI SRINIVASA AGENCIES</td>\n",
       "      <td>2019-09-27</td>\n",
       "      <td>KARTHIKA HERBAL POWDER CONT 180G 80PCS</td>\n",
       "      <td>8.0</td>\n",
       "      <td>21</td>\n",
       "      <td>1.714286</td>\n",
       "      <td>1.553797</td>\n",
       "      <td>1.0</td>\n",
       "      <td>4.045389</td>\n",
       "    </tr>\n",
       "    <tr>\n",
       "      <th>5511</th>\n",
       "      <td>2000125    SRI AMMAN AGENCY</td>\n",
       "      <td>2019-09-23</td>\n",
       "      <td>KARTHIKA HERBAL POWDER 5.8 GM 2000 PCS</td>\n",
       "      <td>49.0</td>\n",
       "      <td>24</td>\n",
       "      <td>13.458333</td>\n",
       "      <td>8.997484</td>\n",
       "      <td>12.5</td>\n",
       "      <td>3.950179</td>\n",
       "    </tr>\n",
       "  </tbody>\n",
       "</table>\n",
       "</div>"
      ],
      "text/plain": [
       "                           Sold-To Party   New date  \\\n",
       "121            2000001    N.CT. AGENCIES 2019-09-18   \n",
       "11895   2003538    EVERGREEN ENTERPRISES 2019-09-17   \n",
       "11702   2003538    EVERGREEN ENTERPRISES 2019-07-20   \n",
       "2873   2000090    SRI SRINIVASA AGENCIES 2019-09-27   \n",
       "5511         2000125    SRI AMMAN AGENCY 2019-09-23   \n",
       "\n",
       "                                     Prod_Name  Bill. Qty  Count        Mean  \\\n",
       "121     KARTHIKA HERBAL POWDER 5.8 GM 2000 PCS     1300.0     31  232.322581   \n",
       "11895  MEERA ADVANCE HW POWDER 5.6 GM 1350 PCS      130.0     22   20.000000   \n",
       "11702      KARTHIKA HERBAL POWDER 50GM 180 PCS        7.0     31    1.903226   \n",
       "2873    KARTHIKA HERBAL POWDER CONT 180G 80PCS        8.0     21    1.714286   \n",
       "5511    KARTHIKA HERBAL POWDER 5.8 GM 2000 PCS       49.0     24   13.458333   \n",
       "\n",
       "           stddev  Median   z-score  \n",
       "121    233.914427   192.0  4.564393  \n",
       "11895   25.266202    15.0  4.353642  \n",
       "11702    1.247794     2.0  4.084629  \n",
       "2873     1.553797     1.0  4.045389  \n",
       "5511     8.997484    12.5  3.950179  "
      ]
     },
     "execution_count": 48,
     "metadata": {},
     "output_type": "execute_result"
    }
   ],
   "source": [
    "zscore_data.head(5)"
   ]
  },
  {
   "cell_type": "markdown",
   "metadata": {},
   "source": [
    "# Mod Z Score calculation"
   ]
  },
  {
   "cell_type": "code",
   "execution_count": 49,
   "metadata": {},
   "outputs": [],
   "source": [
    "zscore_data['MAD Bill. Qty'] = np.absolute(zscore_data['Bill. Qty'] - zscore_data['Median'])"
   ]
  },
  {
   "cell_type": "code",
   "execution_count": 50,
   "metadata": {},
   "outputs": [],
   "source": [
    "zscore_data['Mod Z score'] = 0.6745 * zscore_data['MAD Bill. Qty']/zscore_data['Median']"
   ]
  },
  {
   "cell_type": "code",
   "execution_count": 51,
   "metadata": {},
   "outputs": [
    {
     "data": {
      "text/html": [
       "<div>\n",
       "<style scoped>\n",
       "    .dataframe tbody tr th:only-of-type {\n",
       "        vertical-align: middle;\n",
       "    }\n",
       "\n",
       "    .dataframe tbody tr th {\n",
       "        vertical-align: top;\n",
       "    }\n",
       "\n",
       "    .dataframe thead th {\n",
       "        text-align: right;\n",
       "    }\n",
       "</style>\n",
       "<table border=\"1\" class=\"dataframe\">\n",
       "  <thead>\n",
       "    <tr style=\"text-align: right;\">\n",
       "      <th></th>\n",
       "      <th>Sold-To Party</th>\n",
       "      <th>New date</th>\n",
       "      <th>Prod_Name</th>\n",
       "      <th>Bill. Qty</th>\n",
       "      <th>Count</th>\n",
       "      <th>Mean</th>\n",
       "      <th>stddev</th>\n",
       "      <th>Median</th>\n",
       "      <th>z-score</th>\n",
       "      <th>MAD Bill. Qty</th>\n",
       "      <th>Mod Z score</th>\n",
       "    </tr>\n",
       "  </thead>\n",
       "  <tbody>\n",
       "    <tr>\n",
       "      <th>12964</th>\n",
       "      <td>2007255    SRI NARASIMHA AGENCIES</td>\n",
       "      <td>2019-08-31</td>\n",
       "      <td>MEERA ADVANCE HW POWDER 120GM CONT 60 PC</td>\n",
       "      <td>2.0</td>\n",
       "      <td>2</td>\n",
       "      <td>1.000000</td>\n",
       "      <td>1.414214</td>\n",
       "      <td>1.0</td>\n",
       "      <td>0.707107</td>\n",
       "      <td>1.0</td>\n",
       "      <td>0.674500</td>\n",
       "    </tr>\n",
       "    <tr>\n",
       "      <th>12965</th>\n",
       "      <td>2007255    SRI NARASIMHA AGENCIES</td>\n",
       "      <td>2019-09-18</td>\n",
       "      <td>MEERA ADVANCE HW POWDER 120GM CONT 60 PC</td>\n",
       "      <td>0.0</td>\n",
       "      <td>2</td>\n",
       "      <td>1.000000</td>\n",
       "      <td>1.414214</td>\n",
       "      <td>1.0</td>\n",
       "      <td>-0.707107</td>\n",
       "      <td>1.0</td>\n",
       "      <td>0.674500</td>\n",
       "    </tr>\n",
       "    <tr>\n",
       "      <th>12956</th>\n",
       "      <td>2007226    ADITHYAA ENTERPRISES</td>\n",
       "      <td>2019-09-23</td>\n",
       "      <td>MEERA ADVANCE HW POWDER 80GM REFILL 50 P</td>\n",
       "      <td>5.0</td>\n",
       "      <td>4</td>\n",
       "      <td>2.500000</td>\n",
       "      <td>1.914854</td>\n",
       "      <td>2.0</td>\n",
       "      <td>1.305582</td>\n",
       "      <td>3.0</td>\n",
       "      <td>1.011750</td>\n",
       "    </tr>\n",
       "    <tr>\n",
       "      <th>12955</th>\n",
       "      <td>2007226    ADITHYAA ENTERPRISES</td>\n",
       "      <td>2019-09-17</td>\n",
       "      <td>MEERA ADVANCE HW POWDER 80GM REFILL 50 P</td>\n",
       "      <td>3.0</td>\n",
       "      <td>4</td>\n",
       "      <td>2.500000</td>\n",
       "      <td>1.914854</td>\n",
       "      <td>2.0</td>\n",
       "      <td>0.261116</td>\n",
       "      <td>1.0</td>\n",
       "      <td>0.337250</td>\n",
       "    </tr>\n",
       "    <tr>\n",
       "      <th>12953</th>\n",
       "      <td>2007226    ADITHYAA ENTERPRISES</td>\n",
       "      <td>2019-08-28</td>\n",
       "      <td>MEERA ADVANCE HW POWDER 80GM REFILL 50 P</td>\n",
       "      <td>1.0</td>\n",
       "      <td>4</td>\n",
       "      <td>2.500000</td>\n",
       "      <td>1.914854</td>\n",
       "      <td>2.0</td>\n",
       "      <td>-0.783349</td>\n",
       "      <td>1.0</td>\n",
       "      <td>0.337250</td>\n",
       "    </tr>\n",
       "    <tr>\n",
       "      <th>...</th>\n",
       "      <td>...</td>\n",
       "      <td>...</td>\n",
       "      <td>...</td>\n",
       "      <td>...</td>\n",
       "      <td>...</td>\n",
       "      <td>...</td>\n",
       "      <td>...</td>\n",
       "      <td>...</td>\n",
       "      <td>...</td>\n",
       "      <td>...</td>\n",
       "      <td>...</td>\n",
       "    </tr>\n",
       "    <tr>\n",
       "      <th>109</th>\n",
       "      <td>2000001    N.CT. AGENCIES</td>\n",
       "      <td>2019-08-14</td>\n",
       "      <td>KARTHIKA HERBAL POWDER 5.8 GM 2000 PCS</td>\n",
       "      <td>50.0</td>\n",
       "      <td>31</td>\n",
       "      <td>232.322581</td>\n",
       "      <td>233.914427</td>\n",
       "      <td>192.0</td>\n",
       "      <td>-0.779441</td>\n",
       "      <td>142.0</td>\n",
       "      <td>0.498849</td>\n",
       "    </tr>\n",
       "    <tr>\n",
       "      <th>100</th>\n",
       "      <td>2000001    N.CT. AGENCIES</td>\n",
       "      <td>2019-07-23</td>\n",
       "      <td>KARTHIKA HERBAL POWDER 5.8 GM 2000 PCS</td>\n",
       "      <td>40.0</td>\n",
       "      <td>31</td>\n",
       "      <td>232.322581</td>\n",
       "      <td>233.914427</td>\n",
       "      <td>192.0</td>\n",
       "      <td>-0.822192</td>\n",
       "      <td>152.0</td>\n",
       "      <td>0.533979</td>\n",
       "    </tr>\n",
       "    <tr>\n",
       "      <th>104</th>\n",
       "      <td>2000001    N.CT. AGENCIES</td>\n",
       "      <td>2019-08-05</td>\n",
       "      <td>KARTHIKA HERBAL POWDER 5.8 GM 2000 PCS</td>\n",
       "      <td>40.0</td>\n",
       "      <td>31</td>\n",
       "      <td>232.322581</td>\n",
       "      <td>233.914427</td>\n",
       "      <td>192.0</td>\n",
       "      <td>-0.822192</td>\n",
       "      <td>152.0</td>\n",
       "      <td>0.533979</td>\n",
       "    </tr>\n",
       "    <tr>\n",
       "      <th>120</th>\n",
       "      <td>2000001    N.CT. AGENCIES</td>\n",
       "      <td>2019-09-10</td>\n",
       "      <td>KARTHIKA HERBAL POWDER 5.8 GM 2000 PCS</td>\n",
       "      <td>30.0</td>\n",
       "      <td>31</td>\n",
       "      <td>232.322581</td>\n",
       "      <td>233.914427</td>\n",
       "      <td>192.0</td>\n",
       "      <td>-0.864943</td>\n",
       "      <td>162.0</td>\n",
       "      <td>0.569109</td>\n",
       "    </tr>\n",
       "    <tr>\n",
       "      <th>93</th>\n",
       "      <td>2000001    N.CT. AGENCIES</td>\n",
       "      <td>2019-07-10</td>\n",
       "      <td>KARTHIKA HERBAL POWDER 5.8 GM 2000 PCS</td>\n",
       "      <td>30.0</td>\n",
       "      <td>31</td>\n",
       "      <td>232.322581</td>\n",
       "      <td>233.914427</td>\n",
       "      <td>192.0</td>\n",
       "      <td>-0.864943</td>\n",
       "      <td>162.0</td>\n",
       "      <td>0.569109</td>\n",
       "    </tr>\n",
       "  </tbody>\n",
       "</table>\n",
       "<p>12966 rows × 11 columns</p>\n",
       "</div>"
      ],
      "text/plain": [
       "                           Sold-To Party   New date  \\\n",
       "12964  2007255    SRI NARASIMHA AGENCIES 2019-08-31   \n",
       "12965  2007255    SRI NARASIMHA AGENCIES 2019-09-18   \n",
       "12956    2007226    ADITHYAA ENTERPRISES 2019-09-23   \n",
       "12955    2007226    ADITHYAA ENTERPRISES 2019-09-17   \n",
       "12953    2007226    ADITHYAA ENTERPRISES 2019-08-28   \n",
       "...                                  ...        ...   \n",
       "109            2000001    N.CT. AGENCIES 2019-08-14   \n",
       "100            2000001    N.CT. AGENCIES 2019-07-23   \n",
       "104            2000001    N.CT. AGENCIES 2019-08-05   \n",
       "120            2000001    N.CT. AGENCIES 2019-09-10   \n",
       "93             2000001    N.CT. AGENCIES 2019-07-10   \n",
       "\n",
       "                                      Prod_Name  Bill. Qty  Count        Mean  \\\n",
       "12964  MEERA ADVANCE HW POWDER 120GM CONT 60 PC        2.0      2    1.000000   \n",
       "12965  MEERA ADVANCE HW POWDER 120GM CONT 60 PC        0.0      2    1.000000   \n",
       "12956  MEERA ADVANCE HW POWDER 80GM REFILL 50 P        5.0      4    2.500000   \n",
       "12955  MEERA ADVANCE HW POWDER 80GM REFILL 50 P        3.0      4    2.500000   \n",
       "12953  MEERA ADVANCE HW POWDER 80GM REFILL 50 P        1.0      4    2.500000   \n",
       "...                                         ...        ...    ...         ...   \n",
       "109      KARTHIKA HERBAL POWDER 5.8 GM 2000 PCS       50.0     31  232.322581   \n",
       "100      KARTHIKA HERBAL POWDER 5.8 GM 2000 PCS       40.0     31  232.322581   \n",
       "104      KARTHIKA HERBAL POWDER 5.8 GM 2000 PCS       40.0     31  232.322581   \n",
       "120      KARTHIKA HERBAL POWDER 5.8 GM 2000 PCS       30.0     31  232.322581   \n",
       "93       KARTHIKA HERBAL POWDER 5.8 GM 2000 PCS       30.0     31  232.322581   \n",
       "\n",
       "           stddev  Median   z-score  MAD Bill. Qty  Mod Z score  \n",
       "12964    1.414214     1.0  0.707107            1.0     0.674500  \n",
       "12965    1.414214     1.0 -0.707107            1.0     0.674500  \n",
       "12956    1.914854     2.0  1.305582            3.0     1.011750  \n",
       "12955    1.914854     2.0  0.261116            1.0     0.337250  \n",
       "12953    1.914854     2.0 -0.783349            1.0     0.337250  \n",
       "...           ...     ...       ...            ...          ...  \n",
       "109    233.914427   192.0 -0.779441          142.0     0.498849  \n",
       "100    233.914427   192.0 -0.822192          152.0     0.533979  \n",
       "104    233.914427   192.0 -0.822192          152.0     0.533979  \n",
       "120    233.914427   192.0 -0.864943          162.0     0.569109  \n",
       "93     233.914427   192.0 -0.864943          162.0     0.569109  \n",
       "\n",
       "[12966 rows x 11 columns]"
      ]
     },
     "execution_count": 51,
     "metadata": {},
     "output_type": "execute_result"
    }
   ],
   "source": [
    "zscore_data.sort_values(by=['Sold-To Party','Prod_Name'], ascending=False,inplace=True)\n",
    "zscore_data"
   ]
  },
  {
   "cell_type": "code",
   "execution_count": 54,
   "metadata": {},
   "outputs": [],
   "source": [
    "zscore_data[\"z-score\"].fillna(0,inplace=True)"
   ]
  },
  {
   "cell_type": "code",
   "execution_count": 56,
   "metadata": {},
   "outputs": [],
   "source": [
    "zscore_data.to_excel(r\"D:\\Analytics\\Undercutting\\Sample data\\Dashboard\\Z-score data.xlsx\",index = False)"
   ]
  },
  {
   "cell_type": "code",
   "execution_count": null,
   "metadata": {},
   "outputs": [],
   "source": []
  }
 ],
 "metadata": {
  "kernelspec": {
   "display_name": "Python 3",
   "language": "python",
   "name": "python3"
  },
  "language_info": {
   "codemirror_mode": {
    "name": "ipython",
    "version": 3
   },
   "file_extension": ".py",
   "mimetype": "text/x-python",
   "name": "python",
   "nbconvert_exporter": "python",
   "pygments_lexer": "ipython3",
   "version": "3.7.5"
  }
 },
 "nbformat": 4,
 "nbformat_minor": 4
}
