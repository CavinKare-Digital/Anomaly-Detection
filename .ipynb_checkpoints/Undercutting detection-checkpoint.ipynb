{
 "cells": [
  {
   "cell_type": "markdown",
   "metadata": {},
   "source": [
    "# Anomaly Detection"
   ]
  },
  {
   "cell_type": "code",
   "execution_count": 1,
   "metadata": {},
   "outputs": [],
   "source": [
    "import  pandas as pd\n",
    "import numpy as np\n",
    "import scipy.stats as ss"
   ]
  },
  {
   "cell_type": "code",
   "execution_count": 23,
   "metadata": {},
   "outputs": [],
   "source": [
    "pd.options.mode.chained_assignment = None"
   ]
  },
  {
   "cell_type": "code",
   "execution_count": 64,
   "metadata": {},
   "outputs": [],
   "source": [
    "data = pd.read_excel(r\"D:\\Analytics\\Undercutting\\Sample data\\Anomaly detection 2.xlsx\")"
   ]
  },
  {
   "cell_type": "code",
   "execution_count": 65,
   "metadata": {},
   "outputs": [
    {
     "data": {
      "text/html": [
       "<div>\n",
       "<style scoped>\n",
       "    .dataframe tbody tr th:only-of-type {\n",
       "        vertical-align: middle;\n",
       "    }\n",
       "\n",
       "    .dataframe tbody tr th {\n",
       "        vertical-align: top;\n",
       "    }\n",
       "\n",
       "    .dataframe thead th {\n",
       "        text-align: right;\n",
       "    }\n",
       "</style>\n",
       "<table border=\"1\" class=\"dataframe\">\n",
       "  <thead>\n",
       "    <tr style=\"text-align: right;\">\n",
       "      <th></th>\n",
       "      <th>Distribution Channel</th>\n",
       "      <th>Division</th>\n",
       "      <th>Sold-To Party</th>\n",
       "      <th>Customer Group 3</th>\n",
       "      <th>Price List Type</th>\n",
       "      <th>Region Order</th>\n",
       "      <th>Plant</th>\n",
       "      <th>Material</th>\n",
       "      <th>Date</th>\n",
       "      <th>New date</th>\n",
       "      <th>...</th>\n",
       "      <th>CredMemQty</th>\n",
       "      <th>CredMemQty.1</th>\n",
       "      <th>Gross</th>\n",
       "      <th>Gross.1</th>\n",
       "      <th>Sales cost</th>\n",
       "      <th>Net</th>\n",
       "      <th>Net.1</th>\n",
       "      <th>RtnsQty</th>\n",
       "      <th>RtnsQty.1</th>\n",
       "      <th>Rtns (cst)</th>\n",
       "    </tr>\n",
       "  </thead>\n",
       "  <tbody>\n",
       "    <tr>\n",
       "      <th>0</th>\n",
       "      <td>GT General Trade</td>\n",
       "      <td>PC Personal Care</td>\n",
       "      <td>2000001    N.CT. AGENCIES</td>\n",
       "      <td>006 GT</td>\n",
       "      <td>02 Super Stockist</td>\n",
       "      <td>TN  TN</td>\n",
       "      <td>TND1 CavinKare Pvt. Ltd, CHE DEPOT</td>\n",
       "      <td>KH0050HWP02R       KARTHIKA HERBAL POWDER 50GM...</td>\n",
       "      <td>22.04.2019</td>\n",
       "      <td>2019-04-22</td>\n",
       "      <td>...</td>\n",
       "      <td>0.0</td>\n",
       "      <td>CV</td>\n",
       "      <td>21.2</td>\n",
       "      <td>KG</td>\n",
       "      <td>1406.63</td>\n",
       "      <td>18.0</td>\n",
       "      <td>KG</td>\n",
       "      <td>0.0</td>\n",
       "      <td>CV</td>\n",
       "      <td>0.0</td>\n",
       "    </tr>\n",
       "    <tr>\n",
       "      <th>1</th>\n",
       "      <td>GT General Trade</td>\n",
       "      <td>PC Personal Care</td>\n",
       "      <td>2000001    N.CT. AGENCIES</td>\n",
       "      <td>006 GT</td>\n",
       "      <td>02 Super Stockist</td>\n",
       "      <td>TN  TN</td>\n",
       "      <td>TND1 CavinKare Pvt. Ltd, CHE DEPOT</td>\n",
       "      <td>KH0050HWP02R       KARTHIKA HERBAL POWDER 50GM...</td>\n",
       "      <td>07.05.2019</td>\n",
       "      <td>2019-05-07</td>\n",
       "      <td>...</td>\n",
       "      <td>0.0</td>\n",
       "      <td>CV</td>\n",
       "      <td>21.2</td>\n",
       "      <td>KG</td>\n",
       "      <td>1422.78</td>\n",
       "      <td>18.0</td>\n",
       "      <td>KG</td>\n",
       "      <td>0.0</td>\n",
       "      <td>CV</td>\n",
       "      <td>0.0</td>\n",
       "    </tr>\n",
       "  </tbody>\n",
       "</table>\n",
       "<p>2 rows × 28 columns</p>\n",
       "</div>"
      ],
      "text/plain": [
       "  Distribution Channel          Division              Sold-To Party  \\\n",
       "0     GT General Trade  PC Personal Care  2000001    N.CT. AGENCIES   \n",
       "1     GT General Trade  PC Personal Care  2000001    N.CT. AGENCIES   \n",
       "\n",
       "  Customer Group 3    Price List Type Region Order  \\\n",
       "0           006 GT  02 Super Stockist       TN  TN   \n",
       "1           006 GT  02 Super Stockist       TN  TN   \n",
       "\n",
       "                                Plant  \\\n",
       "0  TND1 CavinKare Pvt. Ltd, CHE DEPOT   \n",
       "1  TND1 CavinKare Pvt. Ltd, CHE DEPOT   \n",
       "\n",
       "                                            Material        Date   New date  \\\n",
       "0  KH0050HWP02R       KARTHIKA HERBAL POWDER 50GM...  22.04.2019 2019-04-22   \n",
       "1  KH0050HWP02R       KARTHIKA HERBAL POWDER 50GM...  07.05.2019 2019-05-07   \n",
       "\n",
       "   ...  CredMemQty  CredMemQty.1  Gross  Gross.1  Sales cost   Net  Net.1  \\\n",
       "0  ...         0.0            CV   21.2       KG     1406.63  18.0     KG   \n",
       "1  ...         0.0            CV   21.2       KG     1422.78  18.0     KG   \n",
       "\n",
       "  RtnsQty  RtnsQty.1 Rtns (cst)  \n",
       "0     0.0         CV        0.0  \n",
       "1     0.0         CV        0.0  \n",
       "\n",
       "[2 rows x 28 columns]"
      ]
     },
     "execution_count": 65,
     "metadata": {},
     "output_type": "execute_result"
    }
   ],
   "source": [
    "data.head(2)"
   ]
  },
  {
   "cell_type": "code",
   "execution_count": 66,
   "metadata": {},
   "outputs": [
    {
     "data": {
      "text/plain": [
       "Index(['Distribution Channel', 'Division', 'Sold-To Party', 'Customer Group 3',\n",
       "       'Price List Type', 'Region Order', 'Plant', 'Material', 'Date',\n",
       "       'New date', 'Sales', 'Returns', 'Cred.Memos', 'CM: net 1', 'Net Value',\n",
       "       'Tax', 'Bill. Qty', 'Bill. Qty.1', 'CredMemQty', 'CredMemQty.1',\n",
       "       'Gross', 'Gross.1', 'Sales cost', 'Net', 'Net.1', 'RtnsQty',\n",
       "       'RtnsQty.1', 'Rtns (cst)'],\n",
       "      dtype='object')"
      ]
     },
     "execution_count": 66,
     "metadata": {},
     "output_type": "execute_result"
    }
   ],
   "source": [
    "data.columns"
   ]
  },
  {
   "cell_type": "code",
   "execution_count": 67,
   "metadata": {},
   "outputs": [],
   "source": [
    "temp                   =  data[\"Material\"].str.split(\"       \",expand=True)\n",
    "data[\"Prod_Code\"]      = temp[0]\n",
    "data[\"Prod_Name\"]      = temp[1]\n",
    "data[\"Date\"]           = data[\"Date\"].astype(\"datetime64[ns]\")\n",
    "data[\"Month\"]          = data.Date.dt.strftime('%B')"
   ]
  },
  {
   "cell_type": "code",
   "execution_count": 120,
   "metadata": {},
   "outputs": [],
   "source": [
    "rmv_single_rows = data.groupby([\"Sold-To Party\",\"Prod_Name\"]).agg(Count = (\"Prod_Name\",\"count\")).reset_index()"
   ]
  },
  {
   "cell_type": "code",
   "execution_count": 124,
   "metadata": {},
   "outputs": [
    {
     "data": {
      "text/html": [
       "<div>\n",
       "<style scoped>\n",
       "    .dataframe tbody tr th:only-of-type {\n",
       "        vertical-align: middle;\n",
       "    }\n",
       "\n",
       "    .dataframe tbody tr th {\n",
       "        vertical-align: top;\n",
       "    }\n",
       "\n",
       "    .dataframe thead th {\n",
       "        text-align: right;\n",
       "    }\n",
       "</style>\n",
       "<table border=\"1\" class=\"dataframe\">\n",
       "  <thead>\n",
       "    <tr style=\"text-align: right;\">\n",
       "      <th></th>\n",
       "      <th>Sold-To Party</th>\n",
       "      <th>Prod_Name</th>\n",
       "      <th>Count</th>\n",
       "    </tr>\n",
       "  </thead>\n",
       "  <tbody>\n",
       "    <tr>\n",
       "      <th>116</th>\n",
       "      <td>2000013    SRI VARI ENTERPRISES</td>\n",
       "      <td>MEERA HERBAL POWDER 120GM CONT 60 PCS</td>\n",
       "      <td>1</td>\n",
       "    </tr>\n",
       "    <tr>\n",
       "      <th>137</th>\n",
       "      <td>2000015    IC TRADERS</td>\n",
       "      <td>MEERA HERBAL POWDER 40GM REFILL 100PCS</td>\n",
       "      <td>1</td>\n",
       "    </tr>\n",
       "    <tr>\n",
       "      <th>143</th>\n",
       "      <td>2000016    SELVAMUTHU ENTERPRISES</td>\n",
       "      <td>MEERA ADVANCE HW POWDER 120GM CONT 60 PC</td>\n",
       "      <td>1</td>\n",
       "    </tr>\n",
       "    <tr>\n",
       "      <th>144</th>\n",
       "      <td>2000016    SELVAMUTHU ENTERPRISES</td>\n",
       "      <td>MEERA ADVANCE HW POWDER 5.6 GM 1350 PCS</td>\n",
       "      <td>1</td>\n",
       "    </tr>\n",
       "    <tr>\n",
       "      <th>179</th>\n",
       "      <td>2000058    SELL WELL MARKETING</td>\n",
       "      <td>KARTHIKA HERBAL POWDER CONT 180G 80PCS</td>\n",
       "      <td>1</td>\n",
       "    </tr>\n",
       "    <tr>\n",
       "      <th>...</th>\n",
       "      <td>...</td>\n",
       "      <td>...</td>\n",
       "      <td>...</td>\n",
       "    </tr>\n",
       "    <tr>\n",
       "      <th>2224</th>\n",
       "      <td>2007340    SVP AGENCIES</td>\n",
       "      <td>MEERA ADVANCE HW POWDER 5.6 GM 1350 PCS</td>\n",
       "      <td>1</td>\n",
       "    </tr>\n",
       "    <tr>\n",
       "      <th>2225</th>\n",
       "      <td>2007340    SVP AGENCIES</td>\n",
       "      <td>MEERA ADVANCE HW POWDER 80GM REFILL 50 P</td>\n",
       "      <td>1</td>\n",
       "    </tr>\n",
       "    <tr>\n",
       "      <th>2226</th>\n",
       "      <td>2007345    MAHESH AGENCIES</td>\n",
       "      <td>KARTHIKA HERBAL POWDER 5.8 GM 2000 PCS</td>\n",
       "      <td>1</td>\n",
       "    </tr>\n",
       "    <tr>\n",
       "      <th>2227</th>\n",
       "      <td>2007345    MAHESH AGENCIES</td>\n",
       "      <td>KARTHIKA HERBAL POWDER CONT 180G 80PCS</td>\n",
       "      <td>1</td>\n",
       "    </tr>\n",
       "    <tr>\n",
       "      <th>2228</th>\n",
       "      <td>2007385    RATHNAM ENTERPRISES</td>\n",
       "      <td>MEERA HERBAL POWDER 40GM REFILL 100PCS</td>\n",
       "      <td>1</td>\n",
       "    </tr>\n",
       "  </tbody>\n",
       "</table>\n",
       "<p>387 rows × 3 columns</p>\n",
       "</div>"
      ],
      "text/plain": [
       "                          Sold-To Party  \\\n",
       "116     2000013    SRI VARI ENTERPRISES   \n",
       "137               2000015    IC TRADERS   \n",
       "143   2000016    SELVAMUTHU ENTERPRISES   \n",
       "144   2000016    SELVAMUTHU ENTERPRISES   \n",
       "179      2000058    SELL WELL MARKETING   \n",
       "...                                 ...   \n",
       "2224            2007340    SVP AGENCIES   \n",
       "2225            2007340    SVP AGENCIES   \n",
       "2226         2007345    MAHESH AGENCIES   \n",
       "2227         2007345    MAHESH AGENCIES   \n",
       "2228     2007385    RATHNAM ENTERPRISES   \n",
       "\n",
       "                                     Prod_Name  Count  \n",
       "116      MEERA HERBAL POWDER 120GM CONT 60 PCS      1  \n",
       "137     MEERA HERBAL POWDER 40GM REFILL 100PCS      1  \n",
       "143   MEERA ADVANCE HW POWDER 120GM CONT 60 PC      1  \n",
       "144    MEERA ADVANCE HW POWDER 5.6 GM 1350 PCS      1  \n",
       "179     KARTHIKA HERBAL POWDER CONT 180G 80PCS      1  \n",
       "...                                        ...    ...  \n",
       "2224   MEERA ADVANCE HW POWDER 5.6 GM 1350 PCS      1  \n",
       "2225  MEERA ADVANCE HW POWDER 80GM REFILL 50 P      1  \n",
       "2226    KARTHIKA HERBAL POWDER 5.8 GM 2000 PCS      1  \n",
       "2227    KARTHIKA HERBAL POWDER CONT 180G 80PCS      1  \n",
       "2228    MEERA HERBAL POWDER 40GM REFILL 100PCS      1  \n",
       "\n",
       "[387 rows x 3 columns]"
      ]
     },
     "execution_count": 124,
     "metadata": {},
     "output_type": "execute_result"
    }
   ],
   "source": [
    "rmv_single_rows[rmv_single_rows[\"Count\"] == 1]"
   ]
  },
  {
   "cell_type": "code",
   "execution_count": 76,
   "metadata": {},
   "outputs": [],
   "source": [
    "dist_data = data[[\"Sold-To Party\",\"Month\",\"Prod_Name\",\"Bill. Qty\"]]"
   ]
  },
  {
   "cell_type": "code",
   "execution_count": 77,
   "metadata": {},
   "outputs": [
    {
     "data": {
      "text/html": [
       "<div>\n",
       "<style scoped>\n",
       "    .dataframe tbody tr th:only-of-type {\n",
       "        vertical-align: middle;\n",
       "    }\n",
       "\n",
       "    .dataframe tbody tr th {\n",
       "        vertical-align: top;\n",
       "    }\n",
       "\n",
       "    .dataframe thead th {\n",
       "        text-align: right;\n",
       "    }\n",
       "</style>\n",
       "<table border=\"1\" class=\"dataframe\">\n",
       "  <thead>\n",
       "    <tr style=\"text-align: right;\">\n",
       "      <th></th>\n",
       "      <th>Sold-To Party</th>\n",
       "      <th>Month</th>\n",
       "      <th>Prod_Code</th>\n",
       "      <th>Prod_Name</th>\n",
       "      <th>Bill. Qty</th>\n",
       "    </tr>\n",
       "  </thead>\n",
       "  <tbody>\n",
       "    <tr>\n",
       "      <th>0</th>\n",
       "      <td>2000001    N.CT. AGENCIES</td>\n",
       "      <td>April</td>\n",
       "      <td>KH0050HWP02R</td>\n",
       "      <td>KARTHIKA HERBAL POWDER 50GM 180 PCS</td>\n",
       "      <td>2.0</td>\n",
       "    </tr>\n",
       "    <tr>\n",
       "      <th>1</th>\n",
       "      <td>2000001    N.CT. AGENCIES</td>\n",
       "      <td>July</td>\n",
       "      <td>KH0050HWP02R</td>\n",
       "      <td>KARTHIKA HERBAL POWDER 50GM 180 PCS</td>\n",
       "      <td>2.0</td>\n",
       "    </tr>\n",
       "  </tbody>\n",
       "</table>\n",
       "</div>"
      ],
      "text/plain": [
       "               Sold-To Party  Month     Prod_Code  \\\n",
       "0  2000001    N.CT. AGENCIES  April  KH0050HWP02R   \n",
       "1  2000001    N.CT. AGENCIES   July  KH0050HWP02R   \n",
       "\n",
       "                             Prod_Name  Bill. Qty  \n",
       "0  KARTHIKA HERBAL POWDER 50GM 180 PCS        2.0  \n",
       "1  KARTHIKA HERBAL POWDER 50GM 180 PCS        2.0  "
      ]
     },
     "execution_count": 77,
     "metadata": {},
     "output_type": "execute_result"
    }
   ],
   "source": [
    "dist_data.head(2)"
   ]
  },
  {
   "cell_type": "code",
   "execution_count": 78,
   "metadata": {},
   "outputs": [],
   "source": [
    "dist_data_groupby = dist_data.groupby([\"Sold-To Party\",\"Month\",\"Prod_Name\"]).agg(Sum_Of_Bill_Qty = (\"Bill. Qty\",\"sum\")).reset_index()"
   ]
  },
  {
   "cell_type": "code",
   "execution_count": 92,
   "metadata": {},
   "outputs": [
    {
     "data": {
      "text/plain": [
       "(8165, 4)"
      ]
     },
     "execution_count": 92,
     "metadata": {},
     "output_type": "execute_result"
    }
   ],
   "source": [
    "dist_data_groupby.shape"
   ]
  },
  {
   "cell_type": "code",
   "execution_count": 80,
   "metadata": {},
   "outputs": [
    {
     "data": {
      "text/html": [
       "<div>\n",
       "<style scoped>\n",
       "    .dataframe tbody tr th:only-of-type {\n",
       "        vertical-align: middle;\n",
       "    }\n",
       "\n",
       "    .dataframe tbody tr th {\n",
       "        vertical-align: top;\n",
       "    }\n",
       "\n",
       "    .dataframe thead th {\n",
       "        text-align: right;\n",
       "    }\n",
       "</style>\n",
       "<table border=\"1\" class=\"dataframe\">\n",
       "  <thead>\n",
       "    <tr style=\"text-align: right;\">\n",
       "      <th></th>\n",
       "      <th>Sold-To Party</th>\n",
       "      <th>Month</th>\n",
       "      <th>Prod_Name</th>\n",
       "      <th>Sum_Of_Bill_Qty</th>\n",
       "    </tr>\n",
       "  </thead>\n",
       "  <tbody>\n",
       "    <tr>\n",
       "      <th>0</th>\n",
       "      <td>2000001    N.CT. AGENCIES</td>\n",
       "      <td>April</td>\n",
       "      <td>KARTHIKA HERBAL POWDER 5.8 GM 2000 PCS</td>\n",
       "      <td>1108.0</td>\n",
       "    </tr>\n",
       "    <tr>\n",
       "      <th>1</th>\n",
       "      <td>2000001    N.CT. AGENCIES</td>\n",
       "      <td>April</td>\n",
       "      <td>KARTHIKA HERBAL POWDER 50GM 180 PCS</td>\n",
       "      <td>2.0</td>\n",
       "    </tr>\n",
       "    <tr>\n",
       "      <th>2</th>\n",
       "      <td>2000001    N.CT. AGENCIES</td>\n",
       "      <td>April</td>\n",
       "      <td>KARTHIKA HERBAL POWDER CONT 180G 80PCS</td>\n",
       "      <td>16.0</td>\n",
       "    </tr>\n",
       "    <tr>\n",
       "      <th>3</th>\n",
       "      <td>2000001    N.CT. AGENCIES</td>\n",
       "      <td>April</td>\n",
       "      <td>MEERA HERBAL POWDER 120GM CONT 60 PCS</td>\n",
       "      <td>55.0</td>\n",
       "    </tr>\n",
       "    <tr>\n",
       "      <th>4</th>\n",
       "      <td>2000001    N.CT. AGENCIES</td>\n",
       "      <td>April</td>\n",
       "      <td>MEERA HERBAL POWDER 40GM REFILL 100PCS</td>\n",
       "      <td>11.0</td>\n",
       "    </tr>\n",
       "    <tr>\n",
       "      <th>5</th>\n",
       "      <td>2000001    N.CT. AGENCIES</td>\n",
       "      <td>April</td>\n",
       "      <td>MEERA HERBAL POWDER 5.6 GM 1350 PCS</td>\n",
       "      <td>318.0</td>\n",
       "    </tr>\n",
       "    <tr>\n",
       "      <th>6</th>\n",
       "      <td>2000001    N.CT. AGENCIES</td>\n",
       "      <td>April</td>\n",
       "      <td>MEERA HERBAL POWDER 80GM REFILL 50 PCS</td>\n",
       "      <td>21.0</td>\n",
       "    </tr>\n",
       "    <tr>\n",
       "      <th>7</th>\n",
       "      <td>2000001    N.CT. AGENCIES</td>\n",
       "      <td>August</td>\n",
       "      <td>KARTHIKA HERBAL POWDER 5.8 GM 2000 PCS</td>\n",
       "      <td>770.0</td>\n",
       "    </tr>\n",
       "    <tr>\n",
       "      <th>8</th>\n",
       "      <td>2000001    N.CT. AGENCIES</td>\n",
       "      <td>August</td>\n",
       "      <td>KARTHIKA HERBAL POWDER 50GM 180 PCS</td>\n",
       "      <td>2.0</td>\n",
       "    </tr>\n",
       "    <tr>\n",
       "      <th>9</th>\n",
       "      <td>2000001    N.CT. AGENCIES</td>\n",
       "      <td>August</td>\n",
       "      <td>KARTHIKA HERBAL POWDER CONT 180G 80PCS</td>\n",
       "      <td>6.0</td>\n",
       "    </tr>\n",
       "  </tbody>\n",
       "</table>\n",
       "</div>"
      ],
      "text/plain": [
       "               Sold-To Party   Month                               Prod_Name  \\\n",
       "0  2000001    N.CT. AGENCIES   April  KARTHIKA HERBAL POWDER 5.8 GM 2000 PCS   \n",
       "1  2000001    N.CT. AGENCIES   April     KARTHIKA HERBAL POWDER 50GM 180 PCS   \n",
       "2  2000001    N.CT. AGENCIES   April  KARTHIKA HERBAL POWDER CONT 180G 80PCS   \n",
       "3  2000001    N.CT. AGENCIES   April   MEERA HERBAL POWDER 120GM CONT 60 PCS   \n",
       "4  2000001    N.CT. AGENCIES   April  MEERA HERBAL POWDER 40GM REFILL 100PCS   \n",
       "5  2000001    N.CT. AGENCIES   April     MEERA HERBAL POWDER 5.6 GM 1350 PCS   \n",
       "6  2000001    N.CT. AGENCIES   April  MEERA HERBAL POWDER 80GM REFILL 50 PCS   \n",
       "7  2000001    N.CT. AGENCIES  August  KARTHIKA HERBAL POWDER 5.8 GM 2000 PCS   \n",
       "8  2000001    N.CT. AGENCIES  August     KARTHIKA HERBAL POWDER 50GM 180 PCS   \n",
       "9  2000001    N.CT. AGENCIES  August  KARTHIKA HERBAL POWDER CONT 180G 80PCS   \n",
       "\n",
       "   Sum_Of_Bill_Qty  \n",
       "0           1108.0  \n",
       "1              2.0  \n",
       "2             16.0  \n",
       "3             55.0  \n",
       "4             11.0  \n",
       "5            318.0  \n",
       "6             21.0  \n",
       "7            770.0  \n",
       "8              2.0  \n",
       "9              6.0  "
      ]
     },
     "execution_count": 80,
     "metadata": {},
     "output_type": "execute_result"
    }
   ],
   "source": [
    "dist_data_groupby.head(10)"
   ]
  },
  {
   "cell_type": "code",
   "execution_count": 84,
   "metadata": {},
   "outputs": [],
   "source": [
    "# dist_data_groupby.to_csv(r\"D:\\Analytics\\Undercutting\\Sample data\\Outfiles\\dist_data_groupby.csv\",index = False)"
   ]
  },
  {
   "cell_type": "code",
   "execution_count": 89,
   "metadata": {},
   "outputs": [],
   "source": [
    "dist_data_groupby1 = dist_data_groupby.groupby([\"Sold-To Party\",\"Prod_Name\"])\n",
    "                                      .agg(Mean = (\"Sum_Of_Bill_Qty\",\"mean\"), \n",
    "                                           stddev = (\"Sum_Of_Bill_Qty\",\"std\"))\n",
    "                                      .reset_index()"
   ]
  },
  {
   "cell_type": "code",
   "execution_count": 93,
   "metadata": {},
   "outputs": [
    {
     "data": {
      "text/html": [
       "<div>\n",
       "<style scoped>\n",
       "    .dataframe tbody tr th:only-of-type {\n",
       "        vertical-align: middle;\n",
       "    }\n",
       "\n",
       "    .dataframe tbody tr th {\n",
       "        vertical-align: top;\n",
       "    }\n",
       "\n",
       "    .dataframe thead th {\n",
       "        text-align: right;\n",
       "    }\n",
       "</style>\n",
       "<table border=\"1\" class=\"dataframe\">\n",
       "  <thead>\n",
       "    <tr style=\"text-align: right;\">\n",
       "      <th></th>\n",
       "      <th>Sold-To Party</th>\n",
       "      <th>Prod_Name</th>\n",
       "      <th>Mean</th>\n",
       "      <th>stddev</th>\n",
       "    </tr>\n",
       "  </thead>\n",
       "  <tbody>\n",
       "    <tr>\n",
       "      <th>2219</th>\n",
       "      <td>2007226    ADITHYAA ENTERPRISES</td>\n",
       "      <td>MEERA ADVANCE HW POWDER 5.6 GM 1350 PCS</td>\n",
       "      <td>11.000000</td>\n",
       "      <td>10.440307</td>\n",
       "    </tr>\n",
       "    <tr>\n",
       "      <th>2220</th>\n",
       "      <td>2007226    ADITHYAA ENTERPRISES</td>\n",
       "      <td>MEERA ADVANCE HW POWDER 80GM REFILL 50 P</td>\n",
       "      <td>3.333333</td>\n",
       "      <td>4.041452</td>\n",
       "    </tr>\n",
       "    <tr>\n",
       "      <th>2221</th>\n",
       "      <td>2007255    SRI NARASIMHA AGENCIES</td>\n",
       "      <td>MEERA ADVANCE HW POWDER 120GM CONT 60 PC</td>\n",
       "      <td>1.000000</td>\n",
       "      <td>1.414214</td>\n",
       "    </tr>\n",
       "    <tr>\n",
       "      <th>2222</th>\n",
       "      <td>2007340    SVP AGENCIES</td>\n",
       "      <td>KARTHIKA HERBAL POWDER 5.8 GM 2000 PCS</td>\n",
       "      <td>50.000000</td>\n",
       "      <td>NaN</td>\n",
       "    </tr>\n",
       "    <tr>\n",
       "      <th>2223</th>\n",
       "      <td>2007340    SVP AGENCIES</td>\n",
       "      <td>KARTHIKA HERBAL POWDER 50GM 180 PCS</td>\n",
       "      <td>4.000000</td>\n",
       "      <td>NaN</td>\n",
       "    </tr>\n",
       "    <tr>\n",
       "      <th>2224</th>\n",
       "      <td>2007340    SVP AGENCIES</td>\n",
       "      <td>MEERA ADVANCE HW POWDER 5.6 GM 1350 PCS</td>\n",
       "      <td>30.000000</td>\n",
       "      <td>NaN</td>\n",
       "    </tr>\n",
       "    <tr>\n",
       "      <th>2225</th>\n",
       "      <td>2007340    SVP AGENCIES</td>\n",
       "      <td>MEERA ADVANCE HW POWDER 80GM REFILL 50 P</td>\n",
       "      <td>8.000000</td>\n",
       "      <td>NaN</td>\n",
       "    </tr>\n",
       "    <tr>\n",
       "      <th>2226</th>\n",
       "      <td>2007345    MAHESH AGENCIES</td>\n",
       "      <td>KARTHIKA HERBAL POWDER 5.8 GM 2000 PCS</td>\n",
       "      <td>1.000000</td>\n",
       "      <td>NaN</td>\n",
       "    </tr>\n",
       "    <tr>\n",
       "      <th>2227</th>\n",
       "      <td>2007345    MAHESH AGENCIES</td>\n",
       "      <td>KARTHIKA HERBAL POWDER CONT 180G 80PCS</td>\n",
       "      <td>1.000000</td>\n",
       "      <td>NaN</td>\n",
       "    </tr>\n",
       "    <tr>\n",
       "      <th>2228</th>\n",
       "      <td>2007385    RATHNAM ENTERPRISES</td>\n",
       "      <td>MEERA HERBAL POWDER 40GM REFILL 100PCS</td>\n",
       "      <td>1.000000</td>\n",
       "      <td>NaN</td>\n",
       "    </tr>\n",
       "  </tbody>\n",
       "</table>\n",
       "</div>"
      ],
      "text/plain": [
       "                          Sold-To Party  \\\n",
       "2219    2007226    ADITHYAA ENTERPRISES   \n",
       "2220    2007226    ADITHYAA ENTERPRISES   \n",
       "2221  2007255    SRI NARASIMHA AGENCIES   \n",
       "2222            2007340    SVP AGENCIES   \n",
       "2223            2007340    SVP AGENCIES   \n",
       "2224            2007340    SVP AGENCIES   \n",
       "2225            2007340    SVP AGENCIES   \n",
       "2226         2007345    MAHESH AGENCIES   \n",
       "2227         2007345    MAHESH AGENCIES   \n",
       "2228     2007385    RATHNAM ENTERPRISES   \n",
       "\n",
       "                                     Prod_Name       Mean     stddev  \n",
       "2219   MEERA ADVANCE HW POWDER 5.6 GM 1350 PCS  11.000000  10.440307  \n",
       "2220  MEERA ADVANCE HW POWDER 80GM REFILL 50 P   3.333333   4.041452  \n",
       "2221  MEERA ADVANCE HW POWDER 120GM CONT 60 PC   1.000000   1.414214  \n",
       "2222    KARTHIKA HERBAL POWDER 5.8 GM 2000 PCS  50.000000        NaN  \n",
       "2223       KARTHIKA HERBAL POWDER 50GM 180 PCS   4.000000        NaN  \n",
       "2224   MEERA ADVANCE HW POWDER 5.6 GM 1350 PCS  30.000000        NaN  \n",
       "2225  MEERA ADVANCE HW POWDER 80GM REFILL 50 P   8.000000        NaN  \n",
       "2226    KARTHIKA HERBAL POWDER 5.8 GM 2000 PCS   1.000000        NaN  \n",
       "2227    KARTHIKA HERBAL POWDER CONT 180G 80PCS   1.000000        NaN  \n",
       "2228    MEERA HERBAL POWDER 40GM REFILL 100PCS   1.000000        NaN  "
      ]
     },
     "execution_count": 93,
     "metadata": {},
     "output_type": "execute_result"
    }
   ],
   "source": [
    "dist_data_groupby1.tail(10)"
   ]
  },
  {
   "cell_type": "code",
   "execution_count": null,
   "metadata": {},
   "outputs": [],
   "source": [
    "# for dist in dist_data_groupby[\"Sold-To Party\"]:\n",
    "#     for prod in dist_data_groupby[\"Prod_Name\"]:\n",
    "#         if dist = dist_data_groupby1[\"Sold-To Party\"] & prod = dist_data_groupby1[\"Prod_Name\"]:\n",
    "#             mu = dist_data_groupby1[\"Mean\"]\n",
    "#             sigma = dist_data_groupby1[\"stddev\"]\n",
    "        "
   ]
  },
  {
   "cell_type": "code",
   "execution_count": 94,
   "metadata": {},
   "outputs": [],
   "source": [
    "zscore_data = pd.merge(dist_data_groupby, dist_data_groupby1, on = [\"Sold-To Party\",\"Prod_Name\"], how = 'left' )"
   ]
  },
  {
   "cell_type": "code",
   "execution_count": 126,
   "metadata": {},
   "outputs": [
    {
     "name": "stdout",
     "output_type": "stream",
     "text": [
      "So totally 452 will be dropped from 8165 rows. Because it has only 1 data\n"
     ]
    }
   ],
   "source": [
    "drop_rows = zscore_data[zscore_data.isna().any(axis = 1)]\n",
    "print(\"So totally {a} will be dropped from {b} rows. Because it has only 1 data\".format(a = len(drop_rows) , b= len(zscore_data)))"
   ]
  },
  {
   "cell_type": "code",
   "execution_count": 106,
   "metadata": {},
   "outputs": [
    {
     "data": {
      "text/plain": [
       "8165"
      ]
     },
     "execution_count": 106,
     "metadata": {},
     "output_type": "execute_result"
    }
   ],
   "source": [
    "len(dist_data_groupby)"
   ]
  },
  {
   "cell_type": "code",
   "execution_count": null,
   "metadata": {},
   "outputs": [],
   "source": [
    "zscore_data.dropna(axis = 0, inplace = True) # Yet to execute. After  dropping NAs calculate the z-score for each rows."
   ]
  },
  {
   "cell_type": "code",
   "execution_count": null,
   "metadata": {},
   "outputs": [],
   "source": []
  }
 ],
 "metadata": {
  "kernelspec": {
   "display_name": "Python 3",
   "language": "python",
   "name": "python3"
  },
  "language_info": {
   "codemirror_mode": {
    "name": "ipython",
    "version": 3
   },
   "file_extension": ".py",
   "mimetype": "text/x-python",
   "name": "python",
   "nbconvert_exporter": "python",
   "pygments_lexer": "ipython3",
   "version": "3.7.6"
  }
 },
 "nbformat": 4,
 "nbformat_minor": 4
}
