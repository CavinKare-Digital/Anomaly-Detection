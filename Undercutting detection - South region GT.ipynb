{
 "cells": [
  {
   "cell_type": "markdown",
   "metadata": {},
   "source": [
    "# Anomaly Detection"
   ]
  },
  {
   "cell_type": "code",
   "execution_count": 54,
   "metadata": {},
   "outputs": [],
   "source": [
    "import  pandas as pd\n",
    "import numpy as np\n",
    "import scipy.stats as ss"
   ]
  },
  {
   "cell_type": "code",
   "execution_count": 55,
   "metadata": {},
   "outputs": [],
   "source": [
    "pd.options.mode.chained_assignment = None"
   ]
  },
  {
   "cell_type": "markdown",
   "metadata": {},
   "source": [
    "# Importing data\n",
    "\n",
    "1. We have imported **56133 records** with **35 columns**.\n",
    "2. Data ranges from **April 3, 2018 to April 8, 2020**.\n",
    "3. We have **463 unique distributors** in **Southern region** of India in **General Trade**"
   ]
  },
  {
   "cell_type": "code",
   "execution_count": 56,
   "metadata": {},
   "outputs": [],
   "source": [
    "data = pd.read_excel(r\"D:\\Analytics\\Undercutting\\South region - GT\\Data\\Undercutting South region GT 2018-2020.xlsx\",sheet_name= \"Sheet1\")"
   ]
  },
  {
   "cell_type": "code",
   "execution_count": 57,
   "metadata": {},
   "outputs": [
    {
     "data": {
      "text/plain": [
       "(56133, 35)"
      ]
     },
     "execution_count": 57,
     "metadata": {},
     "output_type": "execute_result"
    }
   ],
   "source": [
    "data.shape"
   ]
  },
  {
   "cell_type": "code",
   "execution_count": 58,
   "metadata": {
    "scrolled": true
   },
   "outputs": [
    {
     "data": {
      "text/html": [
       "<div>\n",
       "<style scoped>\n",
       "    .dataframe tbody tr th:only-of-type {\n",
       "        vertical-align: middle;\n",
       "    }\n",
       "\n",
       "    .dataframe tbody tr th {\n",
       "        vertical-align: top;\n",
       "    }\n",
       "\n",
       "    .dataframe thead th {\n",
       "        text-align: right;\n",
       "    }\n",
       "</style>\n",
       "<table border=\"1\" class=\"dataframe\">\n",
       "  <thead>\n",
       "    <tr style=\"text-align: right;\">\n",
       "      <th></th>\n",
       "      <th>Distribution Channel</th>\n",
       "      <th>Division</th>\n",
       "      <th>Old Sold-To Party</th>\n",
       "      <th>Sold-To Party</th>\n",
       "      <th>Customer Group 3</th>\n",
       "      <th>Price List Type</th>\n",
       "      <th>Region Order</th>\n",
       "      <th>Plant</th>\n",
       "      <th>Material</th>\n",
       "      <th>Date</th>\n",
       "      <th>...</th>\n",
       "      <th>Gross</th>\n",
       "      <th>Gross.1</th>\n",
       "      <th>Sales cost</th>\n",
       "      <th>Sales cost.1</th>\n",
       "      <th>Net</th>\n",
       "      <th>Net.1</th>\n",
       "      <th>RtnsQty</th>\n",
       "      <th>RtnsQty.1</th>\n",
       "      <th>Rtns (cst)</th>\n",
       "      <th>Rtns (cst).1</th>\n",
       "    </tr>\n",
       "  </thead>\n",
       "  <tbody>\n",
       "    <tr>\n",
       "      <th>0</th>\n",
       "      <td>GT General Trade</td>\n",
       "      <td>PC Personal Care</td>\n",
       "      <td>2000001    N.CT. AGENCIES</td>\n",
       "      <td>2000001    N.CT. AGENCIES</td>\n",
       "      <td>006 GT</td>\n",
       "      <td>02 Super Stockist</td>\n",
       "      <td>TN  TN</td>\n",
       "      <td>PYC1 CAVINKARE PVT LTD</td>\n",
       "      <td>KH0180HWP02R       KARTHIKA HERBAL POWDER CONT...</td>\n",
       "      <td>23.10.2019</td>\n",
       "      <td>...</td>\n",
       "      <td>187.0</td>\n",
       "      <td>KG</td>\n",
       "      <td>15169.7</td>\n",
       "      <td>INR</td>\n",
       "      <td>144.0</td>\n",
       "      <td>KG</td>\n",
       "      <td>0.0</td>\n",
       "      <td>CV</td>\n",
       "      <td>0.0</td>\n",
       "      <td>INR</td>\n",
       "    </tr>\n",
       "    <tr>\n",
       "      <th>1</th>\n",
       "      <td>GT General Trade</td>\n",
       "      <td>PC Personal Care</td>\n",
       "      <td>2000001    N.CT. AGENCIES</td>\n",
       "      <td>2000001    N.CT. AGENCIES</td>\n",
       "      <td>006 GT</td>\n",
       "      <td>02 Super Stockist</td>\n",
       "      <td>TN  TN</td>\n",
       "      <td>PYC1 CAVINKARE PVT LTD</td>\n",
       "      <td>KH05D8HWP02R       KARTHIKA HERBAL POWDER 5.8 ...</td>\n",
       "      <td>10.07.2019</td>\n",
       "      <td>...</td>\n",
       "      <td>5040.0</td>\n",
       "      <td>KG</td>\n",
       "      <td>272536.0</td>\n",
       "      <td>INR</td>\n",
       "      <td>4640.0</td>\n",
       "      <td>KG</td>\n",
       "      <td>0.0</td>\n",
       "      <td>CV</td>\n",
       "      <td>0.0</td>\n",
       "      <td>INR</td>\n",
       "    </tr>\n",
       "  </tbody>\n",
       "</table>\n",
       "<p>2 rows × 35 columns</p>\n",
       "</div>"
      ],
      "text/plain": [
       "  Distribution Channel          Division          Old Sold-To Party  \\\n",
       "0     GT General Trade  PC Personal Care  2000001    N.CT. AGENCIES   \n",
       "1     GT General Trade  PC Personal Care  2000001    N.CT. AGENCIES   \n",
       "\n",
       "               Sold-To Party Customer Group 3    Price List Type Region Order  \\\n",
       "0  2000001    N.CT. AGENCIES           006 GT  02 Super Stockist       TN  TN   \n",
       "1  2000001    N.CT. AGENCIES           006 GT  02 Super Stockist       TN  TN   \n",
       "\n",
       "                    Plant                                           Material  \\\n",
       "0  PYC1 CAVINKARE PVT LTD  KH0180HWP02R       KARTHIKA HERBAL POWDER CONT...   \n",
       "1  PYC1 CAVINKARE PVT LTD  KH05D8HWP02R       KARTHIKA HERBAL POWDER 5.8 ...   \n",
       "\n",
       "         Date  ...   Gross Gross.1  Sales cost  Sales cost.1     Net  Net.1  \\\n",
       "0  23.10.2019  ...   187.0      KG     15169.7           INR   144.0     KG   \n",
       "1  10.07.2019  ...  5040.0      KG    272536.0           INR  4640.0     KG   \n",
       "\n",
       "  RtnsQty  RtnsQty.1 Rtns (cst)  Rtns (cst).1  \n",
       "0     0.0         CV        0.0           INR  \n",
       "1     0.0         CV        0.0           INR  \n",
       "\n",
       "[2 rows x 35 columns]"
      ]
     },
     "execution_count": 58,
     "metadata": {},
     "output_type": "execute_result"
    }
   ],
   "source": [
    "data.head(2)"
   ]
  },
  {
   "cell_type": "code",
   "execution_count": 59,
   "metadata": {},
   "outputs": [
    {
     "data": {
      "text/plain": [
       "Index(['Distribution Channel', 'Division', 'Old Sold-To Party',\n",
       "       'Sold-To Party', 'Customer Group 3', 'Price List Type', 'Region Order',\n",
       "       'Plant', 'Material', 'Date', 'Sales', 'Sales.1', 'Returns',\n",
       "       'Cred.Memos', 'Cred.Memos.1', 'CM: net 1', 'CM: net 1.1', 'Net Value',\n",
       "       'Net Value.1', 'Tax', 'Tax.1', 'Bill. Qty', 'Bill. Qty.1', 'CredMemQty',\n",
       "       'CredMemQty.1', 'Gross', 'Gross.1', 'Sales cost', 'Sales cost.1', 'Net',\n",
       "       'Net.1', 'RtnsQty', 'RtnsQty.1', 'Rtns (cst)', 'Rtns (cst).1'],\n",
       "      dtype='object')"
      ]
     },
     "execution_count": 59,
     "metadata": {},
     "output_type": "execute_result"
    }
   ],
   "source": [
    "data.columns"
   ]
  },
  {
   "cell_type": "markdown",
   "metadata": {},
   "source": [
    "# Data Transformation and Feature Engineering"
   ]
  },
  {
   "cell_type": "code",
   "execution_count": 60,
   "metadata": {},
   "outputs": [],
   "source": [
    "temp                   =  data[\"Material\"].str.split(\"       \",expand=True)\n",
    "data[\"Prod_Code\"]      = temp[0]\n",
    "data[\"Prod_Name\"]      = temp[1]\n",
    "data[\"Date\"]           = pd.to_datetime(data[\"Date\"],format='%d.%m.%Y')\n",
    "# data[\"Month\"]          = data[\"New date\"].dt.strftime('%B')"
   ]
  },
  {
   "cell_type": "code",
   "execution_count": 61,
   "metadata": {},
   "outputs": [],
   "source": [
    "dist_data = data[[\"Sold-To Party\",\"Date\",\"Prod_Name\",\"Bill. Qty\"]]"
   ]
  },
  {
   "cell_type": "code",
   "execution_count": 62,
   "metadata": {},
   "outputs": [],
   "source": [
    "dist_data = dist_data[dist_data[\"Bill. Qty\"] != 0]"
   ]
  },
  {
   "cell_type": "code",
   "execution_count": 63,
   "metadata": {
    "scrolled": true
   },
   "outputs": [
    {
     "data": {
      "text/plain": [
       "(54133, 4)"
      ]
     },
     "execution_count": 63,
     "metadata": {},
     "output_type": "execute_result"
    }
   ],
   "source": [
    "dist_data.shape"
   ]
  },
  {
   "cell_type": "code",
   "execution_count": 64,
   "metadata": {},
   "outputs": [
    {
     "data": {
      "text/html": [
       "<div>\n",
       "<style scoped>\n",
       "    .dataframe tbody tr th:only-of-type {\n",
       "        vertical-align: middle;\n",
       "    }\n",
       "\n",
       "    .dataframe tbody tr th {\n",
       "        vertical-align: top;\n",
       "    }\n",
       "\n",
       "    .dataframe thead th {\n",
       "        text-align: right;\n",
       "    }\n",
       "</style>\n",
       "<table border=\"1\" class=\"dataframe\">\n",
       "  <thead>\n",
       "    <tr style=\"text-align: right;\">\n",
       "      <th></th>\n",
       "      <th>Sold-To Party</th>\n",
       "      <th>Date</th>\n",
       "      <th>Prod_Name</th>\n",
       "      <th>Bill. Qty</th>\n",
       "    </tr>\n",
       "  </thead>\n",
       "  <tbody>\n",
       "    <tr>\n",
       "      <th>0</th>\n",
       "      <td>2000001    N.CT. AGENCIES</td>\n",
       "      <td>2019-10-23</td>\n",
       "      <td>KARTHIKA HERBAL POWDER CONT 180G 80PCS</td>\n",
       "      <td>10.0</td>\n",
       "    </tr>\n",
       "    <tr>\n",
       "      <th>1</th>\n",
       "      <td>2000001    N.CT. AGENCIES</td>\n",
       "      <td>2019-07-10</td>\n",
       "      <td>KARTHIKA HERBAL POWDER 5.8 GM 2000 PCS</td>\n",
       "      <td>400.0</td>\n",
       "    </tr>\n",
       "  </tbody>\n",
       "</table>\n",
       "</div>"
      ],
      "text/plain": [
       "               Sold-To Party       Date  \\\n",
       "0  2000001    N.CT. AGENCIES 2019-10-23   \n",
       "1  2000001    N.CT. AGENCIES 2019-07-10   \n",
       "\n",
       "                                Prod_Name  Bill. Qty  \n",
       "0  KARTHIKA HERBAL POWDER CONT 180G 80PCS       10.0  \n",
       "1  KARTHIKA HERBAL POWDER 5.8 GM 2000 PCS      400.0  "
      ]
     },
     "execution_count": 64,
     "metadata": {},
     "output_type": "execute_result"
    }
   ],
   "source": [
    "dist_data.head(2)"
   ]
  },
  {
   "cell_type": "markdown",
   "metadata": {},
   "source": [
    "## Removing single records"
   ]
  },
  {
   "cell_type": "code",
   "execution_count": 65,
   "metadata": {},
   "outputs": [
    {
     "data": {
      "text/html": [
       "<div>\n",
       "<style scoped>\n",
       "    .dataframe tbody tr th:only-of-type {\n",
       "        vertical-align: middle;\n",
       "    }\n",
       "\n",
       "    .dataframe tbody tr th {\n",
       "        vertical-align: top;\n",
       "    }\n",
       "\n",
       "    .dataframe thead th {\n",
       "        text-align: right;\n",
       "    }\n",
       "</style>\n",
       "<table border=\"1\" class=\"dataframe\">\n",
       "  <thead>\n",
       "    <tr style=\"text-align: right;\">\n",
       "      <th></th>\n",
       "      <th>Sold-To Party</th>\n",
       "      <th>Prod_Name</th>\n",
       "      <th>Count</th>\n",
       "    </tr>\n",
       "  </thead>\n",
       "  <tbody>\n",
       "    <tr>\n",
       "      <th>0</th>\n",
       "      <td>2000001    N.CT. AGENCIES</td>\n",
       "      <td>KARTHIKA HERBAL POWDER 5.8 GM 2000 PCS</td>\n",
       "      <td>104</td>\n",
       "    </tr>\n",
       "    <tr>\n",
       "      <th>1</th>\n",
       "      <td>2000001    N.CT. AGENCIES</td>\n",
       "      <td>KARTHIKA HERBAL POWDER 50GM 180 PCS</td>\n",
       "      <td>24</td>\n",
       "    </tr>\n",
       "  </tbody>\n",
       "</table>\n",
       "</div>"
      ],
      "text/plain": [
       "               Sold-To Party                               Prod_Name  Count\n",
       "0  2000001    N.CT. AGENCIES  KARTHIKA HERBAL POWDER 5.8 GM 2000 PCS    104\n",
       "1  2000001    N.CT. AGENCIES     KARTHIKA HERBAL POWDER 50GM 180 PCS     24"
      ]
     },
     "execution_count": 65,
     "metadata": {},
     "output_type": "execute_result"
    }
   ],
   "source": [
    "rmv_single_rows = dist_data.groupby([\"Sold-To Party\",\"Prod_Name\"]).agg(Count = (\"Prod_Name\",\"count\")).reset_index()\n",
    "rmv_single_rows.head(2)"
   ]
  },
  {
   "cell_type": "code",
   "execution_count": 66,
   "metadata": {},
   "outputs": [
    {
     "data": {
      "text/plain": [
       "294"
      ]
     },
     "execution_count": 66,
     "metadata": {},
     "output_type": "execute_result"
    }
   ],
   "source": [
    "len(rmv_single_rows[rmv_single_rows[\"Count\"] == 1])"
   ]
  },
  {
   "cell_type": "code",
   "execution_count": 67,
   "metadata": {},
   "outputs": [
    {
     "data": {
      "text/plain": [
       "(53839, 5)"
      ]
     },
     "execution_count": 67,
     "metadata": {},
     "output_type": "execute_result"
    }
   ],
   "source": [
    "dist_data_clean = pd.merge(dist_data,rmv_single_rows,on = [\"Sold-To Party\",\"Prod_Name\"],how = \"left\")\n",
    "dist_data_clean = dist_data_clean[dist_data_clean[\"Count\"] != 1]\n",
    "dist_data_clean.shape"
   ]
  },
  {
   "cell_type": "code",
   "execution_count": 68,
   "metadata": {},
   "outputs": [
    {
     "name": "stdout",
     "output_type": "stream",
     "text": [
      "So totally 294 rows will be dropped from total of 54133 rows. Because it has only 1 data\n"
     ]
    }
   ],
   "source": [
    "print(\"So totally {a} rows will be dropped from total of {b} rows. Because it has only 1 data\".format(a = len(rmv_single_rows[rmv_single_rows[\"Count\"] == 1]), b= len(dist_data)))"
   ]
  },
  {
   "cell_type": "code",
   "execution_count": 69,
   "metadata": {
    "scrolled": true
   },
   "outputs": [
    {
     "data": {
      "text/html": [
       "<div>\n",
       "<style scoped>\n",
       "    .dataframe tbody tr th:only-of-type {\n",
       "        vertical-align: middle;\n",
       "    }\n",
       "\n",
       "    .dataframe tbody tr th {\n",
       "        vertical-align: top;\n",
       "    }\n",
       "\n",
       "    .dataframe thead th {\n",
       "        text-align: right;\n",
       "    }\n",
       "</style>\n",
       "<table border=\"1\" class=\"dataframe\">\n",
       "  <thead>\n",
       "    <tr style=\"text-align: right;\">\n",
       "      <th></th>\n",
       "      <th>Sold-To Party</th>\n",
       "      <th>Date</th>\n",
       "      <th>Prod_Name</th>\n",
       "      <th>Bill. Qty</th>\n",
       "      <th>Count</th>\n",
       "    </tr>\n",
       "  </thead>\n",
       "  <tbody>\n",
       "    <tr>\n",
       "      <th>0</th>\n",
       "      <td>2000001    N.CT. AGENCIES</td>\n",
       "      <td>2019-10-23</td>\n",
       "      <td>KARTHIKA HERBAL POWDER CONT 180G 80PCS</td>\n",
       "      <td>10.0</td>\n",
       "      <td>60</td>\n",
       "    </tr>\n",
       "    <tr>\n",
       "      <th>1</th>\n",
       "      <td>2000001    N.CT. AGENCIES</td>\n",
       "      <td>2019-07-10</td>\n",
       "      <td>KARTHIKA HERBAL POWDER 5.8 GM 2000 PCS</td>\n",
       "      <td>400.0</td>\n",
       "      <td>104</td>\n",
       "    </tr>\n",
       "  </tbody>\n",
       "</table>\n",
       "</div>"
      ],
      "text/plain": [
       "               Sold-To Party       Date  \\\n",
       "0  2000001    N.CT. AGENCIES 2019-10-23   \n",
       "1  2000001    N.CT. AGENCIES 2019-07-10   \n",
       "\n",
       "                                Prod_Name  Bill. Qty  Count  \n",
       "0  KARTHIKA HERBAL POWDER CONT 180G 80PCS       10.0     60  \n",
       "1  KARTHIKA HERBAL POWDER 5.8 GM 2000 PCS      400.0    104  "
      ]
     },
     "execution_count": 69,
     "metadata": {},
     "output_type": "execute_result"
    }
   ],
   "source": [
    "dist_data_clean.head(2)"
   ]
  },
  {
   "cell_type": "markdown",
   "metadata": {},
   "source": [
    "After removing we have 56133 records for analysis"
   ]
  },
  {
   "cell_type": "markdown",
   "metadata": {},
   "source": [
    "# Descriptive Analytics"
   ]
  },
  {
   "cell_type": "code",
   "execution_count": 70,
   "metadata": {},
   "outputs": [
    {
     "data": {
      "text/plain": [
       "Sold-To Party    0\n",
       "Prod_Name        0\n",
       "Mean             0\n",
       "stddev           0\n",
       "Median           0\n",
       "dtype: int64"
      ]
     },
     "execution_count": 70,
     "metadata": {},
     "output_type": "execute_result"
    }
   ],
   "source": [
    "dist_data_descriptive = dist_data_clean.groupby([\"Sold-To Party\",\"Prod_Name\"]).agg(Mean = (\"Bill. Qty\",\"mean\"), \n",
    "                                           stddev = (\"Bill. Qty\",\"std\"),Median =(\"Bill. Qty\",\"median\")).reset_index()\n",
    "dist_data_descriptive.isna().sum()"
   ]
  },
  {
   "cell_type": "code",
   "execution_count": 71,
   "metadata": {},
   "outputs": [],
   "source": [
    "zscore_data = pd.merge(dist_data_clean, dist_data_descriptive, on = [\"Sold-To Party\",\"Prod_Name\"], how = 'left')"
   ]
  },
  {
   "cell_type": "code",
   "execution_count": 72,
   "metadata": {
    "scrolled": true
   },
   "outputs": [
    {
     "data": {
      "text/html": [
       "<div>\n",
       "<style scoped>\n",
       "    .dataframe tbody tr th:only-of-type {\n",
       "        vertical-align: middle;\n",
       "    }\n",
       "\n",
       "    .dataframe tbody tr th {\n",
       "        vertical-align: top;\n",
       "    }\n",
       "\n",
       "    .dataframe thead th {\n",
       "        text-align: right;\n",
       "    }\n",
       "</style>\n",
       "<table border=\"1\" class=\"dataframe\">\n",
       "  <thead>\n",
       "    <tr style=\"text-align: right;\">\n",
       "      <th></th>\n",
       "      <th>Sold-To Party</th>\n",
       "      <th>Date</th>\n",
       "      <th>Prod_Name</th>\n",
       "      <th>Bill. Qty</th>\n",
       "      <th>Count</th>\n",
       "      <th>Mean</th>\n",
       "      <th>stddev</th>\n",
       "      <th>Median</th>\n",
       "    </tr>\n",
       "  </thead>\n",
       "  <tbody>\n",
       "    <tr>\n",
       "      <th>1</th>\n",
       "      <td>2000001    N.CT. AGENCIES</td>\n",
       "      <td>2019-07-10</td>\n",
       "      <td>KARTHIKA HERBAL POWDER 5.8 GM 2000 PCS</td>\n",
       "      <td>400.0</td>\n",
       "      <td>104</td>\n",
       "      <td>178.009615</td>\n",
       "      <td>156.68957</td>\n",
       "      <td>146.5</td>\n",
       "    </tr>\n",
       "    <tr>\n",
       "      <th>2</th>\n",
       "      <td>2000001    N.CT. AGENCIES</td>\n",
       "      <td>2019-07-16</td>\n",
       "      <td>KARTHIKA HERBAL POWDER 5.8 GM 2000 PCS</td>\n",
       "      <td>150.0</td>\n",
       "      <td>104</td>\n",
       "      <td>178.009615</td>\n",
       "      <td>156.68957</td>\n",
       "      <td>146.5</td>\n",
       "    </tr>\n",
       "  </tbody>\n",
       "</table>\n",
       "</div>"
      ],
      "text/plain": [
       "               Sold-To Party       Date  \\\n",
       "1  2000001    N.CT. AGENCIES 2019-07-10   \n",
       "2  2000001    N.CT. AGENCIES 2019-07-16   \n",
       "\n",
       "                                Prod_Name  Bill. Qty  Count        Mean  \\\n",
       "1  KARTHIKA HERBAL POWDER 5.8 GM 2000 PCS      400.0    104  178.009615   \n",
       "2  KARTHIKA HERBAL POWDER 5.8 GM 2000 PCS      150.0    104  178.009615   \n",
       "\n",
       "      stddev  Median  \n",
       "1  156.68957   146.5  \n",
       "2  156.68957   146.5  "
      ]
     },
     "execution_count": 72,
     "metadata": {},
     "output_type": "execute_result"
    }
   ],
   "source": [
    "# Test Data\n",
    "zscore_data[(zscore_data[\"Sold-To Party\"] == \"2000001    N.CT. AGENCIES\") & (zscore_data[\"Prod_Name\"] == \"KARTHIKA HERBAL POWDER 5.8 GM 2000 PCS\")].head(2)"
   ]
  },
  {
   "cell_type": "code",
   "execution_count": 73,
   "metadata": {},
   "outputs": [
    {
     "data": {
      "text/plain": [
       "Sold-To Party    0\n",
       "Date             0\n",
       "Prod_Name        0\n",
       "Bill. Qty        0\n",
       "Count            0\n",
       "Mean             0\n",
       "stddev           0\n",
       "Median           0\n",
       "dtype: int64"
      ]
     },
     "execution_count": 73,
     "metadata": {},
     "output_type": "execute_result"
    }
   ],
   "source": [
    "zscore_data.isna().sum()\n",
    "# zscore_data.dropna(axis = 0, inplace = True)"
   ]
  },
  {
   "cell_type": "markdown",
   "metadata": {},
   "source": [
    "# Outlier Detection"
   ]
  },
  {
   "cell_type": "markdown",
   "metadata": {},
   "source": [
    "### Method 1 - Z Score Calculation\n",
    "\n",
    "Z score = (Observation - Mean)/Sigma"
   ]
  },
  {
   "cell_type": "code",
   "execution_count": 74,
   "metadata": {},
   "outputs": [],
   "source": [
    "zscore_data['z-score']= (zscore_data['Bill. Qty'] - zscore_data['Mean'])/zscore_data['stddev']"
   ]
  },
  {
   "cell_type": "code",
   "execution_count": 75,
   "metadata": {},
   "outputs": [
    {
     "data": {
      "text/html": [
       "<div>\n",
       "<style scoped>\n",
       "    .dataframe tbody tr th:only-of-type {\n",
       "        vertical-align: middle;\n",
       "    }\n",
       "\n",
       "    .dataframe tbody tr th {\n",
       "        vertical-align: top;\n",
       "    }\n",
       "\n",
       "    .dataframe thead th {\n",
       "        text-align: right;\n",
       "    }\n",
       "</style>\n",
       "<table border=\"1\" class=\"dataframe\">\n",
       "  <thead>\n",
       "    <tr style=\"text-align: right;\">\n",
       "      <th></th>\n",
       "      <th>Sold-To Party</th>\n",
       "      <th>Date</th>\n",
       "      <th>Prod_Name</th>\n",
       "      <th>Bill. Qty</th>\n",
       "      <th>Count</th>\n",
       "      <th>Mean</th>\n",
       "      <th>stddev</th>\n",
       "      <th>Median</th>\n",
       "      <th>z-score</th>\n",
       "    </tr>\n",
       "  </thead>\n",
       "  <tbody>\n",
       "    <tr>\n",
       "      <th>24081</th>\n",
       "      <td>2000001    N.CT. AGENCIES</td>\n",
       "      <td>2019-03-19</td>\n",
       "      <td>KARTHIKA HERBAL POWDER 5.8 GM 2000 PCS</td>\n",
       "      <td>80.0</td>\n",
       "      <td>104</td>\n",
       "      <td>178.009615</td>\n",
       "      <td>156.68957</td>\n",
       "      <td>146.5</td>\n",
       "      <td>-0.625502</td>\n",
       "    </tr>\n",
       "    <tr>\n",
       "      <th>24082</th>\n",
       "      <td>2000001    N.CT. AGENCIES</td>\n",
       "      <td>2019-03-27</td>\n",
       "      <td>KARTHIKA HERBAL POWDER 5.8 GM 2000 PCS</td>\n",
       "      <td>100.0</td>\n",
       "      <td>104</td>\n",
       "      <td>178.009615</td>\n",
       "      <td>156.68957</td>\n",
       "      <td>146.5</td>\n",
       "      <td>-0.497861</td>\n",
       "    </tr>\n",
       "  </tbody>\n",
       "</table>\n",
       "</div>"
      ],
      "text/plain": [
       "                   Sold-To Party       Date  \\\n",
       "24081  2000001    N.CT. AGENCIES 2019-03-19   \n",
       "24082  2000001    N.CT. AGENCIES 2019-03-27   \n",
       "\n",
       "                                    Prod_Name  Bill. Qty  Count        Mean  \\\n",
       "24081  KARTHIKA HERBAL POWDER 5.8 GM 2000 PCS       80.0    104  178.009615   \n",
       "24082  KARTHIKA HERBAL POWDER 5.8 GM 2000 PCS      100.0    104  178.009615   \n",
       "\n",
       "          stddev  Median   z-score  \n",
       "24081  156.68957   146.5 -0.625502  \n",
       "24082  156.68957   146.5 -0.497861  "
      ]
     },
     "execution_count": 75,
     "metadata": {},
     "output_type": "execute_result"
    }
   ],
   "source": [
    "# Test Data\n",
    "zscore_data[(zscore_data[\"Sold-To Party\"] == \"2000001    N.CT. AGENCIES\") & (zscore_data[\"Prod_Name\"] == \"KARTHIKA HERBAL POWDER 5.8 GM 2000 PCS\")].tail(2)"
   ]
  },
  {
   "cell_type": "code",
   "execution_count": 76,
   "metadata": {
    "scrolled": true
   },
   "outputs": [
    {
     "data": {
      "text/html": [
       "<div>\n",
       "<style scoped>\n",
       "    .dataframe tbody tr th:only-of-type {\n",
       "        vertical-align: middle;\n",
       "    }\n",
       "\n",
       "    .dataframe tbody tr th {\n",
       "        vertical-align: top;\n",
       "    }\n",
       "\n",
       "    .dataframe thead th {\n",
       "        text-align: right;\n",
       "    }\n",
       "</style>\n",
       "<table border=\"1\" class=\"dataframe\">\n",
       "  <thead>\n",
       "    <tr style=\"text-align: right;\">\n",
       "      <th></th>\n",
       "      <th>Sold-To Party</th>\n",
       "      <th>Date</th>\n",
       "      <th>Prod_Name</th>\n",
       "      <th>Bill. Qty</th>\n",
       "      <th>Count</th>\n",
       "      <th>Mean</th>\n",
       "      <th>stddev</th>\n",
       "      <th>Median</th>\n",
       "      <th>z-score</th>\n",
       "    </tr>\n",
       "  </thead>\n",
       "  <tbody>\n",
       "    <tr>\n",
       "      <th>9</th>\n",
       "      <td>2000001    N.CT. AGENCIES</td>\n",
       "      <td>2019-09-18</td>\n",
       "      <td>KARTHIKA HERBAL POWDER 5.8 GM 2000 PCS</td>\n",
       "      <td>1300.0</td>\n",
       "      <td>104</td>\n",
       "      <td>178.009615</td>\n",
       "      <td>156.689570</td>\n",
       "      <td>146.5</td>\n",
       "      <td>7.160594</td>\n",
       "    </tr>\n",
       "    <tr>\n",
       "      <th>10078</th>\n",
       "      <td>2000131    SRI PONNIAMMAN AGENCY</td>\n",
       "      <td>2019-04-10</td>\n",
       "      <td>KARTHIKA HERBAL POWDER 5.8 GM 2000 PCS</td>\n",
       "      <td>113.0</td>\n",
       "      <td>92</td>\n",
       "      <td>17.989130</td>\n",
       "      <td>14.311676</td>\n",
       "      <td>15.0</td>\n",
       "      <td>6.638696</td>\n",
       "    </tr>\n",
       "    <tr>\n",
       "      <th>29571</th>\n",
       "      <td>2000080    DHARSHU AGENCY</td>\n",
       "      <td>2018-12-03</td>\n",
       "      <td>MEERA HERBAL POWDER 120GM CONT 60 PCS</td>\n",
       "      <td>52.0</td>\n",
       "      <td>49</td>\n",
       "      <td>3.734694</td>\n",
       "      <td>7.347833</td>\n",
       "      <td>2.0</td>\n",
       "      <td>6.568645</td>\n",
       "    </tr>\n",
       "    <tr>\n",
       "      <th>32390</th>\n",
       "      <td>2000096    VICTORY ENTERPRISE</td>\n",
       "      <td>2018-09-18</td>\n",
       "      <td>MEERA HERBAL POWDER 120GM CONT 60 PCS</td>\n",
       "      <td>50.0</td>\n",
       "      <td>56</td>\n",
       "      <td>7.339286</td>\n",
       "      <td>6.506715</td>\n",
       "      <td>5.5</td>\n",
       "      <td>6.556414</td>\n",
       "    </tr>\n",
       "    <tr>\n",
       "      <th>9915</th>\n",
       "      <td>2000130    S.P. AGENCIES</td>\n",
       "      <td>2019-10-16</td>\n",
       "      <td>KARTHIKA HERBAL POWDER 5.8 GM 2000 PCS</td>\n",
       "      <td>250.0</td>\n",
       "      <td>90</td>\n",
       "      <td>41.577778</td>\n",
       "      <td>32.032279</td>\n",
       "      <td>32.5</td>\n",
       "      <td>6.506631</td>\n",
       "    </tr>\n",
       "  </tbody>\n",
       "</table>\n",
       "</div>"
      ],
      "text/plain": [
       "                          Sold-To Party       Date  \\\n",
       "9             2000001    N.CT. AGENCIES 2019-09-18   \n",
       "10078  2000131    SRI PONNIAMMAN AGENCY 2019-04-10   \n",
       "29571         2000080    DHARSHU AGENCY 2018-12-03   \n",
       "32390     2000096    VICTORY ENTERPRISE 2018-09-18   \n",
       "9915           2000130    S.P. AGENCIES 2019-10-16   \n",
       "\n",
       "                                    Prod_Name  Bill. Qty  Count        Mean  \\\n",
       "9      KARTHIKA HERBAL POWDER 5.8 GM 2000 PCS     1300.0    104  178.009615   \n",
       "10078  KARTHIKA HERBAL POWDER 5.8 GM 2000 PCS      113.0     92   17.989130   \n",
       "29571   MEERA HERBAL POWDER 120GM CONT 60 PCS       52.0     49    3.734694   \n",
       "32390   MEERA HERBAL POWDER 120GM CONT 60 PCS       50.0     56    7.339286   \n",
       "9915   KARTHIKA HERBAL POWDER 5.8 GM 2000 PCS      250.0     90   41.577778   \n",
       "\n",
       "           stddev  Median   z-score  \n",
       "9      156.689570   146.5  7.160594  \n",
       "10078   14.311676    15.0  6.638696  \n",
       "29571    7.347833     2.0  6.568645  \n",
       "32390    6.506715     5.5  6.556414  \n",
       "9915    32.032279    32.5  6.506631  "
      ]
     },
     "execution_count": 76,
     "metadata": {},
     "output_type": "execute_result"
    }
   ],
   "source": [
    "zscore_data.sort_values(by='z-score', ascending=False,inplace=True)\n",
    "zscore_data.head(5)"
   ]
  },
  {
   "cell_type": "markdown",
   "metadata": {},
   "source": [
    "### Method 2 - Mod Z Score Calculation - IBM formula\n",
    "\n",
    "MAD - Median Absolute deviation        \n",
    "MAD = Median(ABS(observation - Median))       \n",
    "\n",
    "MeanAD - Mean Absolute deviation     \n",
    "MeanAD = Mean(ABS(Observation - Mean))      \n",
    "            "
   ]
  },
  {
   "cell_type": "code",
   "execution_count": 77,
   "metadata": {},
   "outputs": [],
   "source": [
    "zscore_data['MAD Bill. Qty'] = np.absolute(zscore_data['Bill. Qty'] - zscore_data['Median']) #abs(x-median)\n",
    "\n",
    "zscore_data['MeanAD Bill. Qty'] = np.absolute(zscore_data['Bill. Qty'] - zscore_data['Mean']) #abs(x-mean)"
   ]
  },
  {
   "cell_type": "code",
   "execution_count": 78,
   "metadata": {},
   "outputs": [
    {
     "data": {
      "text/html": [
       "<div>\n",
       "<style scoped>\n",
       "    .dataframe tbody tr th:only-of-type {\n",
       "        vertical-align: middle;\n",
       "    }\n",
       "\n",
       "    .dataframe tbody tr th {\n",
       "        vertical-align: top;\n",
       "    }\n",
       "\n",
       "    .dataframe thead th {\n",
       "        text-align: right;\n",
       "    }\n",
       "</style>\n",
       "<table border=\"1\" class=\"dataframe\">\n",
       "  <thead>\n",
       "    <tr style=\"text-align: right;\">\n",
       "      <th></th>\n",
       "      <th>Sold-To Party</th>\n",
       "      <th>Date</th>\n",
       "      <th>Prod_Name</th>\n",
       "      <th>Bill. Qty</th>\n",
       "      <th>Count</th>\n",
       "      <th>Mean</th>\n",
       "      <th>stddev</th>\n",
       "      <th>Median</th>\n",
       "      <th>z-score</th>\n",
       "      <th>MAD Bill. Qty</th>\n",
       "      <th>MeanAD Bill. Qty</th>\n",
       "    </tr>\n",
       "  </thead>\n",
       "  <tbody>\n",
       "    <tr>\n",
       "      <th>9</th>\n",
       "      <td>2000001    N.CT. AGENCIES</td>\n",
       "      <td>2019-09-18</td>\n",
       "      <td>KARTHIKA HERBAL POWDER 5.8 GM 2000 PCS</td>\n",
       "      <td>1300.0</td>\n",
       "      <td>104</td>\n",
       "      <td>178.009615</td>\n",
       "      <td>156.689570</td>\n",
       "      <td>146.5</td>\n",
       "      <td>7.160594</td>\n",
       "      <td>1153.5</td>\n",
       "      <td>1121.990385</td>\n",
       "    </tr>\n",
       "    <tr>\n",
       "      <th>10078</th>\n",
       "      <td>2000131    SRI PONNIAMMAN AGENCY</td>\n",
       "      <td>2019-04-10</td>\n",
       "      <td>KARTHIKA HERBAL POWDER 5.8 GM 2000 PCS</td>\n",
       "      <td>113.0</td>\n",
       "      <td>92</td>\n",
       "      <td>17.989130</td>\n",
       "      <td>14.311676</td>\n",
       "      <td>15.0</td>\n",
       "      <td>6.638696</td>\n",
       "      <td>98.0</td>\n",
       "      <td>95.010870</td>\n",
       "    </tr>\n",
       "  </tbody>\n",
       "</table>\n",
       "</div>"
      ],
      "text/plain": [
       "                          Sold-To Party       Date  \\\n",
       "9             2000001    N.CT. AGENCIES 2019-09-18   \n",
       "10078  2000131    SRI PONNIAMMAN AGENCY 2019-04-10   \n",
       "\n",
       "                                    Prod_Name  Bill. Qty  Count        Mean  \\\n",
       "9      KARTHIKA HERBAL POWDER 5.8 GM 2000 PCS     1300.0    104  178.009615   \n",
       "10078  KARTHIKA HERBAL POWDER 5.8 GM 2000 PCS      113.0     92   17.989130   \n",
       "\n",
       "           stddev  Median   z-score  MAD Bill. Qty  MeanAD Bill. Qty  \n",
       "9      156.689570   146.5  7.160594         1153.5       1121.990385  \n",
       "10078   14.311676    15.0  6.638696           98.0         95.010870  "
      ]
     },
     "execution_count": 78,
     "metadata": {},
     "output_type": "execute_result"
    }
   ],
   "source": [
    "zscore_data.head(2)"
   ]
  },
  {
   "cell_type": "code",
   "execution_count": 79,
   "metadata": {},
   "outputs": [],
   "source": [
    "MeanAD_MAD_Group = zscore_data.groupby([\"Sold-To Party\",\"Prod_Name\"]).agg(MAD = (\"MAD Bill. Qty\",\"median\"),\n",
    "                                                                          MeanAD = (\"MeanAD Bill. Qty\",\"mean\")).reset_index()"
   ]
  },
  {
   "cell_type": "code",
   "execution_count": 80,
   "metadata": {},
   "outputs": [
    {
     "data": {
      "text/html": [
       "<div>\n",
       "<style scoped>\n",
       "    .dataframe tbody tr th:only-of-type {\n",
       "        vertical-align: middle;\n",
       "    }\n",
       "\n",
       "    .dataframe tbody tr th {\n",
       "        vertical-align: top;\n",
       "    }\n",
       "\n",
       "    .dataframe thead th {\n",
       "        text-align: right;\n",
       "    }\n",
       "</style>\n",
       "<table border=\"1\" class=\"dataframe\">\n",
       "  <thead>\n",
       "    <tr style=\"text-align: right;\">\n",
       "      <th></th>\n",
       "      <th>Sold-To Party</th>\n",
       "      <th>Prod_Name</th>\n",
       "      <th>MAD</th>\n",
       "      <th>MeanAD</th>\n",
       "    </tr>\n",
       "  </thead>\n",
       "  <tbody>\n",
       "    <tr>\n",
       "      <th>0</th>\n",
       "      <td>2000001    N.CT. AGENCIES</td>\n",
       "      <td>KARTHIKA HERBAL POWDER 5.8 GM 2000 PCS</td>\n",
       "      <td>72.5</td>\n",
       "      <td>101.819527</td>\n",
       "    </tr>\n",
       "    <tr>\n",
       "      <th>1</th>\n",
       "      <td>2000001    N.CT. AGENCIES</td>\n",
       "      <td>KARTHIKA HERBAL POWDER 50GM 180 PCS</td>\n",
       "      <td>0.5</td>\n",
       "      <td>3.763889</td>\n",
       "    </tr>\n",
       "  </tbody>\n",
       "</table>\n",
       "</div>"
      ],
      "text/plain": [
       "               Sold-To Party                               Prod_Name   MAD  \\\n",
       "0  2000001    N.CT. AGENCIES  KARTHIKA HERBAL POWDER 5.8 GM 2000 PCS  72.5   \n",
       "1  2000001    N.CT. AGENCIES     KARTHIKA HERBAL POWDER 50GM 180 PCS   0.5   \n",
       "\n",
       "       MeanAD  \n",
       "0  101.819527  \n",
       "1    3.763889  "
      ]
     },
     "execution_count": 80,
     "metadata": {},
     "output_type": "execute_result"
    }
   ],
   "source": [
    "MeanAD_MAD_Group.head(2)"
   ]
  },
  {
   "cell_type": "code",
   "execution_count": 81,
   "metadata": {},
   "outputs": [],
   "source": [
    "zscore_data = pd.merge(zscore_data,MeanAD_MAD_Group,on=[\"Sold-To Party\",\"Prod_Name\"],how='left')"
   ]
  },
  {
   "cell_type": "code",
   "execution_count": 82,
   "metadata": {},
   "outputs": [],
   "source": [
    "# zscore_data.to_excel(r\"D:\\Analytics\\Undercutting\\South region - GT\\Outfiles\\zscoredata1.xlsx\",index = False)"
   ]
  },
  {
   "cell_type": "markdown",
   "metadata": {},
   "source": [
    "# Mod Z Score formula:\n",
    "\n",
    "**Formula1** : If MAD = 0 then, (X-MED)/(1.253314 * MeanAD)   \n",
    "**Formula2** : If MAD != 0 then, (X-MED)/(1.486 * MAD)   \n"
   ]
  },
  {
   "cell_type": "code",
   "execution_count": 83,
   "metadata": {},
   "outputs": [],
   "source": [
    "MAD_data_equal0   = zscore_data[zscore_data['MAD'] == 0]\n",
    "MAD_data_greater0 = zscore_data[zscore_data['MAD']  > 0]"
   ]
  },
  {
   "cell_type": "code",
   "execution_count": 84,
   "metadata": {},
   "outputs": [
    {
     "data": {
      "text/plain": [
       "(14480, 13)"
      ]
     },
     "execution_count": 84,
     "metadata": {},
     "output_type": "execute_result"
    }
   ],
   "source": [
    "MAD_data_equal0.shape"
   ]
  },
  {
   "cell_type": "code",
   "execution_count": 85,
   "metadata": {},
   "outputs": [
    {
     "data": {
      "text/plain": [
       "(39359, 13)"
      ]
     },
     "execution_count": 85,
     "metadata": {},
     "output_type": "execute_result"
    }
   ],
   "source": [
    "MAD_data_greater0.shape"
   ]
  },
  {
   "cell_type": "markdown",
   "metadata": {},
   "source": [
    "So we will using Formula 1 for 27% of the records and formula 2 for the rest 73% of the records"
   ]
  },
  {
   "cell_type": "markdown",
   "metadata": {},
   "source": [
    "**Formula1** : If Median = 0 then, (X-MED)/(1.253314 * MeanAD)  "
   ]
  },
  {
   "cell_type": "code",
   "execution_count": 86,
   "metadata": {},
   "outputs": [],
   "source": [
    "MAD_data_equal0['Mod-z_score'] = MAD_data_equal0['MAD Bill. Qty']/(1.253314 * MAD_data_equal0['MeanAD']) "
   ]
  },
  {
   "cell_type": "code",
   "execution_count": 87,
   "metadata": {},
   "outputs": [
    {
     "data": {
      "text/html": [
       "<div>\n",
       "<style scoped>\n",
       "    .dataframe tbody tr th:only-of-type {\n",
       "        vertical-align: middle;\n",
       "    }\n",
       "\n",
       "    .dataframe tbody tr th {\n",
       "        vertical-align: top;\n",
       "    }\n",
       "\n",
       "    .dataframe thead th {\n",
       "        text-align: right;\n",
       "    }\n",
       "</style>\n",
       "<table border=\"1\" class=\"dataframe\">\n",
       "  <thead>\n",
       "    <tr style=\"text-align: right;\">\n",
       "      <th></th>\n",
       "      <th>Sold-To Party</th>\n",
       "      <th>Date</th>\n",
       "      <th>Prod_Name</th>\n",
       "      <th>Bill. Qty</th>\n",
       "      <th>Count</th>\n",
       "      <th>Mean</th>\n",
       "      <th>stddev</th>\n",
       "      <th>Median</th>\n",
       "      <th>z-score</th>\n",
       "      <th>MAD Bill. Qty</th>\n",
       "      <th>MeanAD Bill. Qty</th>\n",
       "      <th>MAD</th>\n",
       "      <th>MeanAD</th>\n",
       "      <th>Mod-z_score</th>\n",
       "    </tr>\n",
       "  </thead>\n",
       "  <tbody>\n",
       "    <tr>\n",
       "      <th>3465</th>\n",
       "      <td>2000727    SRI VEERABHADRA AGENCIES</td>\n",
       "      <td>2019-07-30</td>\n",
       "      <td>MEERA ADVANCE HW POWDER 120GM CONT 60 PC</td>\n",
       "      <td>4.0</td>\n",
       "      <td>9</td>\n",
       "      <td>2.333333</td>\n",
       "      <td>1.0</td>\n",
       "      <td>2.0</td>\n",
       "      <td>1.666667</td>\n",
       "      <td>2.0</td>\n",
       "      <td>1.666667</td>\n",
       "      <td>0.0</td>\n",
       "      <td>0.740741</td>\n",
       "      <td>2.154289</td>\n",
       "    </tr>\n",
       "    <tr>\n",
       "      <th>3466</th>\n",
       "      <td>2000727    SRI VEERABHADRA AGENCIES</td>\n",
       "      <td>2019-12-25</td>\n",
       "      <td>MEERA ADVANCE HW POWDER 120GM CONT 60 PC</td>\n",
       "      <td>4.0</td>\n",
       "      <td>9</td>\n",
       "      <td>2.333333</td>\n",
       "      <td>1.0</td>\n",
       "      <td>2.0</td>\n",
       "      <td>1.666667</td>\n",
       "      <td>2.0</td>\n",
       "      <td>1.666667</td>\n",
       "      <td>0.0</td>\n",
       "      <td>0.740741</td>\n",
       "      <td>2.154289</td>\n",
       "    </tr>\n",
       "    <tr>\n",
       "      <th>27850</th>\n",
       "      <td>2000727    SRI VEERABHADRA AGENCIES</td>\n",
       "      <td>2020-03-17</td>\n",
       "      <td>MEERA ADVANCE HW POWDER 120GM CONT 60 PC</td>\n",
       "      <td>2.0</td>\n",
       "      <td>9</td>\n",
       "      <td>2.333333</td>\n",
       "      <td>1.0</td>\n",
       "      <td>2.0</td>\n",
       "      <td>-0.333333</td>\n",
       "      <td>0.0</td>\n",
       "      <td>0.333333</td>\n",
       "      <td>0.0</td>\n",
       "      <td>0.740741</td>\n",
       "      <td>0.000000</td>\n",
       "    </tr>\n",
       "    <tr>\n",
       "      <th>27851</th>\n",
       "      <td>2000727    SRI VEERABHADRA AGENCIES</td>\n",
       "      <td>2019-07-16</td>\n",
       "      <td>MEERA ADVANCE HW POWDER 120GM CONT 60 PC</td>\n",
       "      <td>2.0</td>\n",
       "      <td>9</td>\n",
       "      <td>2.333333</td>\n",
       "      <td>1.0</td>\n",
       "      <td>2.0</td>\n",
       "      <td>-0.333333</td>\n",
       "      <td>0.0</td>\n",
       "      <td>0.333333</td>\n",
       "      <td>0.0</td>\n",
       "      <td>0.740741</td>\n",
       "      <td>0.000000</td>\n",
       "    </tr>\n",
       "    <tr>\n",
       "      <th>27852</th>\n",
       "      <td>2000727    SRI VEERABHADRA AGENCIES</td>\n",
       "      <td>2019-12-18</td>\n",
       "      <td>MEERA ADVANCE HW POWDER 120GM CONT 60 PC</td>\n",
       "      <td>2.0</td>\n",
       "      <td>9</td>\n",
       "      <td>2.333333</td>\n",
       "      <td>1.0</td>\n",
       "      <td>2.0</td>\n",
       "      <td>-0.333333</td>\n",
       "      <td>0.0</td>\n",
       "      <td>0.333333</td>\n",
       "      <td>0.0</td>\n",
       "      <td>0.740741</td>\n",
       "      <td>0.000000</td>\n",
       "    </tr>\n",
       "    <tr>\n",
       "      <th>27853</th>\n",
       "      <td>2000727    SRI VEERABHADRA AGENCIES</td>\n",
       "      <td>2019-11-20</td>\n",
       "      <td>MEERA ADVANCE HW POWDER 120GM CONT 60 PC</td>\n",
       "      <td>2.0</td>\n",
       "      <td>9</td>\n",
       "      <td>2.333333</td>\n",
       "      <td>1.0</td>\n",
       "      <td>2.0</td>\n",
       "      <td>-0.333333</td>\n",
       "      <td>0.0</td>\n",
       "      <td>0.333333</td>\n",
       "      <td>0.0</td>\n",
       "      <td>0.740741</td>\n",
       "      <td>0.000000</td>\n",
       "    </tr>\n",
       "    <tr>\n",
       "      <th>27854</th>\n",
       "      <td>2000727    SRI VEERABHADRA AGENCIES</td>\n",
       "      <td>2019-11-27</td>\n",
       "      <td>MEERA ADVANCE HW POWDER 120GM CONT 60 PC</td>\n",
       "      <td>2.0</td>\n",
       "      <td>9</td>\n",
       "      <td>2.333333</td>\n",
       "      <td>1.0</td>\n",
       "      <td>2.0</td>\n",
       "      <td>-0.333333</td>\n",
       "      <td>0.0</td>\n",
       "      <td>0.333333</td>\n",
       "      <td>0.0</td>\n",
       "      <td>0.740741</td>\n",
       "      <td>0.000000</td>\n",
       "    </tr>\n",
       "    <tr>\n",
       "      <th>27855</th>\n",
       "      <td>2000727    SRI VEERABHADRA AGENCIES</td>\n",
       "      <td>2019-09-04</td>\n",
       "      <td>MEERA ADVANCE HW POWDER 120GM CONT 60 PC</td>\n",
       "      <td>2.0</td>\n",
       "      <td>9</td>\n",
       "      <td>2.333333</td>\n",
       "      <td>1.0</td>\n",
       "      <td>2.0</td>\n",
       "      <td>-0.333333</td>\n",
       "      <td>0.0</td>\n",
       "      <td>0.333333</td>\n",
       "      <td>0.0</td>\n",
       "      <td>0.740741</td>\n",
       "      <td>0.000000</td>\n",
       "    </tr>\n",
       "    <tr>\n",
       "      <th>50363</th>\n",
       "      <td>2000727    SRI VEERABHADRA AGENCIES</td>\n",
       "      <td>2019-07-23</td>\n",
       "      <td>MEERA ADVANCE HW POWDER 120GM CONT 60 PC</td>\n",
       "      <td>1.0</td>\n",
       "      <td>9</td>\n",
       "      <td>2.333333</td>\n",
       "      <td>1.0</td>\n",
       "      <td>2.0</td>\n",
       "      <td>-1.333333</td>\n",
       "      <td>1.0</td>\n",
       "      <td>1.333333</td>\n",
       "      <td>0.0</td>\n",
       "      <td>0.740741</td>\n",
       "      <td>1.077144</td>\n",
       "    </tr>\n",
       "  </tbody>\n",
       "</table>\n",
       "</div>"
      ],
      "text/plain": [
       "                             Sold-To Party       Date  \\\n",
       "3465   2000727    SRI VEERABHADRA AGENCIES 2019-07-30   \n",
       "3466   2000727    SRI VEERABHADRA AGENCIES 2019-12-25   \n",
       "27850  2000727    SRI VEERABHADRA AGENCIES 2020-03-17   \n",
       "27851  2000727    SRI VEERABHADRA AGENCIES 2019-07-16   \n",
       "27852  2000727    SRI VEERABHADRA AGENCIES 2019-12-18   \n",
       "27853  2000727    SRI VEERABHADRA AGENCIES 2019-11-20   \n",
       "27854  2000727    SRI VEERABHADRA AGENCIES 2019-11-27   \n",
       "27855  2000727    SRI VEERABHADRA AGENCIES 2019-09-04   \n",
       "50363  2000727    SRI VEERABHADRA AGENCIES 2019-07-23   \n",
       "\n",
       "                                      Prod_Name  Bill. Qty  Count      Mean  \\\n",
       "3465   MEERA ADVANCE HW POWDER 120GM CONT 60 PC        4.0      9  2.333333   \n",
       "3466   MEERA ADVANCE HW POWDER 120GM CONT 60 PC        4.0      9  2.333333   \n",
       "27850  MEERA ADVANCE HW POWDER 120GM CONT 60 PC        2.0      9  2.333333   \n",
       "27851  MEERA ADVANCE HW POWDER 120GM CONT 60 PC        2.0      9  2.333333   \n",
       "27852  MEERA ADVANCE HW POWDER 120GM CONT 60 PC        2.0      9  2.333333   \n",
       "27853  MEERA ADVANCE HW POWDER 120GM CONT 60 PC        2.0      9  2.333333   \n",
       "27854  MEERA ADVANCE HW POWDER 120GM CONT 60 PC        2.0      9  2.333333   \n",
       "27855  MEERA ADVANCE HW POWDER 120GM CONT 60 PC        2.0      9  2.333333   \n",
       "50363  MEERA ADVANCE HW POWDER 120GM CONT 60 PC        1.0      9  2.333333   \n",
       "\n",
       "       stddev  Median   z-score  MAD Bill. Qty  MeanAD Bill. Qty  MAD  \\\n",
       "3465      1.0     2.0  1.666667            2.0          1.666667  0.0   \n",
       "3466      1.0     2.0  1.666667            2.0          1.666667  0.0   \n",
       "27850     1.0     2.0 -0.333333            0.0          0.333333  0.0   \n",
       "27851     1.0     2.0 -0.333333            0.0          0.333333  0.0   \n",
       "27852     1.0     2.0 -0.333333            0.0          0.333333  0.0   \n",
       "27853     1.0     2.0 -0.333333            0.0          0.333333  0.0   \n",
       "27854     1.0     2.0 -0.333333            0.0          0.333333  0.0   \n",
       "27855     1.0     2.0 -0.333333            0.0          0.333333  0.0   \n",
       "50363     1.0     2.0 -1.333333            1.0          1.333333  0.0   \n",
       "\n",
       "         MeanAD  Mod-z_score  \n",
       "3465   0.740741     2.154289  \n",
       "3466   0.740741     2.154289  \n",
       "27850  0.740741     0.000000  \n",
       "27851  0.740741     0.000000  \n",
       "27852  0.740741     0.000000  \n",
       "27853  0.740741     0.000000  \n",
       "27854  0.740741     0.000000  \n",
       "27855  0.740741     0.000000  \n",
       "50363  0.740741     1.077144  "
      ]
     },
     "execution_count": 87,
     "metadata": {},
     "output_type": "execute_result"
    }
   ],
   "source": [
    "MAD_data_equal0[(MAD_data_equal0[\"Sold-To Party\"] == \"2000727    SRI VEERABHADRA AGENCIES\") &\n",
    "                 (MAD_data_equal0[\"Prod_Name\"] == \"MEERA ADVANCE HW POWDER 120GM CONT 60 PC\")]"
   ]
  },
  {
   "cell_type": "code",
   "execution_count": 88,
   "metadata": {},
   "outputs": [],
   "source": [
    "# MAD_data_equal0.to_excel(r\"D:\\Analytics\\Undercutting\\South region - GT\\Outfiles\\MAD_Data_equal_0.xlsx\",index = False)"
   ]
  },
  {
   "cell_type": "code",
   "execution_count": 89,
   "metadata": {},
   "outputs": [],
   "source": [
    "MAD_data_greater0['Mod-z_score'] = MAD_data_greater0['MAD Bill. Qty']/(1.486 * MAD_data_greater0['MAD']) "
   ]
  },
  {
   "cell_type": "code",
   "execution_count": 90,
   "metadata": {},
   "outputs": [
    {
     "data": {
      "text/html": [
       "<div>\n",
       "<style scoped>\n",
       "    .dataframe tbody tr th:only-of-type {\n",
       "        vertical-align: middle;\n",
       "    }\n",
       "\n",
       "    .dataframe tbody tr th {\n",
       "        vertical-align: top;\n",
       "    }\n",
       "\n",
       "    .dataframe thead th {\n",
       "        text-align: right;\n",
       "    }\n",
       "</style>\n",
       "<table border=\"1\" class=\"dataframe\">\n",
       "  <thead>\n",
       "    <tr style=\"text-align: right;\">\n",
       "      <th></th>\n",
       "      <th>Sold-To Party</th>\n",
       "      <th>Date</th>\n",
       "      <th>Prod_Name</th>\n",
       "      <th>Bill. Qty</th>\n",
       "      <th>Count</th>\n",
       "      <th>Mean</th>\n",
       "      <th>stddev</th>\n",
       "      <th>Median</th>\n",
       "      <th>z-score</th>\n",
       "      <th>MAD Bill. Qty</th>\n",
       "      <th>MeanAD Bill. Qty</th>\n",
       "      <th>MAD</th>\n",
       "      <th>MeanAD</th>\n",
       "      <th>Mod-z_score</th>\n",
       "    </tr>\n",
       "  </thead>\n",
       "  <tbody>\n",
       "    <tr>\n",
       "      <th>0</th>\n",
       "      <td>2000001    N.CT. AGENCIES</td>\n",
       "      <td>2019-09-18</td>\n",
       "      <td>KARTHIKA HERBAL POWDER 5.8 GM 2000 PCS</td>\n",
       "      <td>1300.0</td>\n",
       "      <td>104</td>\n",
       "      <td>178.009615</td>\n",
       "      <td>156.689570</td>\n",
       "      <td>146.5</td>\n",
       "      <td>7.160594</td>\n",
       "      <td>1153.5</td>\n",
       "      <td>1121.990385</td>\n",
       "      <td>72.5</td>\n",
       "      <td>101.819527</td>\n",
       "      <td>10.706827</td>\n",
       "    </tr>\n",
       "    <tr>\n",
       "      <th>1</th>\n",
       "      <td>2000131    SRI PONNIAMMAN AGENCY</td>\n",
       "      <td>2019-04-10</td>\n",
       "      <td>KARTHIKA HERBAL POWDER 5.8 GM 2000 PCS</td>\n",
       "      <td>113.0</td>\n",
       "      <td>92</td>\n",
       "      <td>17.989130</td>\n",
       "      <td>14.311676</td>\n",
       "      <td>15.0</td>\n",
       "      <td>6.638696</td>\n",
       "      <td>98.0</td>\n",
       "      <td>95.010870</td>\n",
       "      <td>5.0</td>\n",
       "      <td>9.073960</td>\n",
       "      <td>13.189771</td>\n",
       "    </tr>\n",
       "    <tr>\n",
       "      <th>2</th>\n",
       "      <td>2000080    DHARSHU AGENCY</td>\n",
       "      <td>2018-12-03</td>\n",
       "      <td>MEERA HERBAL POWDER 120GM CONT 60 PCS</td>\n",
       "      <td>52.0</td>\n",
       "      <td>49</td>\n",
       "      <td>3.734694</td>\n",
       "      <td>7.347833</td>\n",
       "      <td>2.0</td>\n",
       "      <td>6.568645</td>\n",
       "      <td>50.0</td>\n",
       "      <td>48.265306</td>\n",
       "      <td>1.0</td>\n",
       "      <td>2.946272</td>\n",
       "      <td>33.647376</td>\n",
       "    </tr>\n",
       "    <tr>\n",
       "      <th>3</th>\n",
       "      <td>2000096    VICTORY ENTERPRISE</td>\n",
       "      <td>2018-09-18</td>\n",
       "      <td>MEERA HERBAL POWDER 120GM CONT 60 PCS</td>\n",
       "      <td>50.0</td>\n",
       "      <td>56</td>\n",
       "      <td>7.339286</td>\n",
       "      <td>6.506715</td>\n",
       "      <td>5.5</td>\n",
       "      <td>6.556414</td>\n",
       "      <td>44.5</td>\n",
       "      <td>42.660714</td>\n",
       "      <td>2.0</td>\n",
       "      <td>3.316964</td>\n",
       "      <td>14.973082</td>\n",
       "    </tr>\n",
       "    <tr>\n",
       "      <th>4</th>\n",
       "      <td>2000130    S.P. AGENCIES</td>\n",
       "      <td>2019-10-16</td>\n",
       "      <td>KARTHIKA HERBAL POWDER 5.8 GM 2000 PCS</td>\n",
       "      <td>250.0</td>\n",
       "      <td>90</td>\n",
       "      <td>41.577778</td>\n",
       "      <td>32.032279</td>\n",
       "      <td>32.5</td>\n",
       "      <td>6.506631</td>\n",
       "      <td>217.5</td>\n",
       "      <td>208.422222</td>\n",
       "      <td>14.0</td>\n",
       "      <td>21.471111</td>\n",
       "      <td>10.454720</td>\n",
       "    </tr>\n",
       "  </tbody>\n",
       "</table>\n",
       "</div>"
      ],
      "text/plain": [
       "                      Sold-To Party       Date  \\\n",
       "0         2000001    N.CT. AGENCIES 2019-09-18   \n",
       "1  2000131    SRI PONNIAMMAN AGENCY 2019-04-10   \n",
       "2         2000080    DHARSHU AGENCY 2018-12-03   \n",
       "3     2000096    VICTORY ENTERPRISE 2018-09-18   \n",
       "4          2000130    S.P. AGENCIES 2019-10-16   \n",
       "\n",
       "                                Prod_Name  Bill. Qty  Count        Mean  \\\n",
       "0  KARTHIKA HERBAL POWDER 5.8 GM 2000 PCS     1300.0    104  178.009615   \n",
       "1  KARTHIKA HERBAL POWDER 5.8 GM 2000 PCS      113.0     92   17.989130   \n",
       "2   MEERA HERBAL POWDER 120GM CONT 60 PCS       52.0     49    3.734694   \n",
       "3   MEERA HERBAL POWDER 120GM CONT 60 PCS       50.0     56    7.339286   \n",
       "4  KARTHIKA HERBAL POWDER 5.8 GM 2000 PCS      250.0     90   41.577778   \n",
       "\n",
       "       stddev  Median   z-score  MAD Bill. Qty  MeanAD Bill. Qty   MAD  \\\n",
       "0  156.689570   146.5  7.160594         1153.5       1121.990385  72.5   \n",
       "1   14.311676    15.0  6.638696           98.0         95.010870   5.0   \n",
       "2    7.347833     2.0  6.568645           50.0         48.265306   1.0   \n",
       "3    6.506715     5.5  6.556414           44.5         42.660714   2.0   \n",
       "4   32.032279    32.5  6.506631          217.5        208.422222  14.0   \n",
       "\n",
       "       MeanAD  Mod-z_score  \n",
       "0  101.819527    10.706827  \n",
       "1    9.073960    13.189771  \n",
       "2    2.946272    33.647376  \n",
       "3    3.316964    14.973082  \n",
       "4   21.471111    10.454720  "
      ]
     },
     "execution_count": 90,
     "metadata": {},
     "output_type": "execute_result"
    }
   ],
   "source": [
    "MAD_data_greater0.head(5)"
   ]
  },
  {
   "cell_type": "code",
   "execution_count": 91,
   "metadata": {},
   "outputs": [],
   "source": [
    "# MAD_data_greater0.to_excel(r\"D:\\Analytics\\Undercutting\\South region - GT\\Outfiles\\MAD_data_greater0.xlsx\",index = False)"
   ]
  },
  {
   "cell_type": "code",
   "execution_count": 92,
   "metadata": {},
   "outputs": [],
   "source": [
    "zscore_data = MAD_data_equal0.append(MAD_data_greater0)"
   ]
  },
  {
   "cell_type": "code",
   "execution_count": 93,
   "metadata": {},
   "outputs": [
    {
     "data": {
      "text/plain": [
       "Sold-To Party          0\n",
       "Date                   0\n",
       "Prod_Name              0\n",
       "Bill. Qty              0\n",
       "Count                  0\n",
       "Mean                   0\n",
       "stddev                 0\n",
       "Median                 0\n",
       "z-score             2199\n",
       "MAD Bill. Qty          0\n",
       "MeanAD Bill. Qty       0\n",
       "MAD                    0\n",
       "MeanAD                 0\n",
       "Mod-z_score         2199\n",
       "dtype: int64"
      ]
     },
     "execution_count": 93,
     "metadata": {},
     "output_type": "execute_result"
    }
   ],
   "source": [
    "zscore_data.isna().sum()"
   ]
  },
  {
   "cell_type": "code",
   "execution_count": 94,
   "metadata": {},
   "outputs": [],
   "source": [
    "zscore_data[\"z-score\"].fillna(0,inplace=True)"
   ]
  },
  {
   "cell_type": "code",
   "execution_count": 95,
   "metadata": {},
   "outputs": [],
   "source": [
    "zscore_data[\"Mod-z_score\"].fillna(0,inplace= True)"
   ]
  },
  {
   "cell_type": "code",
   "execution_count": 96,
   "metadata": {},
   "outputs": [],
   "source": [
    "# zscore_data.to_excel(r\"D:\\Analytics\\Undercutting\\South region - GT\\Data\\zscore_data.xlsx\",index = False)"
   ]
  },
  {
   "cell_type": "markdown",
   "metadata": {},
   "source": [
    "# Distributor Level data"
   ]
  },
  {
   "cell_type": "code",
   "execution_count": 97,
   "metadata": {},
   "outputs": [],
   "source": [
    "distributors_unique         = pd.DataFrame(data[\"Sold-To Party\"].unique())\n",
    "distributors_unique         = distributors_unique.rename(columns = {0 : \"Sold-To Party\"})\n",
    "new                         = distributors_unique[\"Sold-To Party\"].str.split(\"    \",expand = True)\n",
    "dist_ID                     = pd.DataFrame()\n",
    "dist_ID[\"Account\"]          = new[0]\n",
    "dist_ID[\"Distributor name\"] = new[1]\n",
    "Master_distributor_data     = pd.concat([distributors_unique,dist_ID],axis=1)"
   ]
  },
  {
   "cell_type": "code",
   "execution_count": 98,
   "metadata": {},
   "outputs": [],
   "source": [
    "# Master_distributor_data.to_excel(r\"D:\\Analytics\\Undercutting\\South region - GT\\Data\\Distributors data.xlsx\",index = False)"
   ]
  },
  {
   "cell_type": "code",
   "execution_count": 99,
   "metadata": {},
   "outputs": [],
   "source": [
    "materials_unique = pd.DataFrame(data[\"Material\"].unique())"
   ]
  },
  {
   "cell_type": "code",
   "execution_count": 100,
   "metadata": {},
   "outputs": [],
   "source": [
    "# materials_unique.to_excel(r\"D:\\Analytics\\Undercutting\\South region - GT\\Data\\Materials.xlsx\",index = False)"
   ]
  },
  {
   "cell_type": "code",
   "execution_count": null,
   "metadata": {},
   "outputs": [],
   "source": []
  },
  {
   "cell_type": "markdown",
   "metadata": {},
   "source": [
    "## MADe Calculation"
   ]
  },
  {
   "cell_type": "markdown",
   "metadata": {},
   "source": [
    "**FORMULA**     \n",
    "1. **2MADe Method = Median +/- 2MADe**     \n",
    "2. **3MADe Method = Median +/- 3MADe**            \n",
    "where MADe = 1.483 × MAD     \n",
    "      MAD = median {|xi −median(x)|}, i = 1,2,...,n"
   ]
  },
  {
   "cell_type": "code",
   "execution_count": 113,
   "metadata": {},
   "outputs": [],
   "source": [
    "zscore_data['MADe']     = 1.483 * zscore_data['MAD']\n",
    "zscore_data['Lower_lt'] = zscore_data['Median'] - (3 * zscore_data['MADe'])\n",
    "zscore_data['Upper_lt'] = zscore_data['Median'] + (3 * zscore_data['MADe'])\n",
    "zscore_data['3MADe']    = np.where((zscore_data['Bill. Qty'] < zscore_data['Lower_lt']) |\n",
    "                                    (zscore_data['Bill. Qty'] > zscore_data['Upper_lt']),\n",
    "                                    \"Outlier\",\n",
    "                                    \"Not Outlier\")"
   ]
  },
  {
   "cell_type": "code",
   "execution_count": 114,
   "metadata": {},
   "outputs": [
    {
     "data": {
      "text/html": [
       "<div>\n",
       "<style scoped>\n",
       "    .dataframe tbody tr th:only-of-type {\n",
       "        vertical-align: middle;\n",
       "    }\n",
       "\n",
       "    .dataframe tbody tr th {\n",
       "        vertical-align: top;\n",
       "    }\n",
       "\n",
       "    .dataframe thead th {\n",
       "        text-align: right;\n",
       "    }\n",
       "</style>\n",
       "<table border=\"1\" class=\"dataframe\">\n",
       "  <thead>\n",
       "    <tr style=\"text-align: right;\">\n",
       "      <th></th>\n",
       "      <th>Sold-To Party</th>\n",
       "      <th>Date</th>\n",
       "      <th>Prod_Name</th>\n",
       "      <th>Bill. Qty</th>\n",
       "      <th>Count</th>\n",
       "      <th>Mean</th>\n",
       "      <th>stddev</th>\n",
       "      <th>Median</th>\n",
       "      <th>z-score</th>\n",
       "      <th>MAD Bill. Qty</th>\n",
       "      <th>MeanAD Bill. Qty</th>\n",
       "      <th>MAD</th>\n",
       "      <th>MeanAD</th>\n",
       "      <th>Mod-z_score</th>\n",
       "      <th>MADe</th>\n",
       "      <th>Lower_lt</th>\n",
       "      <th>Upper_lt</th>\n",
       "      <th>3MADe</th>\n",
       "    </tr>\n",
       "  </thead>\n",
       "  <tbody>\n",
       "    <tr>\n",
       "      <th>8</th>\n",
       "      <td>2000098    ZARA DISTRIBUTORS</td>\n",
       "      <td>2019-04-27</td>\n",
       "      <td>KARTHIKA HERBAL POWDER 50GM 180 PCS</td>\n",
       "      <td>16.0</td>\n",
       "      <td>41</td>\n",
       "      <td>1.731707</td>\n",
       "      <td>2.356103</td>\n",
       "      <td>1.0</td>\n",
       "      <td>6.055888</td>\n",
       "      <td>15.0</td>\n",
       "      <td>14.268293</td>\n",
       "      <td>0.0</td>\n",
       "      <td>0.963712</td>\n",
       "      <td>12.418927</td>\n",
       "      <td>0.0</td>\n",
       "      <td>1.0</td>\n",
       "      <td>1.0</td>\n",
       "      <td>Outlier</td>\n",
       "    </tr>\n",
       "    <tr>\n",
       "      <th>9</th>\n",
       "      <td>2000090    SRI SRINIVASA AGENCIES</td>\n",
       "      <td>2019-09-27</td>\n",
       "      <td>KARTHIKA HERBAL POWDER CONT 180G 80PCS</td>\n",
       "      <td>8.0</td>\n",
       "      <td>53</td>\n",
       "      <td>1.471698</td>\n",
       "      <td>1.084928</td>\n",
       "      <td>1.0</td>\n",
       "      <td>6.017269</td>\n",
       "      <td>7.0</td>\n",
       "      <td>6.528302</td>\n",
       "      <td>0.0</td>\n",
       "      <td>0.658597</td>\n",
       "      <td>8.480436</td>\n",
       "      <td>0.0</td>\n",
       "      <td>1.0</td>\n",
       "      <td>1.0</td>\n",
       "      <td>Outlier</td>\n",
       "    </tr>\n",
       "    <tr>\n",
       "      <th>22</th>\n",
       "      <td>2000096    VICTORY ENTERPRISE</td>\n",
       "      <td>2019-03-08</td>\n",
       "      <td>KARTHIKA HERBAL POWDER CONT 180G 80PCS</td>\n",
       "      <td>6.0</td>\n",
       "      <td>49</td>\n",
       "      <td>1.428571</td>\n",
       "      <td>0.841625</td>\n",
       "      <td>1.0</td>\n",
       "      <td>5.431667</td>\n",
       "      <td>5.0</td>\n",
       "      <td>4.571429</td>\n",
       "      <td>0.0</td>\n",
       "      <td>0.577259</td>\n",
       "      <td>6.910971</td>\n",
       "      <td>0.0</td>\n",
       "      <td>1.0</td>\n",
       "      <td>1.0</td>\n",
       "      <td>Outlier</td>\n",
       "    </tr>\n",
       "    <tr>\n",
       "      <th>32</th>\n",
       "      <td>2000094    T.L AGENCIES</td>\n",
       "      <td>2019-07-13</td>\n",
       "      <td>KARTHIKA HERBAL POWDER 50GM 180 PCS</td>\n",
       "      <td>3.0</td>\n",
       "      <td>29</td>\n",
       "      <td>1.068966</td>\n",
       "      <td>0.371391</td>\n",
       "      <td>1.0</td>\n",
       "      <td>5.199469</td>\n",
       "      <td>2.0</td>\n",
       "      <td>1.931034</td>\n",
       "      <td>0.0</td>\n",
       "      <td>0.133175</td>\n",
       "      <td>11.982518</td>\n",
       "      <td>0.0</td>\n",
       "      <td>1.0</td>\n",
       "      <td>1.0</td>\n",
       "      <td>Outlier</td>\n",
       "    </tr>\n",
       "    <tr>\n",
       "      <th>37</th>\n",
       "      <td>2000097    VMR TRADERS</td>\n",
       "      <td>2019-03-27</td>\n",
       "      <td>KARTHIKA HERBAL POWDER 50GM 180 PCS</td>\n",
       "      <td>3.0</td>\n",
       "      <td>47</td>\n",
       "      <td>1.106383</td>\n",
       "      <td>0.374981</td>\n",
       "      <td>1.0</td>\n",
       "      <td>5.049905</td>\n",
       "      <td>2.0</td>\n",
       "      <td>1.893617</td>\n",
       "      <td>0.0</td>\n",
       "      <td>0.194658</td>\n",
       "      <td>8.197801</td>\n",
       "      <td>0.0</td>\n",
       "      <td>1.0</td>\n",
       "      <td>1.0</td>\n",
       "      <td>Outlier</td>\n",
       "    </tr>\n",
       "  </tbody>\n",
       "</table>\n",
       "</div>"
      ],
      "text/plain": [
       "                        Sold-To Party       Date  \\\n",
       "8        2000098    ZARA DISTRIBUTORS 2019-04-27   \n",
       "9   2000090    SRI SRINIVASA AGENCIES 2019-09-27   \n",
       "22      2000096    VICTORY ENTERPRISE 2019-03-08   \n",
       "32            2000094    T.L AGENCIES 2019-07-13   \n",
       "37             2000097    VMR TRADERS 2019-03-27   \n",
       "\n",
       "                                 Prod_Name  Bill. Qty  Count      Mean  \\\n",
       "8      KARTHIKA HERBAL POWDER 50GM 180 PCS       16.0     41  1.731707   \n",
       "9   KARTHIKA HERBAL POWDER CONT 180G 80PCS        8.0     53  1.471698   \n",
       "22  KARTHIKA HERBAL POWDER CONT 180G 80PCS        6.0     49  1.428571   \n",
       "32     KARTHIKA HERBAL POWDER 50GM 180 PCS        3.0     29  1.068966   \n",
       "37     KARTHIKA HERBAL POWDER 50GM 180 PCS        3.0     47  1.106383   \n",
       "\n",
       "      stddev  Median   z-score  MAD Bill. Qty  MeanAD Bill. Qty  MAD  \\\n",
       "8   2.356103     1.0  6.055888           15.0         14.268293  0.0   \n",
       "9   1.084928     1.0  6.017269            7.0          6.528302  0.0   \n",
       "22  0.841625     1.0  5.431667            5.0          4.571429  0.0   \n",
       "32  0.371391     1.0  5.199469            2.0          1.931034  0.0   \n",
       "37  0.374981     1.0  5.049905            2.0          1.893617  0.0   \n",
       "\n",
       "      MeanAD  Mod-z_score  MADe  Lower_lt  Upper_lt    3MADe  \n",
       "8   0.963712    12.418927   0.0       1.0       1.0  Outlier  \n",
       "9   0.658597     8.480436   0.0       1.0       1.0  Outlier  \n",
       "22  0.577259     6.910971   0.0       1.0       1.0  Outlier  \n",
       "32  0.133175    11.982518   0.0       1.0       1.0  Outlier  \n",
       "37  0.194658     8.197801   0.0       1.0       1.0  Outlier  "
      ]
     },
     "execution_count": 114,
     "metadata": {},
     "output_type": "execute_result"
    }
   ],
   "source": [
    "zscore_data.head()"
   ]
  },
  {
   "cell_type": "code",
   "execution_count": 115,
   "metadata": {},
   "outputs": [],
   "source": [
    "zscore_data.to_excel(r\"D:\\Analytics\\Undercutting\\South region - GT\\Data\\zscore_data.xlsx\",index = False)"
   ]
  },
  {
   "cell_type": "code",
   "execution_count": null,
   "metadata": {},
   "outputs": [],
   "source": []
  }
 ],
 "metadata": {
  "kernelspec": {
   "display_name": "Python 3",
   "language": "python",
   "name": "python3"
  },
  "language_info": {
   "codemirror_mode": {
    "name": "ipython",
    "version": 3
   },
   "file_extension": ".py",
   "mimetype": "text/x-python",
   "name": "python",
   "nbconvert_exporter": "python",
   "pygments_lexer": "ipython3",
   "version": "3.7.5"
  }
 },
 "nbformat": 4,
 "nbformat_minor": 4
}
